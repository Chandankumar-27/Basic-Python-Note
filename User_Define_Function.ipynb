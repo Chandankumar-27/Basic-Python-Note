{
 "cells": [
  {
   "cell_type": "markdown",
   "id": "2901f9e8-2565-405f-b8f2-f7ded23e893d",
   "metadata": {},
   "source": [
    "# User Define  Function"
   ]
  },
  {
   "cell_type": "markdown",
   "id": "1d150fc4-ae9d-42a2-b918-0b486bd9c8b8",
   "metadata": {},
   "source": [
    "### Creating and Calling a function"
   ]
  },
  {
   "cell_type": "code",
   "execution_count": 2,
   "id": "b15df093-a159-4c48-8fd9-bd3ec4e76b7d",
   "metadata": {},
   "outputs": [
    {
     "name": "stdout",
     "output_type": "stream",
     "text": [
      "Hello,Boss how are you!\n"
     ]
    }
   ],
   "source": [
    "def my_function():\n",
    "    print(\"Hello,Boss how are you!\")\n",
    "\n",
    "my_function()"
   ]
  },
  {
   "cell_type": "markdown",
   "id": "dae09f05-10b5-4dd0-9b09-68a0c3972a01",
   "metadata": {},
   "source": [
    "### Question 1"
   ]
  },
  {
   "cell_type": "markdown",
   "id": "c1e5ae44-6b0d-40b3-be03-2ce2a9ce13b4",
   "metadata": {},
   "source": [
    "##### Write a program to calculate electricty unit to inr"
   ]
  },
  {
   "cell_type": "code",
   "execution_count": 7,
   "id": "b3d58006-9bf0-4dd8-a236-3b85c2d8f288",
   "metadata": {},
   "outputs": [
    {
     "name": "stdin",
     "output_type": "stream",
     "text": [
      "Enter your name ravi\n",
      "Enter your consume unit 200\n"
     ]
    },
    {
     "name": "stdout",
     "output_type": "stream",
     "text": [
      "Total bill amount is:- 2000.0\n",
      "The last date of the bill payment is on next week sunday\n",
      "after deadline you need to pay 1000 extra fine\n",
      " please pay your bill soon\n"
     ]
    },
    {
     "name": "stdin",
     "output_type": "stream",
     "text": [
      "Enter your name chandan\n",
      "Enter your consume unit 200\n"
     ]
    },
    {
     "name": "stdout",
     "output_type": "stream",
     "text": [
      "Total bill amount is:- 2000.0\n",
      "The last date of the bill payment is on next week sunday\n",
      "after deadline you need to pay 1000 extra fine\n",
      " please pay your bill soon\n"
     ]
    },
    {
     "name": "stdin",
     "output_type": "stream",
     "text": [
      "Enter your name deepak 800\n",
      "Enter your consume unit 500\n"
     ]
    },
    {
     "name": "stdout",
     "output_type": "stream",
     "text": [
      "Total bill amount is:- 5000.0\n",
      "The last date of the bill payment is on next week sunday\n",
      "after deadline you need to pay 1000 extra fine\n",
      " please pay your bill soon\n"
     ]
    }
   ],
   "source": [
    "def info_bill():\n",
    "    print(\"The last date of the bill payment is on next week sunday\")\n",
    "    print(\"after deadline you need to pay 1000 extra fine\")\n",
    "    print(\" please pay your bill soon\")\n",
    "\n",
    "for i in range(3):\n",
    "    user_first=input(\"Enter your name\")\n",
    "    user_consume_unit=float(input(\"Enter your consume unit\"))\n",
    "    bill=user_consume_unit*10\n",
    "    print(\"Total bill amount is:-\",bill)\n",
    "    info_bill() "
   ]
  },
  {
   "cell_type": "markdown",
   "id": "2ac1c0af-45ee-4196-8d7f-77b2604cdf7b",
   "metadata": {},
   "source": [
    "## Argumant"
   ]
  },
  {
   "cell_type": "markdown",
   "id": "7fa0a9c3-9920-4f27-af8a-ad03da2e3c13",
   "metadata": {},
   "source": [
    "##### MAke a program to check number is even or ODD"
   ]
  },
  {
   "cell_type": "code",
   "execution_count": 20,
   "id": "3e9f1ba7-8b89-43f4-8b56-e50a47b67e0d",
   "metadata": {},
   "outputs": [
    {
     "name": "stdin",
     "output_type": "stream",
     "text": [
      "Enter number for check ODD Or Even 25\n"
     ]
    },
    {
     "name": "stdout",
     "output_type": "stream",
     "text": [
      "This number is ODD\n"
     ]
    }
   ],
   "source": [
    "def Odd_Even(x):# recevied Argument\n",
    "    if(num%2==0):\n",
    "        print(\"This number is Even\")\n",
    "    else:\n",
    "        print(\"This number is ODD\")\n",
    "num=int(input(\"Enter number for check ODD Or Even\")) # input from user       \n",
    "Odd_Even(num) # pass the Argumant       "
   ]
  },
  {
   "cell_type": "markdown",
   "id": "08467a69-2c86-4066-9473-12326ac980a7",
   "metadata": {},
   "source": [
    "### 2 Argument"
   ]
  },
  {
   "cell_type": "code",
   "execution_count": 9,
   "id": "c4ba7662-1bc0-4148-b8d0-3e55fdf3e9d2",
   "metadata": {},
   "outputs": [
    {
     "name": "stdin",
     "output_type": "stream",
     "text": [
      "Enter first Name chandan\n",
      "Enter  Last Name rai\n"
     ]
    },
    {
     "name": "stdout",
     "output_type": "stream",
     "text": [
      "chandan rai\n"
     ]
    }
   ],
   "source": [
    "def my_name(fname,lastname):\n",
    "    print(fname + \" \"+ lastname)\n",
    "name=input(\"Enter first Name\")\n",
    "name2=input(\"Enter  Last Name\")\n",
    "my_name(name,name2)    "
   ]
  },
  {
   "cell_type": "markdown",
   "id": "8758ebe3-2056-4adb-9e68-bce9cff43d82",
   "metadata": {},
   "source": [
    "### Question 2"
   ]
  },
  {
   "cell_type": "raw",
   "id": "bdf560fa-b3b7-4efe-919b-405f52eba5d1",
   "metadata": {},
   "source": [
    "write a user-defined function to process the exam score and calculate the following statistics:\n",
    "\n",
    "The average exam score.\n",
    "The highest exam score.\n",
    "The lowest exam score.\n",
    "The number of student who passed the exam (assuming a passing score is 80 or abvove.)\n",
    "The number of student who failed the exam.\n",
    "\n",
    "exam_scores =[85,92,78,90,88,95,82,79,87,91]\n"
   ]
  },
  {
   "cell_type": "code",
   "execution_count": 62,
   "id": "b44862c5-b3a0-4789-895d-d67fa7b6fd04",
   "metadata": {},
   "outputs": [
    {
     "name": "stdout",
     "output_type": "stream",
     "text": [
      "The average of exam score is:- 86.7\n",
      "The highest exam score is:- 95\n",
      "The lowest exam score is:- 78\n",
      "The Number of student who passed the exam 80 abvove is:- 8\n",
      "The Number of student who fail the exam is:- 2\n"
     ]
    }
   ],
   "source": [
    "#solve:-\n",
    "#case 1\n",
    "\n",
    "#The Average exam score\n",
    "#exam_score =[85,92,78,90,88,95,82,79,87,91]\n",
    "def exam_calculate(exam_score): \n",
    "    my_len=len(exam_score)\n",
    "    sum=0\n",
    "    for i in range(0,my_len):\n",
    "        sum = (sum + exam_score[i])    \n",
    "    print(\"The average of exam score is:-\",(sum/my_len))\n",
    "    print(\"The highest exam score is:-\",max(exam_score))\n",
    "    print(\"The lowest exam score is:-\",min(exam_score))\n",
    "exam_score =[85,92,78,90,88,95,82,79,87,91]    \n",
    "exam_calculate(exam_score)\n",
    "\n",
    "# Calculate passed Student program\n",
    "count=0\n",
    "for i in exam_score:\n",
    "    if(i>=80):\n",
    "        count=count+1\n",
    "        #print(\"80 Abvove score is:-\",i)\n",
    "print(\"The Number of student who passed the exam 80 abvove is:-\",count)\n",
    "\n",
    "\n",
    "# calculate fail student\n",
    "count=0\n",
    "for i in exam_score:\n",
    "    if(i<80):\n",
    "        count=count+1\n",
    "        #print(\"80 less failed score is:-\",i)\n",
    "print(\"The Number of student who fail the exam is:-\",count)"
   ]
  },
  {
   "cell_type": "code",
   "execution_count": null,
   "id": "294339a2-3963-455d-be85-6a27d7370e26",
   "metadata": {},
   "outputs": [],
   "source": []
  }
 ],
 "metadata": {
  "kernelspec": {
   "display_name": "Python 3 (ipykernel)",
   "language": "python",
   "name": "python3"
  },
  "language_info": {
   "codemirror_mode": {
    "name": "ipython",
    "version": 3
   },
   "file_extension": ".py",
   "mimetype": "text/x-python",
   "name": "python",
   "nbconvert_exporter": "python",
   "pygments_lexer": "ipython3",
   "version": "3.12.4"
  }
 },
 "nbformat": 4,
 "nbformat_minor": 5
}

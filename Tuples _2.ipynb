{
 "cells": [
  {
   "cell_type": "markdown",
   "id": "77fb23e3-5787-464d-8d4a-3dd412e1e038",
   "metadata": {},
   "source": [
    "# Tuples part-2"
   ]
  },
  {
   "cell_type": "markdown",
   "id": "bf073003-dd3e-475a-af1f-8106af212e58",
   "metadata": {},
   "source": [
    "### Indexing      (postive indexing)&(Negative ind)"
   ]
  },
  {
   "cell_type": "code",
   "execution_count": 5,
   "id": "e0de9786-ceca-421a-ba5b-1c12d640cf20",
   "metadata": {},
   "outputs": [
    {
     "name": "stdout",
     "output_type": "stream",
     "text": [
      "apple\n",
      "charry\n",
      "banana\n"
     ]
    }
   ],
   "source": [
    "my_tuple= ('apple','charry','banana')\n",
    "print(my_tuple[0]) \n",
    "print(my_tuple[1])\n",
    "print(my_tuple[2]) "
   ]
  },
  {
   "cell_type": "markdown",
   "id": "8803e3f4-06e7-4194-a2d8-eb820cdda2e8",
   "metadata": {},
   "source": [
    "#### Negative indexing"
   ]
  },
  {
   "cell_type": "code",
   "execution_count": 7,
   "id": "0b63b1c1-d48a-4224-9515-6f778fefa0fb",
   "metadata": {},
   "outputs": [
    {
     "name": "stdout",
     "output_type": "stream",
     "text": [
      "banana\n",
      "charry\n",
      "apple\n"
     ]
    }
   ],
   "source": [
    "my_tuple= ('apple','charry','banana')\n",
    "print(my_tuple[-1]) \n",
    "print(my_tuple[-2])\n",
    "print(my_tuple[0]) "
   ]
  },
  {
   "cell_type": "markdown",
   "id": "d0ba1148-9892-4c9a-b2e3-427dec9bfbed",
   "metadata": {},
   "source": [
    "### Slicing in tuple"
   ]
  },
  {
   "cell_type": "code",
   "execution_count": 11,
   "id": "a7e9aa51-4afc-4ab1-bdf2-92c34fa1a845",
   "metadata": {},
   "outputs": [
    {
     "name": "stdout",
     "output_type": "stream",
     "text": [
      "('a', 'c', 'b', 'd', 'e')\n",
      "('a', 'c', 'b')\n",
      "('a', 'c', 'b')\n",
      "('d', 'e')\n"
     ]
    }
   ],
   "source": [
    "my_tuple= ('a','c','b','d','e')\n",
    "print(my_tuple[:])\n",
    "print(my_tuple[0:3])\n",
    "print(my_tuple[:3])\n",
    "print(my_tuple[3:])"
   ]
  },
  {
   "cell_type": "markdown",
   "id": "07cbdfee-a4cf-444c-91b7-6403923178b3",
   "metadata": {},
   "source": [
    "### Reverseing the tuple"
   ]
  },
  {
   "cell_type": "code",
   "execution_count": 10,
   "id": "15fd7fd6-5940-44bb-858f-6f973c7e4a06",
   "metadata": {},
   "outputs": [
    {
     "name": "stdout",
     "output_type": "stream",
     "text": [
      "('e', 'd', 'b', 'c', 'a')\n"
     ]
    }
   ],
   "source": [
    "my_tuple= ('a','c','b','d','e')\n",
    "print(my_tuple[::-1])"
   ]
  },
  {
   "cell_type": "markdown",
   "id": "e8fd69d9-a201-4328-b375-8cc7c1f9d489",
   "metadata": {},
   "source": [
    "### Jumping slicing  [::jump index]"
   ]
  },
  {
   "cell_type": "code",
   "execution_count": 14,
   "id": "eb09b1b3-9cbb-4f5e-a1ce-5ecf5547483d",
   "metadata": {},
   "outputs": [
    {
     "name": "stdout",
     "output_type": "stream",
     "text": [
      "('a', 'd')\n"
     ]
    }
   ],
   "source": [
    "my_tuple= ('a','c','b','d','e')\n",
    "print(my_tuple[::3])"
   ]
  },
  {
   "cell_type": "code",
   "execution_count": 29,
   "id": "04c30737-fc21-4bf1-b56b-600c0379f34d",
   "metadata": {},
   "outputs": [
    {
     "name": "stdout",
     "output_type": "stream",
     "text": [
      "(1, 2, 3, 4, 5, 6, 7, 8)\n",
      "(4, 5, 6, 7, 8)\n",
      "(1, 2, 3, 4)\n"
     ]
    }
   ],
   "source": [
    "t=(1,2,3,4,5,6,7,8)\n",
    "print(t[::]) # for same print use double colon\n",
    "print(t[3:])\n",
    "print(t[:4])"
   ]
  },
  {
   "cell_type": "markdown",
   "id": "9dfaafc3-0f1c-4f10-b054-9c8ecf108c7c",
   "metadata": {},
   "source": [
    "### Duplicates are allowed in the tuple"
   ]
  },
  {
   "cell_type": "code",
   "execution_count": 30,
   "id": "a8e5d788-db2e-461e-a253-7e0d0bfbe595",
   "metadata": {},
   "outputs": [
    {
     "name": "stdout",
     "output_type": "stream",
     "text": [
      "(12, 12, 14, 15, 15, 13, 14, 13, 14)\n"
     ]
    }
   ],
   "source": [
    "a=(12,12,14,15,15,13,14,13,14)\n",
    "print(a)"
   ]
  },
  {
   "cell_type": "markdown",
   "id": "37898ca7-2ba3-468a-b86b-d914a4265922",
   "metadata": {},
   "source": [
    "### Method of tuples"
   ]
  },
  {
   "cell_type": "markdown",
   "id": "d6d28163-8754-48f9-b7e3-a2bb26c94a9d",
   "metadata": {},
   "source": [
    "#### Count method           [a.count(count value)]"
   ]
  },
  {
   "cell_type": "code",
   "execution_count": 36,
   "id": "514eddcc-e3ce-496a-a364-5b1ae8437108",
   "metadata": {},
   "outputs": [
    {
     "name": "stdout",
     "output_type": "stream",
     "text": [
      "2\n",
      "3\n"
     ]
    }
   ],
   "source": [
    "a=(12,12,14,15,15,15,13,14,13,14)\n",
    "print(a.count(12))\n",
    "print(a.count(15))"
   ]
  },
  {
   "cell_type": "code",
   "execution_count": 39,
   "id": "5742df04-d7ca-42da-b14a-a2d5d5e12137",
   "metadata": {},
   "outputs": [
    {
     "name": "stdout",
     "output_type": "stream",
     "text": [
      "3\n"
     ]
    }
   ],
   "source": [
    "my_tuple= ('apple','charry','banana','chandan','Deepak','chandan','chandan') #(.count)\n",
    "print(my_tuple.count('chandan'))"
   ]
  },
  {
   "cell_type": "markdown",
   "id": "382cd763-c9c5-49ba-bc0d-04bfeddf8d58",
   "metadata": {},
   "source": [
    "#### Index method to know about our string index  (.index)"
   ]
  },
  {
   "cell_type": "code",
   "execution_count": 48,
   "id": "7e80ab43-c013-45b3-94d3-f9e89c0b7153",
   "metadata": {},
   "outputs": [
    {
     "name": "stdout",
     "output_type": "stream",
     "text": [
      "Index of Deepak is:- 4\n",
      "Index of Charry is:- 1\n"
     ]
    }
   ],
   "source": [
    "my_tuple= ('apple','charry','banana','chandan','Deepak','chandan','chandan')\n",
    "print(\"Index of Deepak is:-\",my_tuple.index('Deepak'))\n",
    "print(\"Index of Charry is:-\",my_tuple.index('charry'))"
   ]
  },
  {
   "cell_type": "markdown",
   "id": "34142ee4-da0b-4454-8b5c-1c2a9ee8259a",
   "metadata": {},
   "source": [
    "### Conveting tuple into list   -list(value)\n",
    "##### we can any changes into tuple by converting in to tuple to list and change any thing into list and \n",
    "##### again change list to tuple() form these step to change our tuple element easy."
   ]
  },
  {
   "cell_type": "code",
   "execution_count": null,
   "id": "0cb2ac2d-89d2-49dc-956a-bfd39873fac0",
   "metadata": {},
   "outputs": [],
   "source": [
    "a=(\"data\",\"Chandan\",\"Python\")\n",
    "print(type(a))\n",
    "y=list(a)\n",
    "print(type(y))\n",
    "\n",
    "# change list element\n",
    "y[1]=\"science\"\n",
    "print(y)\n",
    "\n",
    "# add element in list\n",
    "y.append(\"learn\")\n",
    "print(y)\n",
    "\n",
    "#removeing element in list\n",
    "y.remove(\"learn\")\n",
    "print(y)\n",
    "\n",
    "#add element in index wise\n",
    "y.insert(0,\"course\") # (index number,value)\n",
    "print(y)\n",
    "\n",
    "#with change value in the convert in to tuple again\n",
    "b=tuple(y)\n",
    "print(b)\n",
    "print(type(b))"
   ]
  },
  {
   "cell_type": "markdown",
   "id": "087adfaa-118a-49b6-89fe-e77a5ca78908",
   "metadata": {},
   "source": [
    "### Add tuple to a tuple`"
   ]
  },
  {
   "cell_type": "code",
   "execution_count": 68,
   "id": "01ba38d6-1554-4edc-a91e-e468f426f563",
   "metadata": {},
   "outputs": [
    {
     "name": "stdout",
     "output_type": "stream",
     "text": [
      "('python', 'data', 'science', 'code')\n"
     ]
    }
   ],
   "source": [
    "tup=('python',\"data\",'science')\n",
    "tup2=(\"code\",)\n",
    "tup+=tup2\n",
    "print(tup)"
   ]
  },
  {
   "cell_type": "markdown",
   "id": "958b3735-90e4-46d2-b02b-9e6725754463",
   "metadata": {},
   "source": [
    "### Remove Item (.remove())"
   ]
  },
  {
   "cell_type": "code",
   "execution_count": 72,
   "id": "a7f0e23c-660e-4f47-942c-6b6c26b17023",
   "metadata": {},
   "outputs": [
    {
     "name": "stdout",
     "output_type": "stream",
     "text": [
      "('apple', 'charry', 'chandan', 'Deepak', 'chandan', 'chandan')\n"
     ]
    }
   ],
   "source": [
    "my_tuple= ('apple','charry','banana','chandan','Deepak','chandan','chandan')\n",
    "\n",
    "#convert into list and remove item\n",
    "my_list=list(my_tuple)\n",
    "my_list.remove(\"banana\")\n",
    "\n",
    "#convert in to tuple\n",
    "new_tup=tuple(my_list)\n",
    "print(new_tup)"
   ]
  },
  {
   "cell_type": "markdown",
   "id": "a803533f-b1ba-4ceb-b6fe-224eeeca1383",
   "metadata": {},
   "source": [
    "### Change the  Item in the tuple"
   ]
  },
  {
   "cell_type": "code",
   "execution_count": 74,
   "id": "83d68e24-598b-4fd3-9c6d-4d75f919e14f",
   "metadata": {},
   "outputs": [
    {
     "name": "stdout",
     "output_type": "stream",
     "text": [
      "('apple', 'charry', 'bluebarry', 'chandan', 'Deepak')\n"
     ]
    }
   ],
   "source": [
    "my_tuple= ('apple','charry','banana','chandan','Deepak')\n",
    "\n",
    "new_list=list(my_tuple)\n",
    "\n",
    "new_list[2]=\"bluebarry\"\n",
    "\n",
    "y=tuple(new_list)\n",
    "print(y)"
   ]
  },
  {
   "cell_type": "markdown",
   "id": "7ea5c4f3-180a-46e9-8906-2d0361034935",
   "metadata": {},
   "source": [
    "### delet Keyword del"
   ]
  },
  {
   "cell_type": "code",
   "execution_count": 79,
   "id": "79c56caa-0970-4292-aa79-8fcba0e20d43",
   "metadata": {},
   "outputs": [],
   "source": [
    "#deleting all item complate delet\n",
    "x=(2,3,4,5)\n",
    "del x\n"
   ]
  },
  {
   "cell_type": "markdown",
   "id": "c96d9b01-88b0-4332-a866-32010c0648cd",
   "metadata": {},
   "source": [
    "### Loop through a tuple"
   ]
  },
  {
   "cell_type": "code",
   "execution_count": 82,
   "id": "e915c63b-677e-4a7d-8a4d-9cda0b657234",
   "metadata": {},
   "outputs": [
    {
     "name": "stdout",
     "output_type": "stream",
     "text": [
      "a\n",
      "b\n",
      "c\n"
     ]
    }
   ],
   "source": [
    "this_tuple=(\"a\",\"b\",\"c\")\n",
    "for i in this_tuple:\n",
    "    print(i)"
   ]
  },
  {
   "cell_type": "markdown",
   "id": "7e9d6d8f-4d11-4440-b363-b95926dc86e2",
   "metadata": {},
   "source": [
    "### Join two tuple with '+'oprater"
   ]
  },
  {
   "cell_type": "code",
   "execution_count": 85,
   "id": "f8d0c585-752c-43f4-9385-95ecc07280ef",
   "metadata": {},
   "outputs": [
    {
     "name": "stdout",
     "output_type": "stream",
     "text": [
      "(1, 2, 3, 4, 'a', 'b', 'c')\n"
     ]
    }
   ],
   "source": [
    "x=(1,2,3,4,)\n",
    "y=(\"a\",\"b\",\"c\")\n",
    "print(x+y)"
   ]
  },
  {
   "cell_type": "markdown",
   "id": "e5cc4bea-19b9-43b4-963c-4a283ad0f710",
   "metadata": {},
   "source": [
    "### Multiply tuples"
   ]
  },
  {
   "cell_type": "code",
   "execution_count": 88,
   "id": "55556b28-c1ce-45a3-974d-8a492be8dbbd",
   "metadata": {},
   "outputs": [
    {
     "name": "stdout",
     "output_type": "stream",
     "text": [
      "('apple', 'charry', 'banana', 'apple', 'charry', 'banana')\n",
      "('apple', 'charry', 'banana', 'apple', 'charry', 'banana', 'apple', 'charry', 'banana', 'apple', 'charry', 'banana')\n"
     ]
    }
   ],
   "source": [
    "my_tuple= ('apple','charry','banana')\n",
    "my_tup=my_tuple*2\n",
    "print(my_tup)\n",
    "my_tup=my_tuple*4\n",
    "print(my_tup)"
   ]
  },
  {
   "cell_type": "code",
   "execution_count": null,
   "id": "2ed4b3b9-feb7-4eb5-ab70-7dba9b04a3c1",
   "metadata": {},
   "outputs": [],
   "source": []
  }
 ],
 "metadata": {
  "kernelspec": {
   "display_name": "Python 3 (ipykernel)",
   "language": "python",
   "name": "python3"
  },
  "language_info": {
   "codemirror_mode": {
    "name": "ipython",
    "version": 3
   },
   "file_extension": ".py",
   "mimetype": "text/x-python",
   "name": "python",
   "nbconvert_exporter": "python",
   "pygments_lexer": "ipython3",
   "version": "3.12.4"
  }
 },
 "nbformat": 4,
 "nbformat_minor": 5
}

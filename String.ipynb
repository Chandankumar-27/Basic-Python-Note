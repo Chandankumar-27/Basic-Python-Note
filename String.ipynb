{
 "cells": [
  {
   "cell_type": "markdown",
   "id": "f9fe09eb-2c44-4d14-96e9-0f82b5eaec4d",
   "metadata": {},
   "source": [
    "# String In Python"
   ]
  },
  {
   "cell_type": "markdown",
   "id": "cc7f02f7-8f41-4324-a2ae-180da8400e57",
   "metadata": {},
   "source": [
    "### Creating String in Python"
   ]
  },
  {
   "cell_type": "code",
   "execution_count": 1,
   "id": "7dfbce40-c342-4638-8dc1-827df7955ad5",
   "metadata": {},
   "outputs": [
    {
     "name": "stdout",
     "output_type": "stream",
     "text": [
      "learners\n",
      "<class 'str'>\n"
     ]
    }
   ],
   "source": [
    "a = 'learners'\n",
    "print(a)\n",
    "print(type(a))"
   ]
  },
  {
   "cell_type": "code",
   "execution_count": 2,
   "id": "b3ec8346-34e8-45bc-831e-409c1723edc4",
   "metadata": {},
   "outputs": [
    {
     "name": "stdout",
     "output_type": "stream",
     "text": [
      "learners\n",
      "<class 'str'>\n"
     ]
    }
   ],
   "source": [
    "a = \"learners\"\n",
    "print(a)\n",
    "print(type(a))"
   ]
  },
  {
   "cell_type": "code",
   "execution_count": 4,
   "id": "c663b0f3-21d4-420d-9685-e54a4fb7578a",
   "metadata": {},
   "outputs": [
    {
     "name": "stdout",
     "output_type": "stream",
     "text": [
      "i am Chandan \n",
      "This is my First Class\n",
      "<class 'str'>\n"
     ]
    }
   ],
   "source": [
    "a = \"i am Chandan \\nThis is my First Class\"\n",
    "print(a)\n",
    "print(type(a))"
   ]
  },
  {
   "cell_type": "markdown",
   "id": "7cc05c2c-9cff-4c0f-ac0e-34975837bdc9",
   "metadata": {},
   "source": [
    "### Multiline string ('''    ''')"
   ]
  },
  {
   "cell_type": "code",
   "execution_count": 5,
   "id": "0abfd13d-0130-462d-97d3-b4f2598fa02a",
   "metadata": {},
   "outputs": [
    {
     "name": "stdout",
     "output_type": "stream",
     "text": [
      " Data science is \"a concept to unify statistics, data analysis, informatics, and their related \n",
      "methods\" to \"understand and analyze actual phenomena\" with data.[5] \n",
      "It uses  techniques and theories drawn from many\n",
      "fields within the context of mathematics, statistics, computer science,\n"
     ]
    }
   ],
   "source": [
    "a=\"\"\" Data science is \"a concept to unify statistics, data analysis, informatics, and their related \n",
    "methods\" to \"understand and analyze actual phenomena\" with data.[5] \n",
    "It uses  techniques and theories drawn from many\n",
    "fields within the context of mathematics, statistics, computer science,\"\"\"\n",
    "print(a)"
   ]
  },
  {
   "cell_type": "markdown",
   "id": "4c96e535-24e5-4ea3-ace0-e563e8936f1b",
   "metadata": {},
   "source": [
    "### Indexing as Strings"
   ]
  },
  {
   "cell_type": "code",
   "execution_count": 11,
   "id": "2f16ec88-3dd7-4fc4-b280-57259818d905",
   "metadata": {},
   "outputs": [
    {
     "name": "stdout",
     "output_type": "stream",
     "text": [
      "H\n",
      "e\n",
      "l\n",
      "l\n",
      "o\n",
      " \n",
      "d\n",
      "e\n",
      "a\n",
      "r\n",
      " \n",
      "L\n",
      "e\n",
      "a\n",
      "r\n",
      "n\n",
      "e\n",
      "r\n",
      "s\n"
     ]
    }
   ],
   "source": [
    "a=\"Hello dear Learners\"\n",
    "#print(a[0])\n",
    "#print(a[1])\n",
    "for i in a:\n",
    "    print(i)"
   ]
  },
  {
   "cell_type": "code",
   "execution_count": 12,
   "id": "2f389cb1-f74d-4a0a-a291-8a648695311d",
   "metadata": {},
   "outputs": [
    {
     "name": "stdout",
     "output_type": "stream",
     "text": [
      "s\n",
      "r\n",
      "e\n",
      "n\n"
     ]
    }
   ],
   "source": [
    "a=\"Hello dear Learners\"\n",
    "print(a[-1])\n",
    "print(a[-2])\n",
    "print(a[-3])\n",
    "print(a[-4])"
   ]
  },
  {
   "cell_type": "code",
   "execution_count": 14,
   "id": "2c03d2f5-5cbd-4bb0-af01-95cb46d328c1",
   "metadata": {},
   "outputs": [
    {
     "name": "stdout",
     "output_type": "stream",
     "text": [
      "d l D\n"
     ]
    }
   ],
   "source": [
    "b=\"Data science is the growing field\"\n",
    "print(b[-1],b[-2],b[0])\n"
   ]
  },
  {
   "cell_type": "markdown",
   "id": "6205e069-46a2-4de8-9802-f8367aa67d1a",
   "metadata": {},
   "source": [
    "### Slicing in String"
   ]
  },
  {
   "cell_type": "code",
   "execution_count": 15,
   "id": "618e62dd-ff60-49a1-a0b9-643b7162501a",
   "metadata": {},
   "outputs": [
    {
     "name": "stdout",
     "output_type": "stream",
     "text": [
      "i am \n"
     ]
    }
   ],
   "source": [
    "a=\"i am learning a Data science\"\n",
    "print(a[0:5])"
   ]
  },
  {
   "cell_type": "code",
   "execution_count": 16,
   "id": "c6559f1b-ce32-4fe6-94c2-a7d6dc790ee9",
   "metadata": {},
   "outputs": [
    {
     "name": "stdout",
     "output_type": "stream",
     "text": [
      "i am learn\n"
     ]
    }
   ],
   "source": [
    "a=\"i am learning a Data science\"\n",
    "print(a[0:10])"
   ]
  },
  {
   "cell_type": "code",
   "execution_count": 18,
   "id": "01e8730b-4e6e-4c7b-a7ac-52dbd849893b",
   "metadata": {},
   "outputs": [
    {
     "name": "stdout",
     "output_type": "stream",
     "text": [
      "i am learning a Data science\n"
     ]
    }
   ],
   "source": [
    "a=\"i am learning a Data science\"\n",
    "print(a[:]) # for all string slicing"
   ]
  },
  {
   "cell_type": "markdown",
   "id": "89da4765-2e1b-42ad-b157-8b5758e6426b",
   "metadata": {},
   "source": [
    "### Slicing with Jump"
   ]
  },
  {
   "cell_type": "code",
   "execution_count": 24,
   "id": "8595d75a-6f35-4020-b153-f66e4ed3ad2b",
   "metadata": {},
   "outputs": [
    {
     "name": "stdout",
     "output_type": "stream",
     "text": [
      "ia e\n"
     ]
    }
   ],
   "source": [
    "a=\"i am learning a Data science\"\n",
    "print(a[0:7:2]) #(starting:ending:jumping index)"
   ]
  },
  {
   "cell_type": "code",
   "execution_count": 25,
   "id": "130ad8bb-9fce-4bdc-904f-581b5600723e",
   "metadata": {},
   "outputs": [
    {
     "name": "stdout",
     "output_type": "stream",
     "text": [
      "ili  n\n"
     ]
    }
   ],
   "source": [
    "a=\"i am learning a Data science\"\n",
    "print(a[::5])"
   ]
  },
  {
   "cell_type": "markdown",
   "id": "1572285b-2511-4e44-b010-ddf783871fac",
   "metadata": {},
   "source": [
    "### Negative slicing"
   ]
  },
  {
   "cell_type": "code",
   "execution_count": 5,
   "id": "58835161-bfe6-47dd-853b-46ef19b00c7e",
   "metadata": {},
   "outputs": [
    {
     "name": "stdout",
     "output_type": "stream",
     "text": [
      "cienc\n"
     ]
    }
   ],
   "source": [
    "a=\"i am learning a Data science\"\n",
    "print(a[-6:-1]) #(stating:Ending)"
   ]
  },
  {
   "cell_type": "code",
   "execution_count": 6,
   "id": "1c5ba952-ac45-43f4-bcc5-f3ec1bdb3ab4",
   "metadata": {},
   "outputs": [
    {
     "name": "stdout",
     "output_type": "stream",
     "text": [
      " aa\n"
     ]
    }
   ],
   "source": [
    "a=\"i am learning a Data science\"\n",
    "print(a[-8:-15:-3])"
   ]
  },
  {
   "cell_type": "markdown",
   "id": "2dbaefbd-ed16-431f-8122-892739b573d8",
   "metadata": {},
   "source": [
    "### Practic Question"
   ]
  },
  {
   "cell_type": "markdown",
   "id": "0a99c0ac-324d-4568-904f-ef6465a416ba",
   "metadata": {},
   "source": [
    "write a python function that take a \n",
    "date string in the formate \"YYYY-MM-DD\"\n",
    "and return a tuple counting\n",
    "the year, month, and date as integer\n",
    "\n",
    "Example- input: \"2024-05-28\"\n",
    "Output- Outpt: (2024,05,28)"
   ]
  },
  {
   "cell_type": "code",
   "execution_count": 26,
   "id": "40ff9d75-34bc-4381-af15-8f5e8066cbba",
   "metadata": {},
   "outputs": [
    {
     "name": "stdin",
     "output_type": "stream",
     "text": [
      "Enter date formate like-(YYYY-MM-DD):- 2024-03-23\n"
     ]
    },
    {
     "data": {
      "text/plain": [
       "(2024, 3, 23)"
      ]
     },
     "execution_count": 26,
     "metadata": {},
     "output_type": "execute_result"
    }
   ],
   "source": [
    "def date_formate():\n",
    "    date=input(\"Enter date formate like-(YYYY-MM-DD):-\")\n",
    "    year=int(date[0:4])\n",
    "    month=int(date[5:7])\n",
    "    day=int(date[8:])\n",
    "    return year,month,day\n",
    "    \n",
    "date_formate()"
   ]
  },
  {
   "cell_type": "markdown",
   "id": "f624b4f0-1fd8-4ac2-96d3-248ed81b647c",
   "metadata": {},
   "source": [
    "### Question 2"
   ]
  },
  {
   "cell_type": "markdown",
   "id": "d6629342-2e42-43cb-8b5a-cf46b8580adb",
   "metadata": {},
   "source": [
    "write a python program to reverse the string \"honesty is the best policy\""
   ]
  },
  {
   "cell_type": "code",
   "execution_count": 27,
   "id": "cf1ac856-7fd3-4ab0-9d4a-a54bcf84b596",
   "metadata": {},
   "outputs": [
    {
     "name": "stdout",
     "output_type": "stream",
     "text": [
      "ycilop tseb eht si ytsenoh\n"
     ]
    }
   ],
   "source": [
    "str=\"honesty is the best policy\"\n",
    "print(str[::-1]) #this is way to reverse any string[::-1]"
   ]
  },
  {
   "cell_type": "markdown",
   "id": "33f41245-12df-4070-b3a2-e0ff4d485b2a",
   "metadata": {},
   "source": [
    "### Question 3"
   ]
  },
  {
   "cell_type": "markdown",
   "id": "43ff008e-56e7-4dd7-b5a6-47061528f6a8",
   "metadata": {},
   "source": [
    "write a python function that that take a string \n",
    "as input and return the substring\n",
    "from the 3rd to the 8th charachter.\n",
    "\n",
    "\"Data science\"\n",
    "\"hello world, i am  learing python\"\n",
    "\"All the best\"\n"
   ]
  },
  {
   "cell_type": "code",
   "execution_count": 3,
   "id": "543a68a4-0df3-4e89-9236-a793db0409c7",
   "metadata": {},
   "outputs": [
    {
     "data": {
      "text/plain": [
       "('a sci', 'lo wo', ' the ')"
      ]
     },
     "execution_count": 3,
     "metadata": {},
     "output_type": "execute_result"
    }
   ],
   "source": [
    "def string(a,b,c):\n",
    "    return a[3:8],b[3:8],c[3:8]\n",
    "   \n",
    "a=\"Data science\"\n",
    "b=\"hello world\"\n",
    "c=(\"all the best\")\n",
    "string(a,b,c)\n"
   ]
  },
  {
   "cell_type": "code",
   "execution_count": 5,
   "id": "bf51fa0d-499c-4722-a259-46cbf0c83d93",
   "metadata": {},
   "outputs": [
    {
     "name": "stdout",
     "output_type": "stream",
     "text": [
      "Artifi\n"
     ]
    }
   ],
   "source": [
    "a=\"Artificial\"\n",
    "print(a[:-4])"
   ]
  },
  {
   "cell_type": "markdown",
   "id": "19cfc439-0748-42cf-a3c3-bc57099b4b43",
   "metadata": {},
   "source": [
    "### length-method len()"
   ]
  },
  {
   "cell_type": "code",
   "execution_count": 11,
   "id": "3af91f58-c478-43af-b782-71c581879095",
   "metadata": {},
   "outputs": [
    {
     "name": "stdout",
     "output_type": "stream",
     "text": [
      "11\n"
     ]
    }
   ],
   "source": [
    "s= \"Chandan rai\"\n",
    "print(len(s))"
   ]
  },
  {
   "cell_type": "code",
   "execution_count": 12,
   "id": "6f16bfe2-4687-442b-b131-00f16776e1a2",
   "metadata": {},
   "outputs": [
    {
     "name": "stdout",
     "output_type": "stream",
     "text": [
      "0\n"
     ]
    }
   ],
   "source": [
    "s=\"\"\n",
    "print(len(s))"
   ]
  },
  {
   "cell_type": "markdown",
   "id": "56e9b69e-aa75-4a99-a063-33f3e440c610",
   "metadata": {},
   "source": [
    "### String with special symbol\n",
    "###### special symbol in string is countable"
   ]
  },
  {
   "cell_type": "code",
   "execution_count": 15,
   "id": "b45220f3-9ba2-4be1-8239-4fac80986247",
   "metadata": {},
   "outputs": [
    {
     "name": "stdout",
     "output_type": "stream",
     "text": [
      "hello\n",
      "world\n",
      "11\n"
     ]
    }
   ],
   "source": [
    "s=\"hello\\nworld\"\n",
    "print(s)\n",
    "print(len(s))"
   ]
  },
  {
   "cell_type": "code",
   "execution_count": 16,
   "id": "3ff62946-a5b1-483e-ac75-132c1e462171",
   "metadata": {},
   "outputs": [
    {
     "name": "stdout",
     "output_type": "stream",
     "text": [
      "hello@world\n",
      "11\n"
     ]
    }
   ],
   "source": [
    "s=\"hello@world\"\n",
    "print(s)\n",
    "print(len(s))"
   ]
  },
  {
   "cell_type": "code",
   "execution_count": 18,
   "id": "8a2471c6-2bae-4e9f-a82f-47817cbb94a0",
   "metadata": {},
   "outputs": [
    {
     "name": "stdout",
     "output_type": "stream",
     "text": [
      "hello\n",
      "\n",
      "world\n",
      "12\n"
     ]
    }
   ],
   "source": [
    "s=\"\"\"hello\n",
    "\n",
    "world\"\"\"\n",
    "print(s)\n",
    "print(len(s))"
   ]
  },
  {
   "cell_type": "code",
   "execution_count": 19,
   "id": "09bbddaa-c792-47ef-9926-9412941bed55",
   "metadata": {},
   "outputs": [
    {
     "name": "stdout",
     "output_type": "stream",
     "text": [
      "283\n"
     ]
    }
   ],
   "source": [
    "s=\"\"\"Data science is an interdisciplinary academic\n",
    "field that uses statistics, scientific computing, scientific methods,\n",
    "processing, scientific visualization, algorithms and systems to extract or\n",
    "extrapolate knowledge and insights from potentially noisy, structured, or unstructured data.\"\"\"\n",
    "print(len(s))"
   ]
  },
  {
   "cell_type": "markdown",
   "id": "6a061f26-6f40-434c-8233-1eaa0eeee5a2",
   "metadata": {},
   "source": [
    "### Python- modify Strings"
   ]
  },
  {
   "cell_type": "markdown",
   "id": "78b1e5a3-f8aa-44c5-bd6e-738c94a54673",
   "metadata": {},
   "source": [
    "#### Upper method   .upper()"
   ]
  },
  {
   "cell_type": "code",
   "execution_count": 22,
   "id": "91568ed5-083b-41cf-9dba-112972359dd6",
   "metadata": {},
   "outputs": [
    {
     "name": "stdout",
     "output_type": "stream",
     "text": [
      "HEY I AM CHANDAN RAI\n"
     ]
    }
   ],
   "source": [
    "s= \"hey i am chandan rai\" # capital lattter all leter\n",
    "print(s.upper())"
   ]
  },
  {
   "cell_type": "code",
   "execution_count": 25,
   "id": "8ff9f0fd-5b6e-4f10-ba02-c9824375b91e",
   "metadata": {},
   "outputs": [
    {
     "name": "stdout",
     "output_type": "stream",
     "text": [
      "HEY I AM CANDAN RAI\n"
     ]
    }
   ],
   "source": [
    "s= \"hey i Am Candan Rai\" # if some char is upper case than\n",
    "print(s.upper())"
   ]
  },
  {
   "cell_type": "code",
   "execution_count": 26,
   "id": "e89e428e-db26-4f29-91fe-c6afff18a02f",
   "metadata": {},
   "outputs": [
    {
     "name": "stdout",
     "output_type": "stream",
     "text": [
      "HEY I AM CANDAN RAI 123\n"
     ]
    }
   ],
   "source": [
    "s= \"hey i Am Candan Rai 123\" # if in the char with num\n",
    "print(s.upper())"
   ]
  },
  {
   "cell_type": "markdown",
   "id": "f50d1bff-704f-45bb-b5a0-98bd2f1cf5e4",
   "metadata": {},
   "source": [
    "#### lower method  .lower()"
   ]
  },
  {
   "cell_type": "code",
   "execution_count": 28,
   "id": "58c5c1e4-a6c8-4fe8-bf28-867ef10e37f1",
   "metadata": {},
   "outputs": [
    {
     "name": "stdout",
     "output_type": "stream",
     "text": [
      "this is my python class\n"
     ]
    }
   ],
   "source": [
    "b=\"THIS IS MY PYTHON CLASS\"\n",
    "print(b.lower())"
   ]
  },
  {
   "cell_type": "markdown",
   "id": "dad87a8c-64fb-4289-8286-128a06eaee42",
   "metadata": {},
   "source": [
    "### String Concatenation"
   ]
  },
  {
   "cell_type": "code",
   "execution_count": 31,
   "id": "b989bcb7-780f-48a6-870b-e1077bce164f",
   "metadata": {},
   "outputs": [
    {
     "name": "stdout",
     "output_type": "stream",
     "text": [
      "hello World\n"
     ]
    }
   ],
   "source": [
    "a= \"hello\"\n",
    "b= \"World\"\n",
    "print(a +\" \" + b)"
   ]
  },
  {
   "cell_type": "code",
   "execution_count": 39,
   "id": "2794eeac-5f85-4bd5-9196-413a857d887a",
   "metadata": {},
   "outputs": [
    {
     "name": "stdout",
     "output_type": "stream",
     "text": [
      "DataDataDataDataData\n"
     ]
    }
   ],
   "source": [
    "a= \"Data\"\n",
    "print(a*5)"
   ]
  },
  {
   "cell_type": "markdown",
   "id": "4be41c68-f91f-486d-a258-d4c7c724a909",
   "metadata": {},
   "source": [
    "#### Repalce mothod  .replace()"
   ]
  },
  {
   "cell_type": "code",
   "execution_count": 44,
   "id": "7f69e048-2e82-400d-8549-b88086e073bd",
   "metadata": {},
   "outputs": [
    {
     "name": "stdout",
     "output_type": "stream",
     "text": [
      "Hello world i am  learning Data science\n"
     ]
    }
   ],
   "source": [
    "text= \"Hello world i am  learning python\"\n",
    "rep=text.replace(\"python\",\"Data science\")\n",
    "print(rep)"
   ]
  },
  {
   "cell_type": "code",
   "execution_count": 53,
   "id": "f805097f-c16c-439a-b9bb-5ab3598dc5b3",
   "metadata": {},
   "outputs": [
    {
     "name": "stdout",
     "output_type": "stream",
     "text": [
      "Python is an interdisciplinary academic\n",
      "field that uses statistics, scientific computing, scientific methods,\n",
      "processing, scientific visualization, algorithms and  data science systems to extract or\n",
      "extrapolate knowledge and insights from potentially noisy, structured, or unstructured Python.\n"
     ]
    }
   ],
   "source": [
    "s=\"\"\"Data science is an interdisciplinary academic\n",
    "field that uses statistics, scientific computing, scientific methods,\n",
    "processing, scientific visualization, algorithms and  data science systems to extract or\n",
    "extrapolate knowledge and insights from potentially noisy, structured, or unstructured Data science.\"\"\"\n",
    "print(s.replace(\"Data science\",\"Python\"))"
   ]
  },
  {
   "cell_type": "markdown",
   "id": "6e110d89-43c3-4db9-8c00-0402a85bae6a",
   "metadata": {},
   "source": [
    "### Index method"
   ]
  },
  {
   "cell_type": "code",
   "execution_count": 3,
   "id": "0dca6ce9-348f-4c62-bc4a-946a7c1d8b4a",
   "metadata": {},
   "outputs": [
    {
     "name": "stdout",
     "output_type": "stream",
     "text": [
      "7\n"
     ]
    }
   ],
   "source": [
    "a=\"i want to learn\"\n",
    "print(a.index(\"to\")) # to tell about which index(count number) come \"to\" string"
   ]
  },
  {
   "cell_type": "code",
   "execution_count": 2,
   "id": "85a88683-0571-48ec-b112-464162a3bf0a",
   "metadata": {},
   "outputs": [
    {
     "name": "stdout",
     "output_type": "stream",
     "text": [
      "62\n"
     ]
    }
   ],
   "source": [
    "s=\"\"\"Data science is an interdisciplinary academic\n",
    "field that uses statistics, scientific computing, scientific methods,\n",
    "processing, scientific visualization, algorithms and  data science systems to extract or\n",
    "extrapolate knowledge and insights from potentially noisy, structured, or unstructured Data science.\"\"\"\n",
    "print(s.index(\"statistics\"))"
   ]
  },
  {
   "cell_type": "markdown",
   "id": "b590b12f-bf2d-4638-ac99-46d1621d760e",
   "metadata": {},
   "source": [
    "#### Find method"
   ]
  },
  {
   "cell_type": "code",
   "execution_count": 1,
   "id": "3cdadc03-e5d4-4616-8250-67bf6e5424a0",
   "metadata": {},
   "outputs": [
    {
     "data": {
      "text/plain": [
       "10"
      ]
     },
     "execution_count": 1,
     "metadata": {},
     "output_type": "execute_result"
    }
   ],
   "source": [
    "a=\"Python is great\"\n",
    "b=a.find(\"g\") # to tell about position of \"g\"\n",
    "b"
   ]
  },
  {
   "cell_type": "markdown",
   "id": "e0e81ad0-58f7-49fb-93b8-883170ea7539",
   "metadata": {},
   "source": [
    "## Practic Question"
   ]
  },
  {
   "cell_type": "raw",
   "id": "478606e6-a06f-4aeb-9616-61f968f38358",
   "metadata": {},
   "source": [
    "write a python program that accomplishes the folloing task:\n",
    "\n",
    "1.concatenate the strigs \"hello\" and \"world\".\n",
    "2.find the lenght of the resulting from the concatenation.\n",
    "3.Extract the substring \"world\" from the concatenated string.\n",
    "4.Reverse the substring obtained in the previos step.\n",
    "5.Convert the reversed substring to uppercase.\n",
    "6.replace the latter \"L\" with \"X\" in the reversed and uppercase substring."
   ]
  },
  {
   "cell_type": "code",
   "execution_count": 16,
   "id": "9d57af28-9c89-4514-9fa5-37f4c327dd5d",
   "metadata": {},
   "outputs": [
    {
     "name": "stdout",
     "output_type": "stream",
     "text": [
      "Concatenate the strigs:- Hello world\n",
      "lenght of the resulting the concatenation is- 11\n",
      "Extract the substring 'world'is:- Hello \n",
      "reverse the string:- dlrow olleH\n",
      "Reverse string is:- DLROW OLLEH\n",
      "replace the string l to x is:- dxrow oxxeH\n",
      "Replace upper case string is:- DXROW OXXEH\n"
     ]
    }
   ],
   "source": [
    "#solve:-\n",
    "#case 1\n",
    "\n",
    "#concatenate the strigs\n",
    "a=\"Hello\"\n",
    "b=\"world\"\n",
    "c=(a+\" \"+ b)\n",
    "print(\"Concatenate the strigs:-\",c)\n",
    "\n",
    "# lenght of the resulting the concatenation\n",
    "#case 2\n",
    "d=len(c)\n",
    "print(\"lenght of the resulting the concatenation is-\",d)\n",
    "\n",
    "#Extract the substring \"world\"\n",
    "#case 3\n",
    "print(\"Extract the substring 'world'is:-\",(c[5:]))\n",
    "\n",
    "#reverse the substring\n",
    "#case 4\n",
    "rev=(c[::-1])\n",
    "print(\"reverse the string:-\",rev)\n",
    "\n",
    "#convert the reverse string to upper case\n",
    "#case 5\n",
    "upper_case=rev.upper()\n",
    "print(\"Reverse string is:-\",upper_case)\n",
    "\n",
    "#replace the latter \"L\" with \"X\" in the reversed and uppercase substring\n",
    "#case 6\n",
    "#reverse case\n",
    "rep=rev.replace(\"l\",\"x\")\n",
    "print(\"replace the string l to x is:-\",rep)\n",
    "#reverse upper case\n",
    "print(\"Replace upper case string is:-\",upper_case.replace(\"L\",\"X\"))"
   ]
  },
  {
   "cell_type": "code",
   "execution_count": null,
   "id": "3457e624-e3e0-48a7-8bd2-bc984861baf7",
   "metadata": {},
   "outputs": [],
   "source": []
  }
 ],
 "metadata": {
  "kernelspec": {
   "display_name": "Python 3 (ipykernel)",
   "language": "python",
   "name": "python3"
  },
  "language_info": {
   "codemirror_mode": {
    "name": "ipython",
    "version": 3
   },
   "file_extension": ".py",
   "mimetype": "text/x-python",
   "name": "python",
   "nbconvert_exporter": "python",
   "pygments_lexer": "ipython3",
   "version": "3.12.4"
  }
 },
 "nbformat": 4,
 "nbformat_minor": 5
}

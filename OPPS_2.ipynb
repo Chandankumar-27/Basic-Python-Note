{
 "cells": [
  {
   "cell_type": "markdown",
   "id": "3a54aaa2-0c12-4145-80cd-3185c8798b53",
   "metadata": {},
   "source": [
    "# OPPS Part 2"
   ]
  },
  {
   "cell_type": "markdown",
   "id": "b2fe7b26-e8ba-4cd4-8c40-90af5ba19e99",
   "metadata": {},
   "source": [
    "# Inheritance"
   ]
  },
  {
   "cell_type": "markdown",
   "id": "08d456e0-72be-48bd-aa8c-c7c96c1c306f",
   "metadata": {},
   "source": [
    "##### Type of Inheritance"
   ]
  },
  {
   "cell_type": "markdown",
   "id": "d31a3411-8393-485c-93b3-ac583b2db9ff",
   "metadata": {},
   "source": [
    "### 1. Single Inheritance\n",
    "##### (class)P-->C"
   ]
  },
  {
   "cell_type": "code",
   "execution_count": 6,
   "id": "d9cac7cd-1620-4fb1-b9a0-8369a93913e5",
   "metadata": {},
   "outputs": [
    {
     "name": "stdout",
     "output_type": "stream",
     "text": [
      "This is parent Class\n",
      "This is child class\n"
     ]
    }
   ],
   "source": [
    "class parent:\n",
    "    def show(self):\n",
    "        print(\"This is parent Class\")\n",
    "\n",
    "class child(parent):\n",
    "    def display(self):\n",
    "        print(\"This is child class\")\n",
    "\n",
    "#create obj\n",
    "Child=child()\n",
    "Child.show() # this is single inheritance bcz we call child function to parent class its proccess called inheritance\n",
    "Child.display()"
   ]
  },
  {
   "cell_type": "markdown",
   "id": "1f6e919f-fc7c-4501-9806-004b93a2f568",
   "metadata": {},
   "source": [
    "### 2. Multipal Inheritance         method & proparties\n",
    "##### 1.P&M---->C   (P- parent class)& (M- Mother class)----------------->(C- Child class)"
   ]
  },
  {
   "cell_type": "code",
   "execution_count": 6,
   "id": "32469032-1dde-42b2-aab4-9a771f690ade",
   "metadata": {},
   "outputs": [
    {
     "name": "stdout",
     "output_type": "stream",
     "text": [
      "this is father class\n",
      "this is mother class\n",
      "this is child class\n"
     ]
    }
   ],
   "source": [
    "class Mother:\n",
    "    def show_mother(self):\n",
    "        print(\"this is mother class\" )\n",
    "\n",
    "class Father:\n",
    "    def show_father(self):\n",
    "        print(\"this is father class\")\n",
    "\n",
    "class Child(Mother,Father):\n",
    "    def show_child(self):\n",
    "        print(\"this is child class\")\n",
    "        \n",
    "#create Object\n",
    "mother=Mother()\n",
    "father=Father()\n",
    "child=Child()\n",
    "\n",
    "#call function\n",
    "child.show_father()\n",
    "child.show_mother()\n",
    "child.show_child()\n",
    "# this is multipal inheritance bcz in single obj inheritance to both proparties(mother& father) class  "
   ]
  },
  {
   "cell_type": "markdown",
   "id": "cc91b579-57ab-4955-b394-bcc591a6012f",
   "metadata": {},
   "source": [
    "### Multi level Inheritance\n",
    "#### A---->b----->c "
   ]
  },
  {
   "cell_type": "code",
   "execution_count": 14,
   "id": "b4807100-85d4-4ac8-8c0d-536b478e5e5b",
   "metadata": {},
   "outputs": [
    {
     "name": "stdout",
     "output_type": "stream",
     "text": [
      "this is father class\n",
      "this is grandfather class\n",
      "this is grandfather class\n"
     ]
    }
   ],
   "source": [
    "# this is multilavel inheritance \n",
    "\n",
    "class Grandfather:\n",
    "    def show_grandfather(self):\n",
    "        print(\"this is grandfather class\")\n",
    "        \n",
    "class Father(Grandfather):\n",
    "    def show_father(self):\n",
    "        print(\"this is father class\")\n",
    "\n",
    "class Child(Father):\n",
    "    def show_child(self):\n",
    "        print(\"this is child class\")\n",
    "#create object\n",
    "child=Child()\n",
    "father=Father()\n",
    "\n",
    "#Function call\n",
    "child.show_father()\n",
    "child.show_grandfather()\n",
    "father.show_grandfather()"
   ]
  },
  {
   "cell_type": "markdown",
   "id": "8556ed36-48f4-4942-a79c-b10927a733b9",
   "metadata": {},
   "source": [
    "### Hierarichal inheritance\n",
    "#### p---->child & child"
   ]
  },
  {
   "cell_type": "code",
   "execution_count": 18,
   "id": "af0df1ca-2236-4e46-bab4-372386d83bd7",
   "metadata": {},
   "outputs": [
    {
     "name": "stdout",
     "output_type": "stream",
     "text": [
      "Child class\n",
      "Child2 class\n"
     ]
    }
   ],
   "source": [
    "class parent:\n",
    "    def show(self):\n",
    "        print(\"parent Class\")\n",
    "class child1(parent):\n",
    "    def display1(self):\n",
    "        print(\"Child class\")\n",
    "\n",
    "class child2(parent):\n",
    "    def display2(self):\n",
    "        print(\"Child2 class\")\n",
    "\n",
    "childa=child1()\n",
    "childb=child2()\n",
    "\n",
    "childa.display1()\n",
    "childb.display2()"
   ]
  },
  {
   "cell_type": "code",
   "execution_count": null,
   "id": "a51a1a0a-4144-40f6-97a1-00effee2eb17",
   "metadata": {},
   "outputs": [],
   "source": []
  }
 ],
 "metadata": {
  "kernelspec": {
   "display_name": "Python 3 (ipykernel)",
   "language": "python",
   "name": "python3"
  },
  "language_info": {
   "codemirror_mode": {
    "name": "ipython",
    "version": 3
   },
   "file_extension": ".py",
   "mimetype": "text/x-python",
   "name": "python",
   "nbconvert_exporter": "python",
   "pygments_lexer": "ipython3",
   "version": "3.12.4"
  }
 },
 "nbformat": 4,
 "nbformat_minor": 5
}

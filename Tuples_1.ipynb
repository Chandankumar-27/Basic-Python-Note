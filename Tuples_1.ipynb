{
 "cells": [
  {
   "cell_type": "markdown",
   "id": "d6783dba-686e-43a1-87b1-4a682496119c",
   "metadata": {},
   "source": [
    "# Tuples part-1\n",
    "#### Once a tuple is created ,you can not change its value .taples are unchangeable. or immutable as it also is called"
   ]
  },
  {
   "cell_type": "markdown",
   "id": "82102513-2c09-47cb-be2f-cbf6d2ffc42c",
   "metadata": {},
   "source": [
    "### Creating Tuples"
   ]
  },
  {
   "cell_type": "code",
   "execution_count": 1,
   "id": "0826f6d5-f6bd-417e-bb6f-5c3a224b90f9",
   "metadata": {},
   "outputs": [
    {
     "name": "stdout",
     "output_type": "stream",
     "text": [
      "(10, 20, 30)\n",
      "<class 'tuple'>\n"
     ]
    }
   ],
   "source": [
    "a=(10,20,30)\n",
    "print(a)\n",
    "print(type(a))"
   ]
  },
  {
   "cell_type": "markdown",
   "id": "b54b4dcc-cf9a-4d6e-944c-cbdd3ebba214",
   "metadata": {},
   "source": [
    "### Empty Tuple"
   ]
  },
  {
   "cell_type": "code",
   "execution_count": 2,
   "id": "d4609a57-06a5-4abc-84d0-3070d112d197",
   "metadata": {},
   "outputs": [
    {
     "name": "stdout",
     "output_type": "stream",
     "text": [
      "()\n",
      "<class 'tuple'>\n"
     ]
    }
   ],
   "source": [
    "tup=()\n",
    "print(tup)\n",
    "print(type(tup))"
   ]
  },
  {
   "cell_type": "markdown",
   "id": "4b1af433-d686-4088-b6ab-4feba6abed26",
   "metadata": {},
   "source": [
    "### Single tuple\n",
    "##### use (',')after single element"
   ]
  },
  {
   "cell_type": "code",
   "execution_count": 4,
   "id": "01a0df7c-8a6f-46de-bec4-1a50f54443b8",
   "metadata": {},
   "outputs": [
    {
     "name": "stdout",
     "output_type": "stream",
     "text": [
      "(5,)\n",
      "<class 'tuple'>\n"
     ]
    }
   ],
   "source": [
    "b=(5,)\n",
    "print(b)\n",
    "print(type(b))"
   ]
  },
  {
   "cell_type": "markdown",
   "id": "6c6b0dcd-0a8a-499d-9358-09108eea32f1",
   "metadata": {},
   "source": [
    "### A tuple with mix data type"
   ]
  },
  {
   "cell_type": "code",
   "execution_count": 5,
   "id": "c5f01cee-b387-4d69-b751-0c89b29e6505",
   "metadata": {},
   "outputs": [
    {
     "name": "stdout",
     "output_type": "stream",
     "text": [
      "(1, 2, 3, 'Chandan', 'ravi', True)\n",
      "<class 'tuple'>\n"
     ]
    }
   ],
   "source": [
    "b=(1,2,3,\"Chandan\",\"ravi\",True)\n",
    "print(b)\n",
    "print(type(b))"
   ]
  },
  {
   "cell_type": "markdown",
   "id": "d4a9f3f8-4530-4f46-b07a-70b1e7f3c301",
   "metadata": {},
   "source": [
    "### Nested tuples"
   ]
  },
  {
   "cell_type": "code",
   "execution_count": 6,
   "id": "6e3ccf20-e778-454d-b156-6ca2b9f07c91",
   "metadata": {},
   "outputs": [
    {
     "name": "stdout",
     "output_type": "stream",
     "text": [
      "('mouse', 2, 3, 4, 2.3, (55, 60))\n",
      "<class 'tuple'>\n"
     ]
    }
   ],
   "source": [
    "a=(\"mouse\",2,3,4,2.3,(55,60))\n",
    "print(a)\n",
    "print(type(a))\n"
   ]
  },
  {
   "cell_type": "code",
   "execution_count": 7,
   "id": "8cbe9038-397b-446c-b6b2-0ffd181bb7b8",
   "metadata": {},
   "outputs": [
    {
     "name": "stdout",
     "output_type": "stream",
     "text": [
      "([12, 13, 14], [20, 30], [14, 36])\n",
      "<class 'tuple'>\n"
     ]
    }
   ],
   "source": [
    "num=([12,13,14],[20,30],[14,36])\n",
    "print(num)\n",
    "print(type(num))"
   ]
  },
  {
   "cell_type": "markdown",
   "id": "255d4006-4487-4f84-9ffd-d3cc09b5b4d4",
   "metadata": {},
   "source": [
    "### Tuple constructor     tuple()"
   ]
  },
  {
   "cell_type": "code",
   "execution_count": 1,
   "id": "0d363125-ac19-45cd-bd61-a477355dd931",
   "metadata": {},
   "outputs": [
    {
     "name": "stdout",
     "output_type": "stream",
     "text": [
      "()\n",
      "<class 'tuple'>\n"
     ]
    }
   ],
   "source": [
    "empty=tuple()\n",
    "print(empty)\n",
    "print(type(empty))"
   ]
  },
  {
   "cell_type": "markdown",
   "id": "1ec3c47f-1807-4fb0-afaa-937db8c1216e",
   "metadata": {},
   "source": [
    "### Converting list in tuples"
   ]
  },
  {
   "cell_type": "code",
   "execution_count": 3,
   "id": "7574b7ce-28ed-4404-a66a-2655e7f2d490",
   "metadata": {},
   "outputs": [
    {
     "name": "stdout",
     "output_type": "stream",
     "text": [
      "(1, 2, 3, 4)\n",
      "<class 'tuple'>\n",
      "<class 'list'>\n"
     ]
    }
   ],
   "source": [
    "list=[1,2,3,4]\n",
    "number=tuple(list)\n",
    "print(number)\n",
    "print(type(number))\n",
    "print(type(list))"
   ]
  },
  {
   "cell_type": "markdown",
   "id": "d53b9d8c-21b9-447b-995a-6105d1719caf",
   "metadata": {},
   "source": [
    "### Conerting string in to tuple"
   ]
  },
  {
   "cell_type": "code",
   "execution_count": 8,
   "id": "03c7847e-67b0-4003-8778-2ac2bf66ac08",
   "metadata": {},
   "outputs": [
    {
     "name": "stdout",
     "output_type": "stream",
     "text": [
      "('H', 'e', 'l', 'l', 'o')\n"
     ]
    }
   ],
   "source": [
    "string_exm= \"Hello\"\n",
    "con=tuple(string_exm)\n",
    "print(con)"
   ]
  },
  {
   "cell_type": "markdown",
   "id": "2acbd1f6-f33c-41c1-b740-aa62b9fa0b63",
   "metadata": {},
   "source": [
    "### Converting dictionary into a tuple"
   ]
  },
  {
   "cell_type": "code",
   "execution_count": 15,
   "id": "b3da2974-cc01-4205-8fa9-a0622382365a",
   "metadata": {},
   "outputs": [
    {
     "name": "stdout",
     "output_type": "stream",
     "text": [
      "{'a': 1, 'b': 2, 'c': 3}\n",
      "<class 'dict'>\n",
      "('a', 'b', 'c')\n",
      "<class 'tuple'>\n"
     ]
    }
   ],
   "source": [
    "dict_exam={'a':1, 'b':2, 'c':3 }\n",
    "print(dict_exam)\n",
    "print(type(dict_exam))\n",
    "tuple_con=tuple(dict_exam)\n",
    "print(tuple_con)\n",
    "print(type(tuple_con))"
   ]
  },
  {
   "cell_type": "markdown",
   "id": "38f1a013-c4fb-49ef-9bca-091b5e22bf0a",
   "metadata": {},
   "source": [
    "### Converting Set into a tuple"
   ]
  },
  {
   "cell_type": "code",
   "execution_count": 16,
   "id": "5272147f-8600-4736-a74e-1bbf824d20f2",
   "metadata": {},
   "outputs": [
    {
     "name": "stdout",
     "output_type": "stream",
     "text": [
      "{1, 2, 3}\n",
      "<class 'set'>\n",
      "(1, 2, 3)\n",
      "<class 'tuple'>\n"
     ]
    }
   ],
   "source": [
    "set_exm={1,2,3}\n",
    "print(set_exm)\n",
    "print(type(set_exm))\n",
    "set2=tuple(set_exm)\n",
    "print(set2)\n",
    "print(type(set2))"
   ]
  },
  {
   "cell_type": "markdown",
   "id": "6999a3be-8d56-4c91-a284-2c3b3ae53f47",
   "metadata": {},
   "source": [
    "#### Question 1"
   ]
  },
  {
   "cell_type": "raw",
   "id": "82311c50-a187-4cbd-96a7-eb9debf094f5",
   "metadata": {},
   "source": [
    "Given a list my_list=[1,2,3,4], how can you convert in to tuple?"
   ]
  },
  {
   "cell_type": "code",
   "execution_count": 17,
   "id": "d7bd1665-3433-493a-bcff-90d845877086",
   "metadata": {},
   "outputs": [
    {
     "name": "stdout",
     "output_type": "stream",
     "text": [
      "(1, 2, 3, 4)\n",
      "<class 'tuple'>\n"
     ]
    }
   ],
   "source": [
    "#Ans-tuple(my_list)\n",
    "my_list=[1,2,3,4]\n",
    "new_list=tuple(my_list)\n",
    "print(new_list)\n",
    "print(type(new_list))"
   ]
  },
  {
   "cell_type": "code",
   "execution_count": null,
   "id": "8cfa7c54-bef9-45fc-9c6f-751fe22c2c8e",
   "metadata": {},
   "outputs": [],
   "source": []
  }
 ],
 "metadata": {
  "kernelspec": {
   "display_name": "Python 3 (ipykernel)",
   "language": "python",
   "name": "python3"
  },
  "language_info": {
   "codemirror_mode": {
    "name": "ipython",
    "version": 3
   },
   "file_extension": ".py",
   "mimetype": "text/x-python",
   "name": "python",
   "nbconvert_exporter": "python",
   "pygments_lexer": "ipython3",
   "version": "3.12.4"
  }
 },
 "nbformat": 4,
 "nbformat_minor": 5
}

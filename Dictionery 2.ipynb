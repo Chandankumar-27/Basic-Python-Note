{
 "cells": [
  {
   "cell_type": "markdown",
   "id": "900a4054-b564-4e84-97aa-aa60539a21ea",
   "metadata": {},
   "source": [
    "# Dictonery part 2"
   ]
  },
  {
   "cell_type": "markdown",
   "id": "0b3066de-8d57-41b0-86b7-9183c6bf87d6",
   "metadata": {},
   "source": [
    "### Membership testing\n",
    "##### Always take a key not value"
   ]
  },
  {
   "cell_type": "code",
   "execution_count": 2,
   "id": "a7988dda-1f8e-4fb2-95cb-76929c5f717f",
   "metadata": {},
   "outputs": [
    {
     "name": "stdout",
     "output_type": "stream",
     "text": [
      "True\n"
     ]
    }
   ],
   "source": [
    "person={\n",
    "    'name':\"chandan\",\n",
    "    'age':26,\n",
    "    'city':\"delhi\"\n",
    "    \n",
    "}\n",
    "print('name'in person)"
   ]
  },
  {
   "cell_type": "code",
   "execution_count": 4,
   "id": "85018ea5-6994-4523-a096-65afed30c5b9",
   "metadata": {},
   "outputs": [
    {
     "name": "stdout",
     "output_type": "stream",
     "text": [
      "False\n"
     ]
    }
   ],
   "source": [
    "print('email'in person)"
   ]
  },
  {
   "cell_type": "code",
   "execution_count": 5,
   "id": "56863039-47fe-4943-86de-4af0b14b18bf",
   "metadata": {},
   "outputs": [
    {
     "name": "stdout",
     "output_type": "stream",
     "text": [
      "False\n"
     ]
    }
   ],
   "source": [
    "print('chandan' in person)"
   ]
  },
  {
   "cell_type": "markdown",
   "id": "10e58212-05ba-45e6-a308-61670614ba88",
   "metadata": {},
   "source": [
    "### Nested Dictionary "
   ]
  },
  {
   "cell_type": "code",
   "execution_count": 15,
   "id": "5ffcd59a-b585-49f1-8863-2fce8941c5b2",
   "metadata": {},
   "outputs": [
    {
     "name": "stdout",
     "output_type": "stream",
     "text": [
      "{'name': 'chandan', 'age': 30, 'city': 'puna'}\n",
      "chandan\n",
      "puna\n"
     ]
    }
   ],
   "source": [
    "employees={\n",
    "    'emp1':{'name': 'chandan', 'age':30,'city':\"puna\"},\n",
    "    'emp2':{'name':\"priya\",'age':35,'city':\"ghazipur\"}\n",
    "}\n",
    "print(employees['emp1'])\n",
    "print(employees['emp1']['name'])\n",
    "print(employees['emp1']['city'])"
   ]
  },
  {
   "cell_type": "markdown",
   "id": "0bc723f5-20cf-4ecf-8f0b-80852b760087",
   "metadata": {},
   "source": [
    "## Practic Question 1"
   ]
  },
  {
   "cell_type": "raw",
   "id": "883001bc-1255-4eb8-b5f3-c2f42bf6a69f",
   "metadata": {},
   "source": [
    "Creat a dictionary book_rating with the folloing intial date:\n",
    "'python programing':4.5\n",
    "'Data science Handbook:'4.8\n",
    "'Machine learing Basic':4.2\n",
    "\n",
    "Check if \"python programing\" is in book_rating.\n",
    "Print \"Found\" if it exists, otherwise print \"NOt Found\".\n",
    "\n",
    "use a method to get a all key from book_rating and\n",
    "store them in a list titles.\n",
    "print the list titles."
   ]
  },
  {
   "cell_type": "code",
   "execution_count": 1,
   "id": "1c5cb70b-5f04-4395-9f67-06556e356f10",
   "metadata": {},
   "outputs": [
    {
     "name": "stdout",
     "output_type": "stream",
     "text": [
      "Found\n",
      "['python programing', 'Data science', 'Machine Learing Basic']\n"
     ]
    }
   ],
   "source": [
    "#solve:-\n",
    "#1. Check in the dict and print found OR not found\n",
    "book_rating={\n",
    "    'python programing':4.5,\n",
    "    'Data science':4.8,\n",
    "    'Machine Learing Basic':402\n",
    "}\n",
    "if 'python programing' in book_rating:\n",
    "    print(\"Found\")\n",
    "else:\n",
    "    print(\"Not Found\")\n",
    "\n",
    "# 2. print the list titals\n",
    "list=list(book_rating.keys())\n",
    "print(list)"
   ]
  },
  {
   "cell_type": "markdown",
   "id": "ac525577-5823-4296-91d5-7f16ff243081",
   "metadata": {},
   "source": [
    "## Question 2"
   ]
  },
  {
   "cell_type": "raw",
   "id": "63b530cb-fbc6-42cb-91ae-06b0ad4112b0",
   "metadata": {},
   "source": [
    "Creat a dictionary fruit_store with the folling items:\n",
    "'apple':10\n",
    "'banana':15\n",
    "'orange':8\n",
    "'grape':20\n",
    "\n",
    "print each fruit along with its stick count\n",
    "in the each \"Fruit:Stock\" using a loop.\n",
    "\n",
    "OUTPUT\n",
    "Fruit:apple,stock :10\n",
    "Fruit:banana,stock:15\n",
    "Fruit:orange,stock:8\n",
    "Fruit:grape,stock:20"
   ]
  },
  {
   "cell_type": "code",
   "execution_count": 7,
   "id": "b486df91-2887-4ea9-a985-6b34fc732aae",
   "metadata": {},
   "outputs": [
    {
     "name": "stdout",
     "output_type": "stream",
     "text": [
      "Fruit: apple stock: 10\n",
      "Fruit: banana stock: 15\n",
      "Fruit: orange stock: 8\n",
      "Fruit: grapes stock: 20\n"
     ]
    }
   ],
   "source": [
    "fruit_store={\n",
    "    'apple':10,\n",
    "    'banana':15,\n",
    "    'orange':8,\n",
    "    'grapes':20\n",
    "}\n",
    "for fruit in fruit_store:\n",
    "    print(\"Fruit:\",fruit, \"stock:\",fruit_store[fruit])\n",
    "    "
   ]
  },
  {
   "cell_type": "markdown",
   "id": "6fd49193-c3b1-4379-9703-f943f8e60b18",
   "metadata": {},
   "source": [
    "### Length Method\n",
    "#### len()"
   ]
  },
  {
   "cell_type": "code",
   "execution_count": 8,
   "id": "c1c9efc6-7ef4-41ff-9692-3e04eb65d252",
   "metadata": {},
   "outputs": [
    {
     "name": "stdout",
     "output_type": "stream",
     "text": [
      "3\n"
     ]
    }
   ],
   "source": [
    "dict={\n",
    "    'ID':12345,\n",
    "    'color':\"red\",\n",
    "    'year':2004\n",
    "}\n",
    "print(len(dict))"
   ]
  },
  {
   "cell_type": "markdown",
   "id": "992116a0-aa8e-4a80-848a-1c9572cf5a1c",
   "metadata": {},
   "source": [
    "### Get keys\n",
    "#### .keys() for key only"
   ]
  },
  {
   "cell_type": "code",
   "execution_count": 9,
   "id": "54269a9d-45be-45ae-bfcb-a3e4a2757355",
   "metadata": {},
   "outputs": [
    {
     "name": "stdout",
     "output_type": "stream",
     "text": [
      "dict_keys(['name', 'age', 'Country'])\n"
     ]
    }
   ],
   "source": [
    "a={\n",
    "    \"name\":\"priya\",\n",
    "    \"age\":25,\n",
    "    \"Country\":\"India\"\n",
    "}\n",
    "print(a.keys())"
   ]
  },
  {
   "cell_type": "markdown",
   "id": "a705b559-15df-4800-bf36-52675683d70d",
   "metadata": {},
   "source": [
    "### Get Value\n",
    "#### .values()"
   ]
  },
  {
   "cell_type": "code",
   "execution_count": 16,
   "id": "0bda88d5-8204-4aa4-817b-cdd685a4c159",
   "metadata": {},
   "outputs": [
    {
     "name": "stdout",
     "output_type": "stream",
     "text": [
      "dict_values(['priya', 25, 'India'])\n"
     ]
    }
   ],
   "source": [
    "# for Key Value only\n",
    "a={\n",
    "    \"name\":\"priya\",\n",
    "    \"age\":25,\n",
    "    \"Country\":\"India\"\n",
    "}\n",
    "print(a.values())"
   ]
  },
  {
   "cell_type": "markdown",
   "id": "605eb039-fac2-4f7d-b9d5-24c18810ec80",
   "metadata": {},
   "source": [
    "### Change Value"
   ]
  },
  {
   "cell_type": "code",
   "execution_count": 19,
   "id": "2d1aa788-b3ad-4dec-abd2-09b8b018e1f5",
   "metadata": {},
   "outputs": [
    {
     "name": "stdout",
     "output_type": "stream",
     "text": [
      "{'name': 'chandan', 'age': 25, 'country': 'Bharat'}\n"
     ]
    }
   ],
   "source": [
    "a={'name':\"chandan\",\"age\":25,\"country\":\"India\"}\n",
    "a[\"country\"]=\"Bharat\"\n",
    "print(a)"
   ]
  },
  {
   "cell_type": "code",
   "execution_count": 21,
   "id": "4534dda5-f387-431e-b75c-3ad1c0ade150",
   "metadata": {},
   "outputs": [
    {
     "name": "stdout",
     "output_type": "stream",
     "text": [
      "{'name': 'chandan', 'age': 30, 'country': 'India'}\n"
     ]
    }
   ],
   "source": [
    "a={'name':\"chandan\",\"age\":25,\"country\":\"India\"}\n",
    "a[\"age\"]=30\n",
    "print(a)"
   ]
  },
  {
   "cell_type": "markdown",
   "id": "dcb01cef-0d7e-4f60-9247-10043abd012b",
   "metadata": {},
   "source": [
    "### Adding Item"
   ]
  },
  {
   "cell_type": "code",
   "execution_count": 22,
   "id": "047f13da-6d70-4f68-b782-8dfc87b9c130",
   "metadata": {},
   "outputs": [
    {
     "name": "stdout",
     "output_type": "stream",
     "text": [
      "{'name': 'chandan', 'age': 25, 'country': 'India', 'city': 'New Dehli', 'Email Id': 'chandan@gmail.com'}\n"
     ]
    }
   ],
   "source": [
    "a={'name':\"chandan\",\"age\":25,\"country\":\"India\"}\n",
    "a[\"city\"]=\"New Dehli\"\n",
    "a[\"Email Id\"]=\"chandan@gmail.com\"\n",
    "print(a)"
   ]
  },
  {
   "cell_type": "markdown",
   "id": "42237037-d366-4fdd-a726-0261d806f085",
   "metadata": {},
   "source": [
    "### Update method\n",
    "#### .update({write like a dict type})"
   ]
  },
  {
   "cell_type": "code",
   "execution_count": 26,
   "id": "2c029c69-adfb-48b0-b16f-12bc94d09713",
   "metadata": {},
   "outputs": [
    {
     "name": "stdout",
     "output_type": "stream",
     "text": [
      "{'name': 'chandan', 'age': 25, 'country': 'India', 'city': 'Ghazipur', 'aadhar no': 800351288649, 'email': 'Chandanrai@gmail.com'}\n"
     ]
    }
   ],
   "source": [
    "a={'name':\"chandan\",\"age\":25,\"country\":\"India\"}\n",
    "a.update({'city':\"Ghazipur\",\"aadhar no\":800351288649,\"email\":\"Chandanrai@gmail.com\"})\n",
    "print(a)"
   ]
  },
  {
   "cell_type": "markdown",
   "id": "da8b3b22-15e9-4579-8323-ccac09258b78",
   "metadata": {},
   "source": [
    " ### Remove method\n",
    "#### .pop(value) keyword"
   ]
  },
  {
   "cell_type": "code",
   "execution_count": 32,
   "id": "6926e33f-2da6-42ca-afab-e891a0b72c6b",
   "metadata": {},
   "outputs": [
    {
     "name": "stdout",
     "output_type": "stream",
     "text": [
      "{'name': 'chandan', 'age': 25, 'country': 'India'}\n",
      "{'name': 'chandan', 'country': 'India'}\n"
     ]
    }
   ],
   "source": [
    "a={'name':\"chandan\",\"age\":25,\"country\":\"India\"}\n",
    "print(a)\n",
    "a.pop(\"age\")\n",
    "print(a)"
   ]
  },
  {
   "cell_type": "markdown",
   "id": "8b88d637-6099-45dc-a27a-1825ce7b9b6b",
   "metadata": {},
   "source": [
    "### del method"
   ]
  },
  {
   "cell_type": "code",
   "execution_count": 34,
   "id": "9e4f9d9a-3a4e-46f0-937c-ea4203390355",
   "metadata": {},
   "outputs": [
    {
     "name": "stdout",
     "output_type": "stream",
     "text": [
      "{'name': 'chandan'}\n"
     ]
    }
   ],
   "source": [
    "a={'name':\"chandan\",\"age\":25,\"country\":\"India\"}\n",
    "del a[\"age\"],a[\"country\"]\n",
    "print(a)"
   ]
  },
  {
   "cell_type": "markdown",
   "id": "3cfe7e3f-55f6-497f-9148-fc5f42106d9f",
   "metadata": {},
   "source": [
    "### clear method\n",
    "#### clear all dict with .clear()"
   ]
  },
  {
   "cell_type": "code",
   "execution_count": 36,
   "id": "96d8c408-546f-4354-8fc6-6aaee7dc5919",
   "metadata": {},
   "outputs": [
    {
     "name": "stdout",
     "output_type": "stream",
     "text": [
      "{}\n"
     ]
    }
   ],
   "source": [
    "a={'name':\"chandan\",\"age\":25,\"country\":\"India\"}\n",
    "a.clear()\n",
    "print(a)"
   ]
  },
  {
   "cell_type": "markdown",
   "id": "07e2c61a-9787-4730-bd99-2774b82a3f66",
   "metadata": {},
   "source": [
    "## Practic Question "
   ]
  },
  {
   "cell_type": "markdown",
   "id": "00c5953e-1cad-4970-bec3-c54e3d6e592c",
   "metadata": {},
   "source": [
    "### Question 1"
   ]
  },
  {
   "cell_type": "raw",
   "id": "4a4f3938-bba4-4733-885b-7a9f7ba9b1d0",
   "metadata": {},
   "source": [
    "write a Python script to concatennate the following dictionaries to creat a new one"
   ]
  },
  {
   "cell_type": "code",
   "execution_count": 85,
   "id": "959efcd4-0d26-470a-b724-aebcbb18669f",
   "metadata": {},
   "outputs": [
    {
     "name": "stdout",
     "output_type": "stream",
     "text": [
      "{'name': 'chandan', 'age': 25, 'country': 'India', 'apple': 10, 'banana': 15, 'orange': 8, 'grapes': 20}\n"
     ]
    }
   ],
   "source": [
    "#solve:-\n",
    "# Method 1\n",
    "# concatennate the two dict\n",
    "a={'name':\"chandan\",\"age\":25,\"country\":\"India\"}\n",
    "b=fruit_store={\n",
    "    'apple':10,\n",
    "    'banana':15,\n",
    "    'orange':8,\n",
    "    'grapes':20\n",
    "}\n",
    "# for update method to concatennate \n",
    "a.update(b) \n",
    "print(a)"
   ]
  },
  {
   "cell_type": "markdown",
   "id": "12bddfee-04ae-421c-91cc-2479b96725cd",
   "metadata": {},
   "source": [
    "##### Method 2\n",
    "##### .update()"
   ]
  },
  {
   "cell_type": "code",
   "execution_count": 48,
   "id": "d393ee3f-c331-4447-97c9-320c820b378c",
   "metadata": {},
   "outputs": [
    {
     "name": "stdout",
     "output_type": "stream",
     "text": [
      "{'name': 'chandan', 'age': 25, 'country': 'India', 'apple': 10, 'banana': 15, 'orange': 8, 'grapes': 20, 123: 'integer key', (1, 2): 'tuple', 3.5: 'float key'}\n"
     ]
    }
   ],
   "source": [
    "#insi the dict\n",
    "dict1={'name':\"chandan\",\"age\":25,\"country\":\"India\"}\n",
    "dict2=fruit_store={\n",
    "    'apple':10,\n",
    "    'banana':15,\n",
    "    'orange':8,\n",
    "    'grapes':20\n",
    "}\n",
    "dict3={\n",
    "    'name': \"chandan\",\n",
    "    123:\"integer key\",\n",
    "    (1,2):\"tuple\",\n",
    "    3.5:\"float key\"\n",
    "}\n",
    "#solve:-\n",
    "dict={}\n",
    "for i in (dict1,dict2,dict3):\n",
    "    dict.update(i)\n",
    "print(dict)"
   ]
  },
  {
   "cell_type": "markdown",
   "id": "cd4b0964-1f6d-415c-b054-94b67b929052",
   "metadata": {},
   "source": [
    "### Question 2"
   ]
  },
  {
   "cell_type": "raw",
   "id": "bf28401c-5b08-483a-9a23-e139ce46ad86",
   "metadata": {},
   "source": [
    "Print a dictionary where the keys are  number between 1 and 15 and square of keys"
   ]
  },
  {
   "cell_type": "code",
   "execution_count": 51,
   "id": "fb15f684-be50-4ea6-88f7-4ca729e85cf6",
   "metadata": {},
   "outputs": [
    {
     "name": "stdout",
     "output_type": "stream",
     "text": [
      "{1: 1, 2: 4, 3: 9, 4: 16, 5: 25, 6: 36, 7: 49, 8: 64, 9: 81, 10: 100, 11: 121, 12: 144, 13: 169, 14: 196, 15: 225}\n"
     ]
    }
   ],
   "source": [
    "#solve:-\n",
    "# print 1 to 15 square\n",
    "number={x:x*x for x in range(1,16)\n",
    "}\n",
    "print(number)"
   ]
  },
  {
   "cell_type": "markdown",
   "id": "810d06d2-8e37-43c2-af83-5bcc0afc9332",
   "metadata": {},
   "source": [
    "##### Method 2"
   ]
  },
  {
   "cell_type": "code",
   "execution_count": 61,
   "id": "a3dd903f-79a6-470c-871a-9b82ddec6e9d",
   "metadata": {},
   "outputs": [
    {
     "name": "stdin",
     "output_type": "stream",
     "text": [
      "Enter number: 50\n"
     ]
    },
    {
     "name": "stdout",
     "output_type": "stream",
     "text": [
      "{1: 1, 2: 4, 3: 9, 4: 16, 5: 25, 6: 36, 7: 49, 8: 64, 9: 81, 10: 100, 11: 121, 12: 144, 13: 169, 14: 196, 15: 225, 16: 256, 17: 289, 18: 324, 19: 361, 20: 400, 21: 441, 22: 484, 23: 529, 24: 576, 25: 625, 26: 676, 27: 729, 28: 784, 29: 841, 30: 900, 31: 961, 32: 1024, 33: 1089, 34: 1156, 35: 1225, 36: 1296, 37: 1369, 38: 1444, 39: 1521, 40: 1600, 41: 1681, 42: 1764, 43: 1849, 44: 1936, 45: 2025, 46: 2116, 47: 2209, 48: 2304, 49: 2401, 50: 2500}\n",
      "<class 'dict'>\n"
     ]
    }
   ],
   "source": [
    "#solve:-\n",
    "x=int(input(\"Enter number:\"))\n",
    "squre={}\n",
    "for i in range(1,x+1):\n",
    "    squre[i]=i**2\n",
    "\n",
    "print(squre)\n",
    "print(type(squre))"
   ]
  },
  {
   "cell_type": "markdown",
   "id": "7c5777b3-5780-4257-a662-066bc9d2da42",
   "metadata": {},
   "source": [
    "### Question 3"
   ]
  },
  {
   "cell_type": "raw",
   "id": "f4d4eed1-51dc-4145-b50d-9e4a6198c197",
   "metadata": {},
   "source": [
    "Check whether a given key already exists in a dictionary"
   ]
  },
  {
   "cell_type": "code",
   "execution_count": 83,
   "id": "b91835a0-9677-401d-91ce-b936c722dd7d",
   "metadata": {},
   "outputs": [
    {
     "name": "stdout",
     "output_type": "stream",
     "text": [
      "No,its is not exist in the dictionery\n"
     ]
    }
   ],
   "source": [
    "#solve:-\n",
    "y={1:10,2:20,3:30,4:40,5:50}\n",
    "# function\n",
    "def is_key_present(x):\n",
    "    #condiction \n",
    "    if x in y:\n",
    "        print(\"Yes, its exist in the dectonery\")\n",
    "    else:\n",
    "        print(\"No,its is not exist in the dictionery\")\n",
    "is_key_present(10) # function call"
   ]
  },
  {
   "cell_type": "code",
   "execution_count": null,
   "id": "7a01c648-7b98-4b04-991d-76db30f17811",
   "metadata": {},
   "outputs": [],
   "source": []
  }
 ],
 "metadata": {
  "kernelspec": {
   "display_name": "Python 3 (ipykernel)",
   "language": "python",
   "name": "python3"
  },
  "language_info": {
   "codemirror_mode": {
    "name": "ipython",
    "version": 3
   },
   "file_extension": ".py",
   "mimetype": "text/x-python",
   "name": "python",
   "nbconvert_exporter": "python",
   "pygments_lexer": "ipython3",
   "version": "3.12.4"
  }
 },
 "nbformat": 4,
 "nbformat_minor": 5
}

{
 "cells": [
  {
   "cell_type": "markdown",
   "id": "348a5e1a-398e-4ffa-abad-b0c568b4eca9",
   "metadata": {},
   "source": [
    "# Loops"
   ]
  },
  {
   "cell_type": "markdown",
   "id": "fc4a07f5-eccc-4c7d-8aa8-2d56e2ed57be",
   "metadata": {},
   "source": [
    "## While loop in python"
   ]
  },
  {
   "cell_type": "markdown",
   "id": "dd2149a0-391f-42c0-be48-bd7a3f65b75f",
   "metadata": {},
   "source": [
    "#### Question 1"
   ]
  },
  {
   "cell_type": "markdown",
   "id": "28f2646c-c8a7-4998-8919-cf5ed8acc474",
   "metadata": {},
   "source": [
    "##### Write a program to print 1 to 5 using while loop"
   ]
  },
  {
   "cell_type": "code",
   "execution_count": 5,
   "id": "f8c0e627-fc06-49d7-b56a-3bd84f222df1",
   "metadata": {},
   "outputs": [
    {
     "name": "stdout",
     "output_type": "stream",
     "text": [
      "1\n",
      "2\n",
      "3\n",
      "4\n",
      "5\n"
     ]
    }
   ],
   "source": [
    "count=1 #ittrection\n",
    "while (count<=5): #condiction\n",
    "    print(count) #Exuecte\n",
    "    count=count+1 # incrisement"
   ]
  },
  {
   "cell_type": "markdown",
   "id": "17e205fc-0bb7-4df7-892e-4674c9f573a3",
   "metadata": {},
   "source": [
    "#### Question 2"
   ]
  },
  {
   "cell_type": "markdown",
   "id": "9182fb25-60a7-4705-8990-f2ad3346f40a",
   "metadata": {},
   "source": [
    "##### Write a python program to print all even number between 1 to 50 using while loop"
   ]
  },
  {
   "cell_type": "code",
   "execution_count": 13,
   "id": "fd3a708c-a183-4a18-a184-034ac21297cc",
   "metadata": {},
   "outputs": [
    {
     "name": "stdout",
     "output_type": "stream",
     "text": [
      "2 4 6 8 10 12 14 16 18 20 22 24 26 28 30 32 34 36 38 40 42 44 46 48 50 "
     ]
    }
   ],
   "source": [
    "i=1\n",
    "while i<=50:\n",
    "    if(i%2==0):\n",
    "        print(i,end=\" \")\n",
    "    i=i+1"
   ]
  },
  {
   "cell_type": "markdown",
   "id": "6646ff49-b212-422d-8559-0a45ac82158a",
   "metadata": {},
   "source": [
    "#### Question 3"
   ]
  },
  {
   "cell_type": "markdown",
   "id": "8405e679-eece-41e6-9bd9-66f000230de8",
   "metadata": {},
   "source": [
    "you are tasked with validating user input\n",
    "for email addresses, Write a python program\n",
    "that pramote the user to enter an email address,\n",
    "use a while loop to iterate through the input amd\n",
    "checl if the email address contains an \"@\" symble\n",
    "and a \",\" symbol. print \"Invalid email address format.\"\n",
    "please try again. \"otherwise\",\n",
    "print \"Email address validation passed\""
   ]
  },
  {
   "cell_type": "code",
   "execution_count": 19,
   "id": "f32ed9bb-a1f8-4c09-b957-d0458514e652",
   "metadata": {},
   "outputs": [
    {
     "name": "stdin",
     "output_type": "stream",
     "text": [
      "Enter Email:- chandabn.ch\n"
     ]
    },
    {
     "name": "stdout",
     "output_type": "stream",
     "text": [
      "Invalid Email format\n"
     ]
    },
    {
     "name": "stdin",
     "output_type": "stream",
     "text": [
      "Please Enter a valid email chandanrai\n"
     ]
    },
    {
     "name": "stdout",
     "output_type": "stream",
     "text": [
      "Invalid Email format\n"
     ]
    },
    {
     "name": "stdin",
     "output_type": "stream",
     "text": [
      "Please Enter a valid email chandanrai@123.com\n"
     ]
    },
    {
     "name": "stdout",
     "output_type": "stream",
     "text": [
      "your Email is valid\n"
     ]
    }
   ],
   "source": [
    "email= input(\"Enter Email:-\")\n",
    "valid_email= False\n",
    "while not valid_email:\n",
    "    if(\"@\"in email and \".\" in email):\n",
    "        print(\"your Email is valid\")\n",
    "        valid_email=True\n",
    "    else:\n",
    "        print(\"Invalid Email format\")\n",
    "        email=input(\"Please Enter a valid email\")"
   ]
  },
  {
   "cell_type": "markdown",
   "id": "6e19423a-537a-46e7-ae02-010c17fd4b9b",
   "metadata": {},
   "source": [
    "## For loop in python"
   ]
  },
  {
   "cell_type": "code",
   "execution_count": 31,
   "id": "eaa4f8c1-535a-46e1-8de6-89f097161004",
   "metadata": {},
   "outputs": [
    {
     "name": "stdout",
     "output_type": "stream",
     "text": [
      "1\n",
      "2\n",
      "3\n",
      "4\n",
      "5\n",
      "6\n"
     ]
    }
   ],
   "source": [
    "# in list\n",
    "num=[1,2,3,4,5,6]\n",
    "for i in num:\n",
    "    print(i)"
   ]
  },
  {
   "cell_type": "code",
   "execution_count": 41,
   "id": "88c20164-4798-46ef-9ce7-c2ddca1cacb2",
   "metadata": {},
   "outputs": [
    {
     "name": "stdout",
     "output_type": "stream",
     "text": [
      "s t u d e n t "
     ]
    }
   ],
   "source": [
    "#String\n",
    "str=\"student\"\n",
    "for i in str:\n",
    "    print(i,end=\" \")"
   ]
  },
  {
   "cell_type": "code",
   "execution_count": 38,
   "id": "a774ebf9-14db-4dfc-abe4-eccdff1b978b",
   "metadata": {},
   "outputs": [
    {
     "name": "stdout",
     "output_type": "stream",
     "text": [
      "0 1 2 3 4 5 6 7 8 9 10 "
     ]
    }
   ],
   "source": [
    "#intger\n",
    "for i in range(11):\n",
    "    print(i,end=\" \")"
   ]
  },
  {
   "cell_type": "code",
   "execution_count": 40,
   "id": "9ce371e0-3ba0-412e-9987-a06560001f40",
   "metadata": {},
   "outputs": [
    {
     "name": "stdout",
     "output_type": "stream",
     "text": [
      "5 6 7 8 9 10 11 12 13 14 15 16 17 18 19 20 "
     ]
    }
   ],
   "source": [
    "#intger\n",
    "for i in range(5,21):\n",
    "    print(i,end=\" \")"
   ]
  },
  {
   "cell_type": "markdown",
   "id": "aa2dbb93-0073-4c95-8dc0-b4bc70362bc4",
   "metadata": {},
   "source": [
    "## For loop and If Condition"
   ]
  },
  {
   "cell_type": "markdown",
   "id": "ace189ce-29f4-44c3-a9d9-013a1aae2866",
   "metadata": {},
   "source": [
    "#### Question 4"
   ]
  },
  {
   "cell_type": "markdown",
   "id": "4f88271d-ee1b-411e-bc30-b7c61bd2a717",
   "metadata": {},
   "source": [
    "#### Write a program to even number between 0 to 25"
   ]
  },
  {
   "cell_type": "code",
   "execution_count": 2,
   "id": "59bd299a-fb2e-44b6-afe9-ade3f0288ee8",
   "metadata": {},
   "outputs": [
    {
     "name": "stdout",
     "output_type": "stream",
     "text": [
      "Even number is:- 2\n",
      "Even number is:- 4\n",
      "Even number is:- 6\n",
      "Even number is:- 8\n",
      "Even number is:- 10\n",
      "Even number is:- 12\n",
      "Even number is:- 14\n"
     ]
    }
   ],
   "source": [
    "for i in range(1,16):\n",
    "    if(i%2==0):\n",
    "        print(\"Even number is:-\",i)\n",
    "    #else:\n",
    "        #print(\"ODD  number is:-\",i)      "
   ]
  },
  {
   "cell_type": "markdown",
   "id": "dbaa6a22-4683-437e-b03f-8002ce885b7f",
   "metadata": {},
   "source": [
    "#### Question 5"
   ]
  },
  {
   "cell_type": "markdown",
   "id": "dab8af4e-4a87-4bd5-b242-6eb1121c9868",
   "metadata": {},
   "source": [
    "#### Implement a python program to generate the multiplication table of given number using a for loop"
   ]
  },
  {
   "cell_type": "code",
   "execution_count": 72,
   "id": "f6257fdc-38dd-4759-bf2a-57121b30a359",
   "metadata": {},
   "outputs": [
    {
     "name": "stdin",
     "output_type": "stream",
     "text": [
      "Entar number for table 5\n"
     ]
    },
    {
     "name": "stdout",
     "output_type": "stream",
     "text": [
      "The Multiplication of table 5 is:-\n",
      "5 x 1 = 5\n",
      "5 x 2 = 10\n",
      "5 x 3 = 15\n",
      "5 x 4 = 20\n",
      "5 x 5 = 25\n",
      "5 x 6 = 30\n",
      "5 x 7 = 35\n",
      "5 x 8 = 40\n",
      "5 x 9 = 45\n",
      "5 x 10 = 50\n"
     ]
    }
   ],
   "source": [
    "table=int(input(\"Entar number for table\"))\n",
    "print(\"The Multiplication of table\",table,\"is:-\")\n",
    "for i in range(1,11):\n",
    "    print(f\"{table} x {i} = {i*table}\")"
   ]
  },
  {
   "cell_type": "markdown",
   "id": "abba1518-2877-4e07-a5d1-a7fb1073e361",
   "metadata": {},
   "source": [
    "#### Question 6"
   ]
  },
  {
   "cell_type": "markdown",
   "id": "8f06193b-5b6c-4cc8-b98c-721336f9e2ea",
   "metadata": {},
   "source": [
    "you are task with creating a program to assist\n",
    "shoppers in calculating their total bill at a grocery store.\n",
    "the store offer discount based on the total purchase amount.\n",
    "your task is to implement a python program that takes the price\n",
    "of each item purchased and calculates the total bill,\n",
    "includeing any applicable discount.\n",
    "\n",
    "The store offers the following discount rates\n",
    "based on the total purchase amount:\n",
    "\n",
    "if the total purchase amount is $100 or more,\n",
    "the customer receives a 10% discount.\n",
    "\n",
    "if the total purchase amount is between $50 and $99.99,\n",
    "the customer received a 5% discount.\n",
    "\n",
    "if the total purchase amount is less than $50,\n",
    "no discount is applied.\n",
    "\n",
    "write a python program to prompt the user\n",
    "to enter the prices of the items they purchased.\n",
    "use a for loop to iterate through the prices\n",
    "entered and calculate the subtotal.\n",
    "Apply the appropriate discount base\n",
    "on the total purchase amount using if-else statement.\n",
    "finally, print out the subtotal,discount amount\n",
    "(if any), and the total bill after appyling the discount.\n"
   ]
  },
  {
   "cell_type": "code",
   "execution_count": 4,
   "id": "46dbf7ca-cff8-4e27-aae1-dc0d41ad15ce",
   "metadata": {},
   "outputs": [
    {
     "name": "stdin",
     "output_type": "stream",
     "text": [
      "Enter the number of purchase item:- 5\n",
      "Enter the price of coustmer purchase item 100\n"
     ]
    },
    {
     "name": "stdout",
     "output_type": "stream",
     "text": [
      "The total price of coustmer purchase item is:- 100.0\n"
     ]
    },
    {
     "name": "stdin",
     "output_type": "stream",
     "text": [
      "Enter the price of coustmer purchase item 200\n"
     ]
    },
    {
     "name": "stdout",
     "output_type": "stream",
     "text": [
      "The total price of coustmer purchase item is:- 300.0\n"
     ]
    },
    {
     "name": "stdin",
     "output_type": "stream",
     "text": [
      "Enter the price of coustmer purchase item 300\n"
     ]
    },
    {
     "name": "stdout",
     "output_type": "stream",
     "text": [
      "The total price of coustmer purchase item is:- 600.0\n"
     ]
    },
    {
     "name": "stdin",
     "output_type": "stream",
     "text": [
      "Enter the price of coustmer purchase item 400\n"
     ]
    },
    {
     "name": "stdout",
     "output_type": "stream",
     "text": [
      "The total price of coustmer purchase item is:- 1000.0\n"
     ]
    },
    {
     "name": "stdin",
     "output_type": "stream",
     "text": [
      "Enter the price of coustmer purchase item 500\n"
     ]
    },
    {
     "name": "stdout",
     "output_type": "stream",
     "text": [
      "The total price of coustmer purchase item is:- 1500.0\n",
      "Final bill after 10% discount is:- 1350.0\n"
     ]
    }
   ],
   "source": [
    "#solve:-\n",
    "#case 1:-\n",
    "# user ask for his purchase item\n",
    "num_item=int(input(\"Enter the number of purchase item:-\"))\n",
    "total_price=0\n",
    "for i in range(1,num_item+1):\n",
    "    price=float(input(\"Enter the price of coustmer purchase item\"))\n",
    "    total_price=total_price+price\n",
    "    print(\"The total price of coustmer purchase item is:-\",total_price)\n",
    "#case 2    \n",
    "# calculate discount:-     \n",
    "if(total_price>=100):\n",
    "    discount_total_price=total_price-(total_price*10/100)\n",
    "    print(\"Final bill after 10% discount is:-\",discount_total_price)\n",
    "#case 3   \n",
    "elif(total_price<=99 and total_price>=50):\n",
    "    discount_total_price=total_price-(total_price*5/100)\n",
    "    print(\"Final bill after 5% discount is:-\",discount_total_price)\n",
    "    \n",
    "\n"
   ]
  },
  {
   "cell_type": "markdown",
   "id": "5a11da32-afa3-4f1d-868a-e8af257f2558",
   "metadata": {},
   "source": [
    "### Break Statment\n",
    "###### we can break statement with the for loop to terminate the loop when a certion condiction is met"
   ]
  },
  {
   "cell_type": "code",
   "execution_count": 5,
   "id": "c7bdb515-52d6-4617-80f0-88f2932dc6d6",
   "metadata": {},
   "outputs": [
    {
     "name": "stdout",
     "output_type": "stream",
     "text": [
      "0\n",
      "1\n",
      "2\n"
     ]
    }
   ],
   "source": [
    "for i in range(5):\n",
    "    if(i==3):\n",
    "        break\n",
    "    print(i)    \n",
    "    #break   "
   ]
  },
  {
   "cell_type": "markdown",
   "id": "33702a9d-3b96-4e2f-a624-084fa31eaca2",
   "metadata": {},
   "source": [
    "### Continue Statement\n",
    "##### The continus statement is used for skip the current itteraction of the loop and the control flow of the program goes to next iteraction"
   ]
  },
  {
   "cell_type": "code",
   "execution_count": 6,
   "id": "30e96f05-1023-4edf-9c13-67a818c8e0a2",
   "metadata": {},
   "outputs": [
    {
     "name": "stdout",
     "output_type": "stream",
     "text": [
      "0\n",
      "1\n",
      "2\n",
      "4\n",
      "i am learning python\n"
     ]
    }
   ],
   "source": [
    "for i in range(5):\n",
    "    if(i==3):\n",
    "        continue\n",
    "    print(i)\n",
    "print(\"i am learning python\")"
   ]
  },
  {
   "cell_type": "code",
   "execution_count": null,
   "id": "61d4dcf5-de08-4237-ab22-ce1739488010",
   "metadata": {},
   "outputs": [],
   "source": []
  }
 ],
 "metadata": {
  "kernelspec": {
   "display_name": "Python 3 (ipykernel)",
   "language": "python",
   "name": "python3"
  },
  "language_info": {
   "codemirror_mode": {
    "name": "ipython",
    "version": 3
   },
   "file_extension": ".py",
   "mimetype": "text/x-python",
   "name": "python",
   "nbconvert_exporter": "python",
   "pygments_lexer": "ipython3",
   "version": "3.12.4"
  }
 },
 "nbformat": 4,
 "nbformat_minor": 5
}

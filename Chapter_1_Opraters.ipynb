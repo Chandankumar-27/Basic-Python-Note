{
 "cells": [
  {
   "cell_type": "markdown",
   "id": "d60f941c-164a-435c-ae44-9e3be986f761",
   "metadata": {},
   "source": [
    "# OPRATERS IN PYTHON"
   ]
  },
  {
   "cell_type": "markdown",
   "id": "7fe80147-9c6a-4abf-a66a-35794f51831c",
   "metadata": {},
   "source": [
    "## 1. Arithmatic opraters"
   ]
  },
  {
   "cell_type": "markdown",
   "id": "3363546c-22ee-4484-9348-63c1bcc7f2b8",
   "metadata": {},
   "source": [
    "### Addition"
   ]
  },
  {
   "cell_type": "code",
   "execution_count": 3,
   "id": "1991857b-bacd-4659-aa2c-4329d73de060",
   "metadata": {},
   "outputs": [
    {
     "name": "stdout",
     "output_type": "stream",
     "text": [
      "8\n"
     ]
    },
    {
     "data": {
      "text/plain": [
       "int"
      ]
     },
     "execution_count": 3,
     "metadata": {},
     "output_type": "execute_result"
    }
   ],
   "source": [
    "#This is integer type data\n",
    "a=3\n",
    "b=5\n",
    "sum=a+b\n",
    "print(sum)\n",
    "type((sum))"
   ]
  },
  {
   "cell_type": "code",
   "execution_count": 4,
   "id": "3022e928-2dd9-45ad-9861-eea3ca1a411a",
   "metadata": {},
   "outputs": [
    {
     "name": "stdout",
     "output_type": "stream",
     "text": [
      "7.3\n"
     ]
    },
    {
     "data": {
      "text/plain": [
       "float"
      ]
     },
     "execution_count": 4,
     "metadata": {},
     "output_type": "execute_result"
    }
   ],
   "source": [
    "#This is Float type\n",
    "a=3.5\n",
    "b=3.8\n",
    "sum=a+b\n",
    "print(sum)\n",
    "type((sum))"
   ]
  },
  {
   "cell_type": "code",
   "execution_count": 12,
   "id": "e00a9efb-51f1-4c51-8256-0a376e955392",
   "metadata": {},
   "outputs": [
    {
     "name": "stdout",
     "output_type": "stream",
     "text": [
      "Chandan Rai\n"
     ]
    },
    {
     "data": {
      "text/plain": [
       "str"
      ]
     },
     "execution_count": 12,
     "metadata": {},
     "output_type": "execute_result"
    }
   ],
   "source": [
    "#String data type\n",
    "x='Chandan'\n",
    "y='Rai'\n",
    "sum=(x+' '+y)\n",
    "print(sum)\n",
    "(type(sum))"
   ]
  },
  {
   "cell_type": "code",
   "execution_count": 14,
   "id": "5cdc9240-0147-46cf-9e2e-dccf83ba6054",
   "metadata": {},
   "outputs": [
    {
     "name": "stdout",
     "output_type": "stream",
     "text": [
      "(8+9j)\n"
     ]
    },
    {
     "data": {
      "text/plain": [
       "complex"
      ]
     },
     "execution_count": 14,
     "metadata": {},
     "output_type": "execute_result"
    }
   ],
   "source": [
    "#This is Complax number\n",
    "x1=3+2j\n",
    "y2=5+7j\n",
    "sum=(x1+y2)\n",
    "print(sum)\n",
    "type(sum)"
   ]
  },
  {
   "cell_type": "markdown",
   "id": "a87618ec-2ce4-4995-9526-14b8f2e00059",
   "metadata": {},
   "source": [
    "### Subtraction"
   ]
  },
  {
   "cell_type": "code",
   "execution_count": 4,
   "id": "7bfdc424-c6c2-4e0b-b1ee-54935e92f896",
   "metadata": {},
   "outputs": [
    {
     "name": "stdout",
     "output_type": "stream",
     "text": [
      "3\n"
     ]
    }
   ],
   "source": [
    "#Int Num\n",
    "num=5\n",
    "num1=8\n",
    "print(num1-num)"
   ]
  },
  {
   "cell_type": "code",
   "execution_count": 5,
   "id": "6fb2c426-20d6-4108-a583-72cee0ef530a",
   "metadata": {},
   "outputs": [
    {
     "name": "stdout",
     "output_type": "stream",
     "text": [
      "4.1\n"
     ]
    }
   ],
   "source": [
    "#float Num\n",
    "num2=10.5\n",
    "num3=4.2\n",
    "num4=2.2\n",
    "print(num2-num3-num4)"
   ]
  },
  {
   "cell_type": "code",
   "execution_count": 2,
   "id": "125e7b25-d738-4971-b9b8-07ad550829ac",
   "metadata": {},
   "outputs": [
    {
     "name": "stdout",
     "output_type": "stream",
     "text": [
      "(-4+4j)\n"
     ]
    }
   ],
   "source": [
    "#Complax Number\n",
    "a2=2+6j\n",
    "b2=6+2j\n",
    "print(a2-b2)"
   ]
  },
  {
   "cell_type": "markdown",
   "id": "950f95a8-1d9e-4be2-a8f3-4c69056e62c4",
   "metadata": {},
   "source": [
    "## Multiplication"
   ]
  },
  {
   "cell_type": "code",
   "execution_count": 8,
   "id": "3d85e000-f3fb-4696-a869-22059959b996",
   "metadata": {},
   "outputs": [
    {
     "name": "stdout",
     "output_type": "stream",
     "text": [
      "25\n"
     ]
    }
   ],
   "source": [
    "#int type\n",
    "a=5\n",
    "b=5\n",
    "print(a*b)#stories symble"
   ]
  },
  {
   "cell_type": "code",
   "execution_count": 9,
   "id": "6f6c3fb2-7666-4443-b252-be691dadba8f",
   "metadata": {},
   "outputs": [
    {
     "name": "stdout",
     "output_type": "stream",
     "text": [
      "35.1\n"
     ]
    }
   ],
   "source": [
    "#float type\n",
    "a=6.5\n",
    "b=5.4\n",
    "print(a*b)"
   ]
  },
  {
   "cell_type": "code",
   "execution_count": 11,
   "id": "629f2cc3-e03a-4619-8c6f-bb8ad43315a6",
   "metadata": {},
   "outputs": [
    {
     "name": "stdout",
     "output_type": "stream",
     "text": [
      "chandan chandan chandan chandan chandan \n"
     ]
    }
   ],
   "source": [
    "#srting data type\n",
    "a=\"chandan \"\n",
    "print(a*5)"
   ]
  },
  {
   "cell_type": "code",
   "execution_count": 14,
   "id": "498082eb-3807-4f2d-8cf0-bdfee464f4f9",
   "metadata": {},
   "outputs": [
    {
     "name": "stdout",
     "output_type": "stream",
     "text": [
      "(-6+17j)\n"
     ]
    }
   ],
   "source": [
    "#complax Num\n",
    "a=2+3j\n",
    "b=3+4j\n",
    "print(a*b)"
   ]
  },
  {
   "cell_type": "markdown",
   "id": "d60569cc-a775-49b5-9142-6f4f342235f2",
   "metadata": {},
   "source": [
    "## Divison"
   ]
  },
  {
   "cell_type": "code",
   "execution_count": 16,
   "id": "cf905806-8bb3-415d-99ad-fd6bf856bd8b",
   "metadata": {},
   "outputs": [
    {
     "name": "stdout",
     "output_type": "stream",
     "text": [
      "3.0\n"
     ]
    }
   ],
   "source": [
    "#int typee\n",
    "a=15\n",
    "b=5\n",
    "print(a/b)"
   ]
  },
  {
   "cell_type": "code",
   "execution_count": 18,
   "id": "0f524ae1-be44-4854-8fab-039013e2cb30",
   "metadata": {},
   "outputs": [
    {
     "name": "stdout",
     "output_type": "stream",
     "text": [
      "(0.25-0.25j)\n"
     ]
    }
   ],
   "source": [
    "#complax Num\n",
    "a1=2+10j\n",
    "a2=3+2j\n",
    "print(a2/a1)"
   ]
  },
  {
   "cell_type": "markdown",
   "id": "4079c80e-7ae4-4726-821d-3ff6e0e6cfba",
   "metadata": {},
   "source": [
    "## Modulous"
   ]
  },
  {
   "cell_type": "code",
   "execution_count": 21,
   "id": "c3d305dd-4622-49ed-bfe2-835bd13fc8d8",
   "metadata": {},
   "outputs": [
    {
     "name": "stdout",
     "output_type": "stream",
     "text": [
      "0\n"
     ]
    }
   ],
   "source": [
    "#int type\n",
    "print(125%5)"
   ]
  },
  {
   "cell_type": "code",
   "execution_count": 20,
   "id": "f9f3b117-b64c-41f1-8e58-3078a8d6473d",
   "metadata": {},
   "outputs": [
    {
     "name": "stdout",
     "output_type": "stream",
     "text": [
      "4\n"
     ]
    }
   ],
   "source": [
    "print(19%5)"
   ]
  },
  {
   "cell_type": "code",
   "execution_count": 22,
   "id": "f7197e7f-cdfd-40d2-b5ad-03846b96bed1",
   "metadata": {},
   "outputs": [
    {
     "name": "stdout",
     "output_type": "stream",
     "text": [
      "1.3499999999999943\n"
     ]
    }
   ],
   "source": [
    "#float Num\n",
    "print(125.35%4)"
   ]
  },
  {
   "cell_type": "markdown",
   "id": "0c0627a2-3af3-4ebd-8608-b86092e8466e",
   "metadata": {},
   "source": [
    "## flow Division"
   ]
  },
  {
   "cell_type": "code",
   "execution_count": 29,
   "id": "9934f62c-bd77-4c52-b226-8aa1011b0a03",
   "metadata": {},
   "outputs": [
    {
     "name": "stdout",
     "output_type": "stream",
     "text": [
      "4\n"
     ]
    }
   ],
   "source": [
    "print(12//3)#int type"
   ]
  },
  {
   "cell_type": "code",
   "execution_count": 30,
   "id": "0de2a526-8316-43d8-a24d-20baf6e4da81",
   "metadata": {},
   "outputs": [
    {
     "name": "stdout",
     "output_type": "stream",
     "text": [
      "25.0\n"
     ]
    }
   ],
   "source": [
    "print(125.3//5)#float type"
   ]
  },
  {
   "cell_type": "markdown",
   "id": "a710abad-897b-458a-9094-0f25763398f1",
   "metadata": {},
   "source": [
    "## Exponent(**)"
   ]
  },
  {
   "cell_type": "code",
   "execution_count": 31,
   "id": "1a46ffe4-2969-4492-b3d6-334c3f8f67e2",
   "metadata": {},
   "outputs": [
    {
     "name": "stdout",
     "output_type": "stream",
     "text": [
      "27\n"
     ]
    }
   ],
   "source": [
    "print(3**3)"
   ]
  },
  {
   "cell_type": "code",
   "execution_count": 34,
   "id": "14c49613-2ef9-403b-a401-9cf35cb0d0f2",
   "metadata": {},
   "outputs": [
    {
     "name": "stdout",
     "output_type": "stream",
     "text": [
      "107791.37980165744\n"
     ]
    }
   ],
   "source": [
    "print(5**7.2)"
   ]
  },
  {
   "cell_type": "code",
   "execution_count": 35,
   "id": "f0154176-f1b0-4d94-b5c1-b56c4f3718df",
   "metadata": {},
   "outputs": [
    {
     "name": "stdout",
     "output_type": "stream",
     "text": [
      "125\n"
     ]
    }
   ],
   "source": [
    "a=5\n",
    "b=3\n",
    "print(5**3)"
   ]
  },
  {
   "cell_type": "markdown",
   "id": "a83d3613-737d-4e70-99fd-36270d903453",
   "metadata": {},
   "source": [
    "## Boolean Opt(True/False)"
   ]
  },
  {
   "cell_type": "code",
   "execution_count": 36,
   "id": "1b42da03-a5bc-47b9-869b-58bdd4db16eb",
   "metadata": {},
   "outputs": [
    {
     "name": "stdout",
     "output_type": "stream",
     "text": [
      "<class 'bool'>\n"
     ]
    }
   ],
   "source": [
    "a=True\n",
    "print(type(a))"
   ]
  },
  {
   "cell_type": "code",
   "execution_count": 37,
   "id": "a5f72a33-597d-4256-8087-02aaee281c3b",
   "metadata": {},
   "outputs": [
    {
     "name": "stdout",
     "output_type": "stream",
     "text": [
      "<class 'bool'>\n"
     ]
    }
   ],
   "source": [
    "b=False\n",
    "print(type(b))"
   ]
  },
  {
   "cell_type": "markdown",
   "id": "8eaa5851-db1d-40ed-918c-6d0b64d84928",
   "metadata": {},
   "source": [
    "## Comparison Opt"
   ]
  },
  {
   "cell_type": "markdown",
   "id": "b8abdfdc-c66b-49b2-9aae-f68299fc4e80",
   "metadata": {},
   "source": [
    "#### Equal to =="
   ]
  },
  {
   "cell_type": "code",
   "execution_count": 48,
   "id": "88a784a2-488f-4745-ae53-5b84d88ba86f",
   "metadata": {},
   "outputs": [
    {
     "name": "stdout",
     "output_type": "stream",
     "text": [
      "True\n"
     ]
    }
   ],
   "source": [
    "x=5\n",
    "y=5\n",
    "print(x==y)"
   ]
  },
  {
   "cell_type": "code",
   "execution_count": 41,
   "id": "5d1b1ebf-f397-4cc4-af48-0389e62ef871",
   "metadata": {},
   "outputs": [
    {
     "name": "stdout",
     "output_type": "stream",
     "text": [
      "False\n"
     ]
    }
   ],
   "source": [
    "x=8\n",
    "y=5\n",
    "print(x==y)"
   ]
  },
  {
   "cell_type": "markdown",
   "id": "ae3c43c0-de46-441b-8bc2-9cffb7d11d9a",
   "metadata": {},
   "source": [
    "#### not Equal to !="
   ]
  },
  {
   "cell_type": "code",
   "execution_count": 42,
   "id": "e63806d6-1b51-437d-b96e-e520b3d79e6c",
   "metadata": {},
   "outputs": [
    {
     "name": "stdout",
     "output_type": "stream",
     "text": [
      "True\n"
     ]
    }
   ],
   "source": [
    "x=6\n",
    "y=8\n",
    "print(x!=y)"
   ]
  },
  {
   "cell_type": "code",
   "execution_count": 43,
   "id": "7397e503-feb7-498e-ae84-f139b18c23a9",
   "metadata": {},
   "outputs": [
    {
     "name": "stdout",
     "output_type": "stream",
     "text": [
      "False\n"
     ]
    }
   ],
   "source": [
    "x=6\n",
    "y=6\n",
    "print(x!=y)"
   ]
  },
  {
   "cell_type": "markdown",
   "id": "5559f4e4-8d76-46c4-959a-51e947f2d330",
   "metadata": {},
   "source": [
    "#### Greater than >"
   ]
  },
  {
   "cell_type": "code",
   "execution_count": 44,
   "id": "1b8daca7-bd82-4c27-b874-39f463a68aa7",
   "metadata": {},
   "outputs": [
    {
     "name": "stdout",
     "output_type": "stream",
     "text": [
      "True\n"
     ]
    }
   ],
   "source": [
    "a=20\n",
    "b=15\n",
    "print(a>b)"
   ]
  },
  {
   "cell_type": "code",
   "execution_count": 45,
   "id": "e7245de6-d9d4-46e0-8c8f-718ae6f109b4",
   "metadata": {},
   "outputs": [
    {
     "name": "stdout",
     "output_type": "stream",
     "text": [
      "False\n"
     ]
    }
   ],
   "source": [
    "a=8\n",
    "b=15\n",
    "print(a>b)"
   ]
  },
  {
   "cell_type": "markdown",
   "id": "2f13d6d6-80da-400a-96bc-1e3bbf6c64c6",
   "metadata": {},
   "source": [
    "#### Less than<"
   ]
  },
  {
   "cell_type": "code",
   "execution_count": 46,
   "id": "4596cd47-f58e-4cfb-9d4b-c3e0ce3ca650",
   "metadata": {},
   "outputs": [
    {
     "name": "stdout",
     "output_type": "stream",
     "text": [
      "False\n"
     ]
    }
   ],
   "source": [
    "a=20\n",
    "b=15\n",
    "print(a<b)"
   ]
  },
  {
   "cell_type": "code",
   "execution_count": 47,
   "id": "96efe007-226a-41be-a59b-18ffc08ef8f3",
   "metadata": {},
   "outputs": [
    {
     "name": "stdout",
     "output_type": "stream",
     "text": [
      "True\n"
     ]
    }
   ],
   "source": [
    "a=8\n",
    "b=15\n",
    "print(a<b)"
   ]
  },
  {
   "cell_type": "markdown",
   "id": "f279b453-6f17-471e-98e4-f9770e0f314f",
   "metadata": {},
   "source": [
    "#### Greater than Equal to >="
   ]
  },
  {
   "cell_type": "code",
   "execution_count": 49,
   "id": "34d3de60-fc72-4bf6-86de-c45681ac99a5",
   "metadata": {},
   "outputs": [
    {
     "name": "stdout",
     "output_type": "stream",
     "text": [
      "False\n"
     ]
    }
   ],
   "source": [
    "a=8\n",
    "b=15\n",
    "print(a>=b)"
   ]
  },
  {
   "cell_type": "code",
   "execution_count": 50,
   "id": "4e556d03-a764-4af1-868b-36cd5f1f75fe",
   "metadata": {},
   "outputs": [
    {
     "name": "stdout",
     "output_type": "stream",
     "text": [
      "True\n"
     ]
    }
   ],
   "source": [
    "a=20\n",
    "b=15\n",
    "print(a>=b)"
   ]
  },
  {
   "cell_type": "markdown",
   "id": "baa52491-c57f-4bb4-b9c2-96cbe81cba4c",
   "metadata": {},
   "source": [
    "#### Less than Equal to <="
   ]
  },
  {
   "cell_type": "code",
   "execution_count": 51,
   "id": "60992328-061d-4e23-8467-6e62ec5dfaff",
   "metadata": {},
   "outputs": [
    {
     "name": "stdout",
     "output_type": "stream",
     "text": [
      "False\n"
     ]
    }
   ],
   "source": [
    "a=20\n",
    "b=15\n",
    "print(a<=b)"
   ]
  },
  {
   "cell_type": "code",
   "execution_count": 52,
   "id": "6856b124-0a30-4e75-87c9-7b3c3b9fc5ed",
   "metadata": {},
   "outputs": [
    {
     "name": "stdout",
     "output_type": "stream",
     "text": [
      "True\n"
     ]
    }
   ],
   "source": [
    "a=8\n",
    "b=15\n",
    "print(a<=b)"
   ]
  },
  {
   "cell_type": "markdown",
   "id": "0527726a-9be5-4ef2-b61c-e1db34d07dc7",
   "metadata": {},
   "source": [
    "## Logical Oprater"
   ]
  },
  {
   "cell_type": "code",
   "execution_count": 3,
   "id": "50653d8d-f94d-4459-9ffe-ae7a0ab41823",
   "metadata": {},
   "outputs": [
    {
     "name": "stdout",
     "output_type": "stream",
     "text": [
      "False\n"
     ]
    }
   ],
   "source": [
    "#And oprater &\n",
    "x=True\n",
    "y=False\n",
    "print(x&y)# always get false with and Oprater"
   ]
  },
  {
   "cell_type": "code",
   "execution_count": 4,
   "id": "69d4ed6a-2e71-422a-b747-9b59b47ef955",
   "metadata": {},
   "outputs": [
    {
     "name": "stdout",
     "output_type": "stream",
     "text": [
      "True\n"
     ]
    }
   ],
   "source": [
    "#Or oprater\n",
    "x=True\n",
    "y=False\n",
    "print(x or y)#always get a true"
   ]
  },
  {
   "cell_type": "code",
   "execution_count": 5,
   "id": "a31425c8-c29a-4471-80f3-7a3c26f9d2b1",
   "metadata": {},
   "outputs": [
    {
     "name": "stdout",
     "output_type": "stream",
     "text": [
      "False\n"
     ]
    }
   ],
   "source": [
    "#not oprater\n",
    "x=True\n",
    "print(not x)"
   ]
  },
  {
   "cell_type": "code",
   "execution_count": 6,
   "id": "91cb03d1-d9bf-4a88-9420-0a24acba1bc2",
   "metadata": {},
   "outputs": [
    {
     "name": "stdout",
     "output_type": "stream",
     "text": [
      "True\n"
     ]
    }
   ],
   "source": [
    "x=False\n",
    "print(not y)"
   ]
  },
  {
   "cell_type": "markdown",
   "id": "3e8f3012-2abf-44c4-872d-86bc46f41364",
   "metadata": {},
   "source": [
    "## Practice Question"
   ]
  },
  {
   "cell_type": "markdown",
   "id": "c18fd7ef-5cde-4898-b1dd-80eda1500058",
   "metadata": {},
   "source": [
    "#### Question 1"
   ]
  },
  {
   "cell_type": "code",
   "execution_count": null,
   "id": "ed6ebb98-91bd-4ea1-876d-b7ca6330bec3",
   "metadata": {},
   "outputs": [],
   "source": [
    "you have a data containg two recode:\"Quantity\"and \"Price per Unit\".How would you use arithimetic\n",
    "opraction to calculate the total cast for each cost? product 1,\n",
    "Quantity-5, price per unit rs-250,product-2, Qunity 25, price par unit-Rs 656 product 3,Quanatity-34 price per unit Rs-274"
   ]
  },
  {
   "cell_type": "code",
   "execution_count": 15,
   "id": "b85b1918-7792-486d-90fb-e91e952943e8",
   "metadata": {},
   "outputs": [
    {
     "name": "stdout",
     "output_type": "stream",
     "text": [
      "The price of each product is: 1250\n",
      "The price of each product is: 16400\n",
      "The price of each product is: 9316\n",
      "Total price customer need to pay is:- 26966\n"
     ]
    }
   ],
   "source": [
    "#solve:-\n",
    "product_1=250*5\n",
    "product_2=656*25\n",
    "product_3=274*34\n",
    "print(\"The price of each product is:\",product_1)\n",
    "print(\"The price of each product is:\",product_2)\n",
    "print(\"The price of each product is:\",product_3)\n",
    "#Total cost of the bill\n",
    "Grand_total=(product_1 + product_2 + product_3)\n",
    "print(\"Total price customer need to pay is:-\",Grand_total)"
   ]
  },
  {
   "cell_type": "markdown",
   "id": "809819c0-55c6-4193-a125-db574bcbd5d5",
   "metadata": {},
   "source": [
    "#### Question 2"
   ]
  },
  {
   "cell_type": "markdown",
   "id": "06ffb055-81b6-4072-b79d-1c854ce45aa2",
   "metadata": {},
   "source": [
    "In the finance base organization, the task is to calculate the simple intrest give the principal\n",
    "amount, intrest rate , and time period, The intrest rate is 8% the principal amount is rs 1500000\n",
    "and the time period is 3 years, calculate the simple intrest ,also the threshold amound is rs\n",
    "120000. Please check if the calculate intrest is greter or less than the thereshold amount."
   ]
  },
  {
   "cell_type": "code",
   "execution_count": 21,
   "id": "5465aa97-15e1-4973-9159-dd99956e2b67",
   "metadata": {},
   "outputs": [
    {
     "name": "stdout",
     "output_type": "stream",
     "text": [
      "The simple intrest is:- 360000.0\n",
      "Simple intrest is Greter than Threshold Amount\n"
     ]
    }
   ],
   "source": [
    "#solve:-\n",
    "#case 1\n",
    "principal_amt=1500000\n",
    "intrest_rate=8\n",
    "time_period=3\n",
    "threshold_amt=120000\n",
    "simple_intrest=(principal_amt*intrest_rate*time_period)/100\n",
    "print(\"The simple intrest is:-\",simple_intrest)\n",
    "#case 2 compair between given threshold Amt and we got Amt\n",
    "if (simple_intrest>=threshold_amt):\n",
    "    print(\"Simple intrest is Greter than Threshold Amount\")\n",
    "else:\n",
    "    print(\"Simple intrest is less\")"
   ]
  },
  {
   "cell_type": "markdown",
   "id": "d902ede2-7056-45d9-ae2f-4d15506ac61f",
   "metadata": {},
   "source": [
    "#### Question 3"
   ]
  },
  {
   "cell_type": "markdown",
   "id": "3751dc8c-a9c2-40b1-bf5a-cb1cda5f3e09",
   "metadata": {},
   "source": [
    "write a program to calculate the are of circle with a radius of 12cm"
   ]
  },
  {
   "cell_type": "code",
   "execution_count": 6,
   "id": "4a2237a9-5a84-4dc0-a27a-3acca4e740e2",
   "metadata": {},
   "outputs": [
    {
     "name": "stdout",
     "output_type": "stream",
     "text": [
      "Area is:- 452.15999999999997\n"
     ]
    }
   ],
   "source": [
    "#solve:-\n",
    "#formula A=3.14*r*r\n",
    "radius=12\n",
    "Area=3.14*12*12\n",
    "print(\"Area is:-\",Area)"
   ]
  }
 ],
 "metadata": {
  "kernelspec": {
   "display_name": "Python 3 (ipykernel)",
   "language": "python",
   "name": "python3"
  },
  "language_info": {
   "codemirror_mode": {
    "name": "ipython",
    "version": 3
   },
   "file_extension": ".py",
   "mimetype": "text/x-python",
   "name": "python",
   "nbconvert_exporter": "python",
   "pygments_lexer": "ipython3",
   "version": "3.12.4"
  }
 },
 "nbformat": 4,
 "nbformat_minor": 5
}

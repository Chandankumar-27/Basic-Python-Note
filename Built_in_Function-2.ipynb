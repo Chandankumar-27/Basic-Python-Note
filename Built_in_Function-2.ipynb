{
 "cells": [
  {
   "cell_type": "markdown",
   "id": "3f8b26a0-8378-4fe3-8cd3-e08e1fdccb47",
   "metadata": {},
   "source": [
    "# Built in Function Part 2"
   ]
  },
  {
   "cell_type": "markdown",
   "id": "e6a1c4b6-1783-41c6-b48d-4ade6a9f5001",
   "metadata": {},
   "source": [
    "### Bin Function"
   ]
  },
  {
   "cell_type": "code",
   "execution_count": 6,
   "id": "3291d25d-790e-4409-84c1-ab4381c6d28a",
   "metadata": {},
   "outputs": [
    {
     "name": "stdout",
     "output_type": "stream",
     "text": [
      "0b1010\n"
     ]
    }
   ],
   "source": [
    "binary_rep= bin(10)\n",
    "print(binary_rep) # 0b output reprasent its a binary(1010)"
   ]
  },
  {
   "cell_type": "code",
   "execution_count": 3,
   "id": "8a7b223f-30c2-4378-99f8-ed0af5a1d905",
   "metadata": {},
   "outputs": [
    {
     "name": "stdout",
     "output_type": "stream",
     "text": [
      "0b11001000\n"
     ]
    }
   ],
   "source": [
    "x= bin(200)\n",
    "print(x)"
   ]
  },
  {
   "cell_type": "code",
   "execution_count": 4,
   "id": "37ed84f0-8f08-4012-84c0-7ff423360b67",
   "metadata": {},
   "outputs": [
    {
     "name": "stdout",
     "output_type": "stream",
     "text": [
      "0b1000101100\n"
     ]
    }
   ],
   "source": [
    "x=556\n",
    "print(bin(x))"
   ]
  },
  {
   "cell_type": "markdown",
   "id": "23956c2b-d6c0-48c6-b795-3d23cc6926f8",
   "metadata": {},
   "source": [
    "### Sum Function"
   ]
  },
  {
   "cell_type": "code",
   "execution_count": 10,
   "id": "ee96a396-6272-4e11-a9c3-d1f31de81276",
   "metadata": {},
   "outputs": [
    {
     "name": "stdout",
     "output_type": "stream",
     "text": [
      "556\n"
     ]
    }
   ],
   "source": [
    "# sum function never work on string\n",
    "my_list= [7,5,6,56,336,52,59,35]\n",
    "a=sum(my_list)\n",
    "print(a)"
   ]
  },
  {
   "cell_type": "code",
   "execution_count": 9,
   "id": "93e6b57a-f69b-484e-8f35-9a5608160045",
   "metadata": {},
   "outputs": [
    {
     "name": "stdout",
     "output_type": "stream",
     "text": [
      "556\n"
     ]
    }
   ],
   "source": [
    "my_list= [7,5,6,56,336,52,59,35]\n",
    "print(sum(my_list))"
   ]
  },
  {
   "cell_type": "code",
   "execution_count": 12,
   "id": "89b558a2-a534-4830-aa75-f434b1f73331",
   "metadata": {},
   "outputs": [
    {
     "name": "stdout",
     "output_type": "stream",
     "text": [
      "25\n"
     ]
    }
   ],
   "source": [
    "my_list=[1,2,3,4,5]\n",
    "other_value=10 \n",
    "#sum in to my_list\n",
    "print(sum(my_list,other_value))"
   ]
  },
  {
   "cell_type": "markdown",
   "id": "ce3e3438-9bcb-438b-8d4e-21fa82a395ed",
   "metadata": {},
   "source": [
    "### Eval Function\n",
    "##### eval(): Evaluates a python expressing stored in a srting"
   ]
  },
  {
   "cell_type": "code",
   "execution_count": 15,
   "id": "56c58a27-0139-43f9-85b2-3bb76bc6ff40",
   "metadata": {},
   "outputs": [
    {
     "name": "stdout",
     "output_type": "stream",
     "text": [
      "35\n"
     ]
    }
   ],
   "source": [
    "x=10\n",
    "y=5\n",
    "expression=\"x+y*5\"\n",
    "print(eval(expression))"
   ]
  },
  {
   "cell_type": "code",
   "execution_count": 24,
   "id": "fd50b494-ee40-45e6-820e-de7bd606b209",
   "metadata": {},
   "outputs": [
    {
     "name": "stdout",
     "output_type": "stream",
     "text": [
      "6.0\n"
     ]
    }
   ],
   "source": [
    "exp=\"5/2+3.5\"\n",
    "print(eval(exp))"
   ]
  },
  {
   "cell_type": "code",
   "execution_count": 25,
   "id": "17ff0819-2d69-4942-9705-1b217fa8fd80",
   "metadata": {},
   "outputs": [
    {
     "name": "stdout",
     "output_type": "stream",
     "text": [
      "5889.0\n"
     ]
    }
   ],
   "source": [
    "exp=\"235*25+63-98/2\"\n",
    "print(eval(exp))"
   ]
  },
  {
   "cell_type": "markdown",
   "id": "2f331ad4-3978-417b-97c9-47928c1ab81c",
   "metadata": {},
   "source": [
    "### Help Function\n",
    "##### The python help function is used to display the document of moduls, function, classes, keywords,etc"
   ]
  },
  {
   "cell_type": "code",
   "execution_count": 26,
   "id": "6e1d7dc7-5998-4958-82d2-e38a39de6651",
   "metadata": {},
   "outputs": [
    {
     "name": "stdout",
     "output_type": "stream",
     "text": [
      "Help on built-in function print in module builtins:\n",
      "\n",
      "print(*args, sep=' ', end='\\n', file=None, flush=False)\n",
      "    Prints the values to a stream, or to sys.stdout by default.\n",
      "\n",
      "    sep\n",
      "      string inserted between values, default a space.\n",
      "    end\n",
      "      string appended after the last value, default a newline.\n",
      "    file\n",
      "      a file-like object (stream); defaults to the current sys.stdout.\n",
      "    flush\n",
      "      whether to forcibly flush the stream.\n",
      "\n"
     ]
    }
   ],
   "source": [
    "help(print)"
   ]
  },
  {
   "cell_type": "code",
   "execution_count": 27,
   "id": "17adcba3-3204-484e-b90a-6f04dc7b806b",
   "metadata": {},
   "outputs": [
    {
     "name": "stdout",
     "output_type": "stream",
     "text": [
      "Help on class float in module builtins:\n",
      "\n",
      "class float(object)\n",
      " |  float(x=0, /)\n",
      " |\n",
      " |  Convert a string or number to a floating point number, if possible.\n",
      " |\n",
      " |  Methods defined here:\n",
      " |\n",
      " |  __abs__(self, /)\n",
      " |      abs(self)\n",
      " |\n",
      " |  __add__(self, value, /)\n",
      " |      Return self+value.\n",
      " |\n",
      " |  __bool__(self, /)\n",
      " |      True if self else False\n",
      " |\n",
      " |  __ceil__(self, /)\n",
      " |      Return the ceiling as an Integral.\n",
      " |\n",
      " |  __divmod__(self, value, /)\n",
      " |      Return divmod(self, value).\n",
      " |\n",
      " |  __eq__(self, value, /)\n",
      " |      Return self==value.\n",
      " |\n",
      " |  __float__(self, /)\n",
      " |      float(self)\n",
      " |\n",
      " |  __floor__(self, /)\n",
      " |      Return the floor as an Integral.\n",
      " |\n",
      " |  __floordiv__(self, value, /)\n",
      " |      Return self//value.\n",
      " |\n",
      " |  __format__(self, format_spec, /)\n",
      " |      Formats the float according to format_spec.\n",
      " |\n",
      " |  __ge__(self, value, /)\n",
      " |      Return self>=value.\n",
      " |\n",
      " |  __getattribute__(self, name, /)\n",
      " |      Return getattr(self, name).\n",
      " |\n",
      " |  __getnewargs__(self, /)\n",
      " |\n",
      " |  __gt__(self, value, /)\n",
      " |      Return self>value.\n",
      " |\n",
      " |  __hash__(self, /)\n",
      " |      Return hash(self).\n",
      " |\n",
      " |  __int__(self, /)\n",
      " |      int(self)\n",
      " |\n",
      " |  __le__(self, value, /)\n",
      " |      Return self<=value.\n",
      " |\n",
      " |  __lt__(self, value, /)\n",
      " |      Return self<value.\n",
      " |\n",
      " |  __mod__(self, value, /)\n",
      " |      Return self%value.\n",
      " |\n",
      " |  __mul__(self, value, /)\n",
      " |      Return self*value.\n",
      " |\n",
      " |  __ne__(self, value, /)\n",
      " |      Return self!=value.\n",
      " |\n",
      " |  __neg__(self, /)\n",
      " |      -self\n",
      " |\n",
      " |  __pos__(self, /)\n",
      " |      +self\n",
      " |\n",
      " |  __pow__(self, value, mod=None, /)\n",
      " |      Return pow(self, value, mod).\n",
      " |\n",
      " |  __radd__(self, value, /)\n",
      " |      Return value+self.\n",
      " |\n",
      " |  __rdivmod__(self, value, /)\n",
      " |      Return divmod(value, self).\n",
      " |\n",
      " |  __repr__(self, /)\n",
      " |      Return repr(self).\n",
      " |\n",
      " |  __rfloordiv__(self, value, /)\n",
      " |      Return value//self.\n",
      " |\n",
      " |  __rmod__(self, value, /)\n",
      " |      Return value%self.\n",
      " |\n",
      " |  __rmul__(self, value, /)\n",
      " |      Return value*self.\n",
      " |\n",
      " |  __round__(self, ndigits=None, /)\n",
      " |      Return the Integral closest to x, rounding half toward even.\n",
      " |\n",
      " |      When an argument is passed, work like built-in round(x, ndigits).\n",
      " |\n",
      " |  __rpow__(self, value, mod=None, /)\n",
      " |      Return pow(value, self, mod).\n",
      " |\n",
      " |  __rsub__(self, value, /)\n",
      " |      Return value-self.\n",
      " |\n",
      " |  __rtruediv__(self, value, /)\n",
      " |      Return value/self.\n",
      " |\n",
      " |  __sub__(self, value, /)\n",
      " |      Return self-value.\n",
      " |\n",
      " |  __truediv__(self, value, /)\n",
      " |      Return self/value.\n",
      " |\n",
      " |  __trunc__(self, /)\n",
      " |      Return the Integral closest to x between 0 and x.\n",
      " |\n",
      " |  as_integer_ratio(self, /)\n",
      " |      Return a pair of integers, whose ratio is exactly equal to the original float.\n",
      " |\n",
      " |      The ratio is in lowest terms and has a positive denominator.  Raise\n",
      " |      OverflowError on infinities and a ValueError on NaNs.\n",
      " |\n",
      " |      >>> (10.0).as_integer_ratio()\n",
      " |      (10, 1)\n",
      " |      >>> (0.0).as_integer_ratio()\n",
      " |      (0, 1)\n",
      " |      >>> (-.25).as_integer_ratio()\n",
      " |      (-1, 4)\n",
      " |\n",
      " |  conjugate(self, /)\n",
      " |      Return self, the complex conjugate of any float.\n",
      " |\n",
      " |  hex(self, /)\n",
      " |      Return a hexadecimal representation of a floating-point number.\n",
      " |\n",
      " |      >>> (-0.1).hex()\n",
      " |      '-0x1.999999999999ap-4'\n",
      " |      >>> 3.14159.hex()\n",
      " |      '0x1.921f9f01b866ep+1'\n",
      " |\n",
      " |  is_integer(self, /)\n",
      " |      Return True if the float is an integer.\n",
      " |\n",
      " |  ----------------------------------------------------------------------\n",
      " |  Class methods defined here:\n",
      " |\n",
      " |  __getformat__(typestr, /)\n",
      " |      You probably don't want to use this function.\n",
      " |\n",
      " |        typestr\n",
      " |          Must be 'double' or 'float'.\n",
      " |\n",
      " |      It exists mainly to be used in Python's test suite.\n",
      " |\n",
      " |      This function returns whichever of 'unknown', 'IEEE, big-endian' or 'IEEE,\n",
      " |      little-endian' best describes the format of floating point numbers used by the\n",
      " |      C type named by typestr.\n",
      " |\n",
      " |  fromhex(string, /)\n",
      " |      Create a floating-point number from a hexadecimal string.\n",
      " |\n",
      " |      >>> float.fromhex('0x1.ffffp10')\n",
      " |      2047.984375\n",
      " |      >>> float.fromhex('-0x1p-1074')\n",
      " |      -5e-324\n",
      " |\n",
      " |  ----------------------------------------------------------------------\n",
      " |  Static methods defined here:\n",
      " |\n",
      " |  __new__(*args, **kwargs)\n",
      " |      Create and return a new object.  See help(type) for accurate signature.\n",
      " |\n",
      " |  ----------------------------------------------------------------------\n",
      " |  Data descriptors defined here:\n",
      " |\n",
      " |  imag\n",
      " |      the imaginary part of a complex number\n",
      " |\n",
      " |  real\n",
      " |      the real part of a complex number\n",
      "\n"
     ]
    }
   ],
   "source": [
    "help(float)"
   ]
  },
  {
   "cell_type": "code",
   "execution_count": 28,
   "id": "7a36cf9a-3c1c-4faa-8b8b-fa4076a24631",
   "metadata": {
    "scrolled": true
   },
   "outputs": [
    {
     "name": "stdout",
     "output_type": "stream",
     "text": [
      "Help on built-in function sum in module builtins:\n",
      "\n",
      "sum(iterable, /, start=0)\n",
      "    Return the sum of a 'start' value (default: 0) plus an iterable of numbers\n",
      "\n",
      "    When the iterable is empty, return the start value.\n",
      "    This function is intended specifically for use with numeric values and may\n",
      "    reject non-numeric types.\n",
      "\n"
     ]
    }
   ],
   "source": [
    "help(sum)"
   ]
  },
  {
   "cell_type": "code",
   "execution_count": 33,
   "id": "468e05e3-84f9-479b-850c-05e93ef4e151",
   "metadata": {
    "scrolled": true
   },
   "outputs": [
    {
     "data": {
      "text/plain": [
       "\u001b[1;31mSignature:\u001b[0m \u001b[0msum\u001b[0m\u001b[1;33m(\u001b[0m\u001b[0miterable\u001b[0m\u001b[1;33m,\u001b[0m \u001b[1;33m/\u001b[0m\u001b[1;33m,\u001b[0m \u001b[0mstart\u001b[0m\u001b[1;33m=\u001b[0m\u001b[1;36m0\u001b[0m\u001b[1;33m)\u001b[0m\u001b[1;33m\u001b[0m\u001b[1;33m\u001b[0m\u001b[0m\n",
       "\u001b[1;31mDocstring:\u001b[0m\n",
       "Return the sum of a 'start' value (default: 0) plus an iterable of numbers\n",
       "\n",
       "When the iterable is empty, return the start value.\n",
       "This function is intended specifically for use with numeric values and may\n",
       "reject non-numeric types.\n",
       "\u001b[1;31mType:\u001b[0m      builtin_function_or_method"
      ]
     },
     "metadata": {},
     "output_type": "display_data"
    }
   ],
   "source": [
    "sum??\n",
    "#2nd way to know about info"
   ]
  },
  {
   "cell_type": "markdown",
   "id": "f6744591-a7ce-4153-9312-25c30a024ea7",
   "metadata": {},
   "source": [
    "### Input Function"
   ]
  },
  {
   "cell_type": "code",
   "execution_count": 39,
   "id": "26b4096a-7fce-4548-8ad7-4dbbd542ffe1",
   "metadata": {},
   "outputs": [
    {
     "name": "stdin",
     "output_type": "stream",
     "text": [
      "Enter your name chandan rai\n"
     ]
    },
    {
     "name": "stdout",
     "output_type": "stream",
     "text": [
      "Name enter by user is: chandan rai\n",
      "<class 'str'>\n"
     ]
    }
   ],
   "source": [
    "name=input(\"Enter your name\") #always give string data type output\n",
    "print(\"Name enter by user is:\",name)\n",
    "print(type(name))"
   ]
  },
  {
   "cell_type": "code",
   "execution_count": 41,
   "id": "0b783ded-28ef-45e8-80f7-0aa8aa347c7a",
   "metadata": {},
   "outputs": [
    {
     "name": "stdin",
     "output_type": "stream",
     "text": [
      "Enter age 25\n"
     ]
    },
    {
     "name": "stdout",
     "output_type": "stream",
     "text": [
      "age is: 25\n",
      "<class 'str'>\n"
     ]
    }
   ],
   "source": [
    "age=input(\"Enter age\")\n",
    "print(\"age is:\",age)\n",
    "print(type(age))"
   ]
  },
  {
   "cell_type": "markdown",
   "id": "17d8a721-35ac-454d-8be7-b841f20e2cb8",
   "metadata": {},
   "source": [
    "## Practice Questions"
   ]
  },
  {
   "cell_type": "markdown",
   "id": "7691eca8-ee72-4f65-98c2-89c2d0a0a7e6",
   "metadata": {},
   "source": [
    "### Question 1"
   ]
  },
  {
   "cell_type": "markdown",
   "id": "ac824c1a-e10c-4af8-84f6-f2739ebe1fd5",
   "metadata": {},
   "source": [
    "Get two numbers from the user and calculate thire sum"
   ]
  },
  {
   "cell_type": "code",
   "execution_count": 49,
   "id": "a7f576b7-bf3c-4988-bb1a-63fa70a19212",
   "metadata": {},
   "outputs": [
    {
     "name": "stdin",
     "output_type": "stream",
     "text": [
      "Enter number first 25\n",
      "Enter number secend 10\n"
     ]
    },
    {
     "name": "stdout",
     "output_type": "stream",
     "text": [
      "sum is: 35\n"
     ]
    }
   ],
   "source": [
    "#solve:-\n",
    "num_1=int(input(\"Enter number first\"))\n",
    "num_2=int(input(\"Enter number secend\"))\n",
    "sum= num_1+num_2\n",
    "print(\"sum is:\",sum)"
   ]
  },
  {
   "cell_type": "markdown",
   "id": "5b74e2a4-15a9-424e-9898-c8b43fa37eff",
   "metadata": {},
   "source": [
    "### Question 2"
   ]
  },
  {
   "cell_type": "raw",
   "id": "7c945b9c-5005-42ff-b45d-4284a2ff22c4",
   "metadata": {},
   "source": [
    "As part of your role in a data- driven project,\n",
    "you need to take input from the user for their \n",
    "age, weight ,and hight, however , there's an issue:\n",
    "the user has entered thire age of the user, and after\n",
    "correcting the age, calculte theire basel metabolic rate (BMR)\n",
    "using the Harris- benedict eqaltion for men.\n",
    " ensure that final answer of BMR is an integer\n",
    "\n",
    "Basal Metabolic Rate (BMR):\n",
    "formula (Harris-Benedict equation for men):\n",
    "BMR= 88.362 + (13.397 * weight in kg) +(4.799 * height in cm) - (5.677 * age in years)"
   ]
  },
  {
   "cell_type": "code",
   "execution_count": 8,
   "id": "9317abf9-3c38-4040-b15c-a5fba5e1720c",
   "metadata": {},
   "outputs": [
    {
     "name": "stdin",
     "output_type": "stream",
     "text": [
      "Enter age: -30\n",
      "Enter weight: 50\n",
      "Enter hight: 5.6\n"
     ]
    },
    {
     "name": "stdout",
     "output_type": "stream",
     "text": [
      "correct age is: 30\n",
      "final bmr is: 955\n"
     ]
    }
   ],
   "source": [
    "#solve:-\n",
    "#Case 1 \n",
    "age=int(input(\"Enter age:\"))\n",
    "weight=int(input(\"Enter weight:\"))\n",
    "height=float(input(\"Enter hight:\"))\n",
    "#case 2\n",
    "correct_age=age\n",
    "print(\"correct age is:\",abs(correct_age))\n",
    "#case 3\n",
    "#final Answer of BMR\n",
    "BMR= 88.362 + (13.397 * weight) +(4.799 * height) - (5.677 * age)\n",
    "bmr=BMR\n",
    "print(\"final bmr is:\",int(bmr))\n"
   ]
  },
  {
   "cell_type": "markdown",
   "id": "f639cf0c-5201-4b5f-bac0-d373dec7439e",
   "metadata": {},
   "source": [
    "## Home Work"
   ]
  },
  {
   "cell_type": "markdown",
   "id": "3011c132-2e3a-410b-8c32-27eca727c5b0",
   "metadata": {},
   "source": [
    "### Question 3"
   ]
  },
  {
   "cell_type": "markdown",
   "id": "30478e4c-f645-4844-83fa-3e1dd0d4d418",
   "metadata": {},
   "source": [
    "write a python code for hostel students, ask them to mention thier course, name and age,\n",
    "for 5 student annd calculate avg age."
   ]
  },
  {
   "cell_type": "code",
   "execution_count": null,
   "id": "406c11ee-06e0-474c-b535-d4ffb37e2eca",
   "metadata": {},
   "outputs": [],
   "source": []
  }
 ],
 "metadata": {
  "kernelspec": {
   "display_name": "Python 3 (ipykernel)",
   "language": "python",
   "name": "python3"
  },
  "language_info": {
   "codemirror_mode": {
    "name": "ipython",
    "version": 3
   },
   "file_extension": ".py",
   "mimetype": "text/x-python",
   "name": "python",
   "nbconvert_exporter": "python",
   "pygments_lexer": "ipython3",
   "version": "3.12.4"
  }
 },
 "nbformat": 4,
 "nbformat_minor": 5
}

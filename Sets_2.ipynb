{
 "cells": [
  {
   "cell_type": "markdown",
   "id": "8d4e2d8b-60ba-456e-9bca-2f016fab3877",
   "metadata": {},
   "source": [
    "# Sets part 2"
   ]
  },
  {
   "cell_type": "markdown",
   "id": "eaf5d560-d5e5-451f-bbab-10ad33d9f8f8",
   "metadata": {},
   "source": [
    "### True and 1 are considered as same Value"
   ]
  },
  {
   "cell_type": "code",
   "execution_count": 9,
   "id": "fa7ef384-a27b-49b2-be8c-ebc3064c2554",
   "metadata": {},
   "outputs": [
    {
     "name": "stdout",
     "output_type": "stream",
     "text": [
      "{1, 'animal', 7, 9, 26, 'ball', 25}\n"
     ]
    }
   ],
   "source": [
    "a={'animal',\"ball\",1,25,26,9,7,True}\n",
    "print(a)"
   ]
  },
  {
   "cell_type": "code",
   "execution_count": 8,
   "id": "a671f719-b474-439b-b6e6-97ecb5d8b779",
   "metadata": {},
   "outputs": [
    {
     "name": "stdout",
     "output_type": "stream",
     "text": [
      "{0, 1, 'animal', 7, 9, 'ball', 26, 25}\n"
     ]
    }
   ],
   "source": [
    "a={'animal',\"ball\",1,0,25,26,9,7,False,True,0}\n",
    "print(a)"
   ]
  },
  {
   "cell_type": "code",
   "execution_count": 10,
   "id": "c04ae3b0-ee75-4104-8bfb-a01deb67f9fa",
   "metadata": {},
   "outputs": [
    {
     "name": "stdout",
     "output_type": "stream",
     "text": [
      "{False, True, 'animal', 7, 9, 'ball', 26, 25}\n"
     ]
    }
   ],
   "source": [
    "a={'animal',\"ball\",25,26,9,7,False,True,}\n",
    "print(a)"
   ]
  },
  {
   "cell_type": "markdown",
   "id": "b3d56da9-df82-4700-90e9-125be30d799f",
   "metadata": {},
   "source": [
    "### Nested is not a property of the set"
   ]
  },
  {
   "cell_type": "code",
   "execution_count": 12,
   "id": "29be9da9-f11b-4982-984f-fe134fdda832",
   "metadata": {},
   "outputs": [
    {
     "ename": "TypeError",
     "evalue": "unhashable type: 'set'",
     "output_type": "error",
     "traceback": [
      "\u001b[1;31m---------------------------------------------------------------------------\u001b[0m",
      "\u001b[1;31mTypeError\u001b[0m                                 Traceback (most recent call last)",
      "Cell \u001b[1;32mIn[12], line 1\u001b[0m\n\u001b[1;32m----> 1\u001b[0m a\u001b[38;5;241m=\u001b[39m{\u001b[38;5;241m11\u001b[39m,\u001b[38;5;241m12\u001b[39m,\u001b[38;5;241m13\u001b[39m,{\u001b[38;5;241m4\u001b[39m,\u001b[38;5;241m5\u001b[39m,\u001b[38;5;241m6\u001b[39m}}\n\u001b[0;32m      2\u001b[0m \u001b[38;5;28mprint\u001b[39m(a)\n",
      "\u001b[1;31mTypeError\u001b[0m: unhashable type: 'set'"
     ]
    }
   ],
   "source": [
    "a={11,12,13,{4,5,6}}\n",
    "print(a) # unhasable type "
   ]
  },
  {
   "cell_type": "markdown",
   "id": "2d2dacaf-d35f-42ed-8155-f5e6b56763c6",
   "metadata": {},
   "source": [
    "### Check if item is present in the set or not  using (in keyword)"
   ]
  },
  {
   "cell_type": "code",
   "execution_count": 14,
   "id": "b2348274-6f45-4c7d-8c3c-1085b8c5316a",
   "metadata": {},
   "outputs": [
    {
     "name": "stdout",
     "output_type": "stream",
     "text": [
      "True\n"
     ]
    }
   ],
   "source": [
    "a={\"data\",\"Chandan\",\"Python\"}\n",
    "print(\"Chandan\"in a)"
   ]
  },
  {
   "cell_type": "code",
   "execution_count": 16,
   "id": "9cf8b405-46eb-4005-9c54-12904c5b6042",
   "metadata": {},
   "outputs": [
    {
     "name": "stdout",
     "output_type": "stream",
     "text": [
      "False\n"
     ]
    }
   ],
   "source": [
    "b={\"chandan\",\"python\",\"science\"}\n",
    "print(\"learn\" in b)"
   ]
  },
  {
   "cell_type": "code",
   "execution_count": 1,
   "id": "ccd4f43e-fa93-448a-975b-1fec9f3d3c85",
   "metadata": {},
   "outputs": [
    {
     "name": "stdout",
     "output_type": "stream",
     "text": [
      "True\n"
     ]
    }
   ],
   "source": [
    "c={1,2,23,25,25,28}\n",
    "print(25 in c)"
   ]
  },
  {
   "cell_type": "markdown",
   "id": "16d8577d-63f1-424f-b64c-00a839b51a1e",
   "metadata": {},
   "source": [
    "### get the length of sets len()"
   ]
  },
  {
   "cell_type": "code",
   "execution_count": 2,
   "id": "272448fc-d6fa-49af-b0a7-4bbbcd7abe3c",
   "metadata": {},
   "outputs": [
    {
     "name": "stdout",
     "output_type": "stream",
     "text": [
      "6\n"
     ]
    }
   ],
   "source": [
    "a={\"animal\",\"bat\",\"chandan\",25,36.5,58}\n",
    "print(len(a))"
   ]
  },
  {
   "cell_type": "markdown",
   "id": "671136ab-6ab6-4362-82a8-338cd6fdd8e0",
   "metadata": {},
   "source": [
    "### Add item function is (.add(value))\n",
    "#### once a set created , you can not change the item but you can add the new item"
   ]
  },
  {
   "cell_type": "code",
   "execution_count": 5,
   "id": "88aabfdc-d3f9-410c-adb6-6a071fa48ef4",
   "metadata": {},
   "outputs": [
    {
     "name": "stdout",
     "output_type": "stream",
     "text": [
      "{1, 2, 3, 'a1', 25, 'c1', 'B1'}\n"
     ]
    }
   ],
   "source": [
    "a={\"a1\",\"B1\",\"c1\",1,2,3}\n",
    "a.add(25)\n",
    "print(a)"
   ]
  },
  {
   "cell_type": "code",
   "execution_count": 4,
   "id": "4efe502c-710d-4a52-9af5-06b371831dfe",
   "metadata": {},
   "outputs": [
    {
     "name": "stdout",
     "output_type": "stream",
     "text": [
      "{1, 2, 3, 4, 5, 6, 7, 8, 'a1', 'B1', 'c1'}\n",
      "<class 'set'>\n"
     ]
    }
   ],
   "source": [
    "a={\"a1\",\"B1\",\"c1\",1,2,3}\n",
    "list_5=list(a)\n",
    "list_5.append(7)\n",
    "list_5.insert(10,8)\n",
    "list_5.extend([4,5,6])\n",
    "d=set(list_5)\n",
    "print(d)\n",
    "print(type(d))"
   ]
  },
  {
   "cell_type": "markdown",
   "id": "b1bc369f-7e4d-419d-ae1c-2764e1e29b1a",
   "metadata": {},
   "source": [
    "### Update Method keyword (.update)"
   ]
  },
  {
   "cell_type": "code",
   "execution_count": 6,
   "id": "6c943b22-c4ee-4d47-8be3-82a27caa42c0",
   "metadata": {},
   "outputs": [
    {
     "name": "stdout",
     "output_type": "stream",
     "text": [
      "{1, 2, 3, 'B1', 'c1', 'data', 'science', 'a1'}\n"
     ]
    }
   ],
   "source": [
    "a={\"a1\",\"B1\",\"c1\",1,2,3}\n",
    "b={\"data\",\"science\"}\n",
    "a.update(b)\n",
    "print(a)"
   ]
  },
  {
   "cell_type": "markdown",
   "id": "6f049db6-95e2-48af-a0cd-9c94bcbebfe2",
   "metadata": {},
   "source": [
    "### Remove item form set"
   ]
  },
  {
   "cell_type": "code",
   "execution_count": 9,
   "id": "c62b1a28-598d-41ae-b1fd-19a0fee2151e",
   "metadata": {},
   "outputs": [
    {
     "name": "stdout",
     "output_type": "stream",
     "text": [
      "{1, 3, 'B1', 'c1', 'a1'}\n"
     ]
    }
   ],
   "source": [
    "a={\"a1\",\"B1\",\"c1\",1,2,3}\n",
    "a.remove(2)\n",
    "print(a)"
   ]
  },
  {
   "cell_type": "markdown",
   "id": "d79ac899-6c03-426d-abfe-e4d52aeca315",
   "metadata": {},
   "source": [
    "### Remove multipal item from set"
   ]
  },
  {
   "cell_type": "code",
   "execution_count": 14,
   "id": "d0f6d6e5-ab2f-4e2c-b6ce-066e98ce203e",
   "metadata": {},
   "outputs": [
    {
     "name": "stdout",
     "output_type": "stream",
     "text": [
      "{1, 2, 3, 'B1', 'c1'}\n"
     ]
    }
   ],
   "source": [
    "a={\"a1\",\"B1\",\"c1\",1,2,3,85,86,\"chandan\"}\n",
    "remove_element={\"a1\",85,86,\"chandan\"}\n",
    "for i in remove_element:\n",
    "    a.remove(i)\n",
    "print(a)"
   ]
  },
  {
   "cell_type": "markdown",
   "id": "b4488372-f227-4266-b0cc-ee78bb0e6a74",
   "metadata": {},
   "source": [
    "### pop method .pop()\n",
    "##### This method remove random item"
   ]
  },
  {
   "cell_type": "code",
   "execution_count": 16,
   "id": "dacb6232-d644-4cc1-bbbd-d3403acbc87e",
   "metadata": {},
   "outputs": [
    {
     "name": "stdout",
     "output_type": "stream",
     "text": [
      "{2, 3, 'chandan', 'a1', 'B1', 'c1', 85, 86}\n",
      "1\n"
     ]
    }
   ],
   "source": [
    "a={\"a1\",\"B1\",\"c1\",1,2,3,85,86,\"chandan\"}\n",
    "c=a.pop()\n",
    "print(a)\n",
    "print(c)"
   ]
  },
  {
   "cell_type": "markdown",
   "id": "c7dfd214-a665-4efe-be7e-3732d6c18cfc",
   "metadata": {},
   "source": [
    "### Clear Method\n",
    "#### this method clear(Empty) all set element"
   ]
  },
  {
   "cell_type": "code",
   "execution_count": 18,
   "id": "85df182a-af47-4fa6-a32a-71ef1da787b4",
   "metadata": {},
   "outputs": [
    {
     "name": "stdout",
     "output_type": "stream",
     "text": [
      "set()\n"
     ]
    }
   ],
   "source": [
    "a={\"data\",\"Chandan\",\"Python\"}\n",
    "a.clear()\n",
    "print(a)"
   ]
  },
  {
   "cell_type": "markdown",
   "id": "0f2098c4-505e-4275-be6b-4b065204db38",
   "metadata": {},
   "source": [
    "### Del method\n",
    "##### this method total empty a memory of set"
   ]
  },
  {
   "cell_type": "code",
   "execution_count": 20,
   "id": "7ae16973-6198-4f87-bc82-c7db1aebaf1f",
   "metadata": {},
   "outputs": [
    {
     "ename": "NameError",
     "evalue": "name 'a' is not defined",
     "output_type": "error",
     "traceback": [
      "\u001b[1;31m---------------------------------------------------------------------------\u001b[0m",
      "\u001b[1;31mNameError\u001b[0m                                 Traceback (most recent call last)",
      "Cell \u001b[1;32mIn[20], line 3\u001b[0m\n\u001b[0;32m      1\u001b[0m a\u001b[38;5;241m=\u001b[39m{\u001b[38;5;124m\"\u001b[39m\u001b[38;5;124mdata\u001b[39m\u001b[38;5;124m\"\u001b[39m,\u001b[38;5;124m\"\u001b[39m\u001b[38;5;124mChandan\u001b[39m\u001b[38;5;124m\"\u001b[39m,\u001b[38;5;124m\"\u001b[39m\u001b[38;5;124mPython\u001b[39m\u001b[38;5;124m\"\u001b[39m}\n\u001b[0;32m      2\u001b[0m \u001b[38;5;28;01mdel\u001b[39;00m a\n\u001b[1;32m----> 3\u001b[0m \u001b[38;5;28mprint\u001b[39m(a)\n",
      "\u001b[1;31mNameError\u001b[0m: name 'a' is not defined"
     ]
    }
   ],
   "source": [
    "a={\"data\",\"Chandan\",\"Python\"}\n",
    "del a\n",
    "print(a)"
   ]
  },
  {
   "cell_type": "markdown",
   "id": "8a2f704f-81be-44ed-873e-b93a92049716",
   "metadata": {},
   "source": [
    "### Join two set\n",
    "##### .union(value)"
   ]
  },
  {
   "cell_type": "code",
   "execution_count": 26,
   "id": "6cad2dac-ac48-4ab5-961b-9c32402c3df9",
   "metadata": {},
   "outputs": [
    {
     "name": "stdout",
     "output_type": "stream",
     "text": [
      "{1, 2, 3, 4, 5, 'b', 'd', 'c', 'a'}\n"
     ]
    }
   ],
   "source": [
    "x={'a','b','c','d'}\n",
    "y={1,2,3,4,5}\n",
    "z=x.union(y)\n",
    "print(z)"
   ]
  },
  {
   "cell_type": "markdown",
   "id": "9db2c01d-6179-4f5c-a1fb-d51633e2ef0e",
   "metadata": {},
   "source": [
    "### Question 1"
   ]
  },
  {
   "cell_type": "markdown",
   "id": "26c5407a-7e5b-40c5-a500-d3faf8a0e571",
   "metadata": {},
   "source": [
    "write a python program to find the maximum and minimum value in sets"
   ]
  },
  {
   "cell_type": "code",
   "execution_count": 3,
   "id": "a6b18f5a-cf25-4067-b922-98328fd65b9b",
   "metadata": {},
   "outputs": [
    {
     "name": "stdout",
     "output_type": "stream",
     "text": [
      "The maximum value in this sets is:- 20\n",
      "The minimum value in this sets is:- 2\n"
     ]
    }
   ],
   "source": [
    "setn={5,10,15,3,2,20,14,15,2}\n",
    "print(\"The maximum value in this sets is:-\",max(setn))\n",
    "print(\"The minimum value in this sets is:-\",min(setn))"
   ]
  },
  {
   "cell_type": "markdown",
   "id": "cf1b1bc5-cefb-495d-b12c-5014b1bf5fa5",
   "metadata": {},
   "source": [
    "### Set opration"
   ]
  },
  {
   "cell_type": "markdown",
   "id": "82358e1c-fa6b-475e-bd8b-87cf96f74d03",
   "metadata": {},
   "source": [
    "#### union method"
   ]
  },
  {
   "cell_type": "code",
   "execution_count": 5,
   "id": "6c008b6a-0ec7-46f0-9f7a-594b914a9011",
   "metadata": {},
   "outputs": [
    {
     "name": "stdout",
     "output_type": "stream",
     "text": [
      "{1, 2, 3, 4, 5}\n"
     ]
    }
   ],
   "source": [
    "# find union\n",
    "set1={1,2,3,}\n",
    "set2={3,4,5}\n",
    "union_set=set1.union(set2)\n",
    "print(union_set)"
   ]
  },
  {
   "cell_type": "markdown",
   "id": "9b4f4af7-0121-4e34-89ab-4c3cd32e6a60",
   "metadata": {},
   "source": [
    "#### Intersection method\n",
    "##### set.inntersection(set)"
   ]
  },
  {
   "cell_type": "code",
   "execution_count": 7,
   "id": "4e3f0b1a-67e0-44d4-9d2f-3f5f3d41d49b",
   "metadata": {},
   "outputs": [
    {
     "name": "stdout",
     "output_type": "stream",
     "text": [
      "{3}\n"
     ]
    }
   ],
   "source": [
    "# find entersection\n",
    "set1={1,2,3,}\n",
    "set2={3,4,5}\n",
    "intersection=set1.intersection(set2)\n",
    "print(intersection)"
   ]
  },
  {
   "cell_type": "markdown",
   "id": "add366a1-7961-4c3b-b246-de9268dba29b",
   "metadata": {},
   "source": [
    "#### Difference method"
   ]
  },
  {
   "cell_type": "code",
   "execution_count": 12,
   "id": "77db74a5-4eec-466e-b33f-4db9c7e605d2",
   "metadata": {},
   "outputs": [
    {
     "name": "stdout",
     "output_type": "stream",
     "text": [
      "{1, 2}\n"
     ]
    }
   ],
   "source": [
    "set1={1,2,3}\n",
    "set2={3,4,5}\n",
    "diff=set1.difference(set2)\n",
    "print(diff)"
   ]
  },
  {
   "cell_type": "markdown",
   "id": "0f0ae3e5-3b77-4edb-8b0a-87e65c372638",
   "metadata": {},
   "source": [
    "### Practice Question"
   ]
  },
  {
   "cell_type": "raw",
   "id": "dc340a82-7d86-40cf-947f-f854617e62b7",
   "metadata": {},
   "source": [
    "Difine two sets student_passed math and students_passed_science \n",
    "conataining student ids who passed math scince this respectvily write python code to \n",
    "\n",
    "1. Print the number of student who pass math and science \n",
    "2. prunt student ids who pass only math \n",
    "3. print the student ids who pass science \n",
    "4. dettermnine id student_pass_math is subset student pass science\n",
    "5. dettermine if student_pass_science is subset of students_pass math  (#.issubset method)\n"
   ]
  },
  {
   "cell_type": "code",
   "execution_count": 15,
   "id": "dd7a8b13-0e63-4a1d-99bd-caa02cc2cd9d",
   "metadata": {},
   "outputs": [
    {
     "name": "stdout",
     "output_type": "stream",
     "text": [
      "Both subject passed student {104, 105, 103}\n",
      "Student who passed in math is:- {101, 102}\n",
      "Student who passed in science is:- {106, 107}\n",
      "Student_pass_science is subset of students_pass math:- False\n"
     ]
    }
   ],
   "source": [
    "# Difine the two sets\n",
    "student_passed_math={101,102,103,104,105}\n",
    "student_passed_science={103,104,105,106,107}\n",
    "\n",
    "#print both  subject passed student\n",
    "total_passed_student=student_passed_math.intersection(student_passed_science)\n",
    "print(\"Both subject passed student\",total_passed_student)\n",
    "\n",
    "#print math pass only\n",
    "only_math=student_passed_math.difference(student_passed_science)\n",
    "print(\"Student who passed in math is:-\",only_math)\n",
    "\n",
    "#print science pass only\n",
    "only_science=student_passed_science.difference(student_passed_math)\n",
    "print(\"Student who passed in science is:-\",only_science)\n",
    "\n",
    "#print subset \n",
    "subset=student_passed_math.issubset(student_passed_science)\n",
    "print(\"Student_pass_science is subset of students_pass math:-\",subset)"
   ]
  },
  {
   "cell_type": "code",
   "execution_count": null,
   "id": "1166b1fe-1c48-435a-ba59-19d933ac104c",
   "metadata": {},
   "outputs": [],
   "source": []
  }
 ],
 "metadata": {
  "kernelspec": {
   "display_name": "Python 3 (ipykernel)",
   "language": "python",
   "name": "python3"
  },
  "language_info": {
   "codemirror_mode": {
    "name": "ipython",
    "version": 3
   },
   "file_extension": ".py",
   "mimetype": "text/x-python",
   "name": "python",
   "nbconvert_exporter": "python",
   "pygments_lexer": "ipython3",
   "version": "3.12.4"
  }
 },
 "nbformat": 4,
 "nbformat_minor": 5
}

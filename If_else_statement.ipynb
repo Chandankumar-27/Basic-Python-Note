{
 "cells": [
  {
   "cell_type": "markdown",
   "id": "9ec4adcc-80a3-400c-b2ee-2b5488e5d19b",
   "metadata": {},
   "source": [
    "# Cantrol Flow Statement"
   ]
  },
  {
   "cell_type": "markdown",
   "id": "2e7bb5d8-2496-4b83-afe5-bb88dc6b87df",
   "metadata": {},
   "source": [
    "## If Statement"
   ]
  },
  {
   "cell_type": "code",
   "execution_count": 2,
   "id": "941e7bf8-3381-4502-96a5-17fdc80aa983",
   "metadata": {},
   "outputs": [
    {
     "name": "stdout",
     "output_type": "stream",
     "text": [
      "20 is Greater than 10\n"
     ]
    }
   ],
   "source": [
    "i=20\n",
    "\n",
    "if(i>10): #Condiction \n",
    "    print(\"20 is Greater than 10\")# Exicute"
   ]
  },
  {
   "cell_type": "markdown",
   "id": "bc856b19-b368-4763-8185-95392d508516",
   "metadata": {},
   "source": [
    "### Question 1"
   ]
  },
  {
   "cell_type": "markdown",
   "id": "31495ae9-fbdd-4d5e-bd5c-8e7b45b3bc85",
   "metadata": {},
   "source": [
    "Develop a temprature converter  in python for a\n",
    "cold storage that convert temprature \n",
    "between celsius and fahrenhit scales.\n",
    "the program should  take a temprature value\n",
    "and a unit (C OR F)as input. if the temprature \n",
    "is less than 15 degree celsius, inform the user\n",
    "that the temprature is not convenient.\n",
    "if the temprature is between 24 to 28 degrees celsius,\n",
    "inform the user that the tempratura is convenient."
   ]
  },
  {
   "cell_type": "code",
   "execution_count": 27,
   "id": "6652a25e-b795-423e-9770-b26e4b1ab6e3",
   "metadata": {},
   "outputs": [
    {
     "name": "stdin",
     "output_type": "stream",
     "text": [
      "User enter temprature 15\n"
     ]
    },
    {
     "name": "stdout",
     "output_type": "stream",
     "text": [
      "15.0 Celsius temprature is too low for convenient\n"
     ]
    }
   ],
   "source": [
    "#solve:-\n",
    "tem_celsius=float(input(\"User enter temprature\"))#input from user\n",
    "if(tem_celsius<=15):\n",
    "    print(tem_celsius,\"Celsius temprature is too low for convenient\")\n",
    "    \n",
    "if(24<tem_celsius<28):\n",
    "     print(tem_celsius,\"Celsius temprature is convenient\")"
   ]
  },
  {
   "cell_type": "markdown",
   "id": "32b7e841-2e0b-4017-acab-d734b6f00522",
   "metadata": {},
   "source": [
    "## if else statement"
   ]
  },
  {
   "cell_type": "markdown",
   "id": "f9bea22b-09a0-468e-8664-74079615cf48",
   "metadata": {},
   "source": [
    "### Question 2"
   ]
  },
  {
   "cell_type": "markdown",
   "id": "fa69ed1b-e8d2-428f-a0cc-21f277785c03",
   "metadata": {},
   "source": [
    "write a programe to check weather a persion is eligible for voting or not"
   ]
  },
  {
   "cell_type": "code",
   "execution_count": 5,
   "id": "f8cad662-fbcb-4e43-9612-d0984a01664d",
   "metadata": {},
   "outputs": [
    {
     "name": "stdin",
     "output_type": "stream",
     "text": [
      "Enter your age:- 18\n"
     ]
    },
    {
     "name": "stdout",
     "output_type": "stream",
     "text": [
      " Yes,you are eligible for Vote\n"
     ]
    }
   ],
   "source": [
    "#solve:-\n",
    "user_age=int(input(\"Enter your age:-\"))\n",
    "if(user_age>=18):\n",
    "    print(\" Yes,you are eligible for Vote\")\n",
    "else:\n",
    "    print(\"you are not eligible for vote\")"
   ]
  },
  {
   "cell_type": "markdown",
   "id": "dd5384ae-f232-48af-84ef-55df277a8a26",
   "metadata": {},
   "source": [
    "### Question 3"
   ]
  },
  {
   "cell_type": "markdown",
   "id": "233008c2-0bc4-4c86-809f-4e535513fefd",
   "metadata": {},
   "source": [
    "you are tasked with developing a python program to manage employee salaryies for a company \n",
    "you program should calculate the base salary , deduction ,\n",
    "and bonuses, additionally , employees who have with the company for more than 5 years are eligible for\n",
    "an additional loyalty bonus, 8% of salary . Deducation of all tax will be 12% \n",
    "\n",
    "write a pythone script that promots the user to  input the following information  for each employee:\n",
    "Base salary\n",
    "Year of service\n",
    "                                                                    \n",
    "After calculate the net saalry,\n",
    "the program should print a summary for each employee include their base salary,deducation,bonuses,loyalty bonus,and net salary"
   ]
  },
  {
   "cell_type": "code",
   "execution_count": 18,
   "id": "166f1d2e-74a5-44ed-b77e-0086a3856848",
   "metadata": {},
   "outputs": [
    {
     "name": "stdin",
     "output_type": "stream",
     "text": [
      "Enter your base salary:- 50000\n",
      "Enter year of your service:- 6\n"
     ]
    },
    {
     "name": "stdout",
     "output_type": "stream",
     "text": [
      "Your  loyalty bonus is:- 4000.0\n",
      "Tax Deducation amt is:- 6000.0\n",
      "Net Salary is:- 48000.0\n"
     ]
    }
   ],
   "source": [
    "#solve:-\n",
    "base_salary=float(input(\"Enter your base salary:-\"))\n",
    "year_of_service=int(input(\"Enter year of your service:-\"))\n",
    "tax_deducation_amt=(base_salary*12/100)#tax Amt\n",
    "salary_after_tax=(base_salary-tax_deducation_amt)\n",
    "# condiction for bonus\n",
    "bonus=base_salary*8/100\n",
    "if(year_of_service>=5):\n",
    "    total_salary=base_salary+bonus\n",
    "    tax_deducation=base_salary*12/100\n",
    "    Net_salary=total_salary-tax_deducation\n",
    "    print(\"Your  loyalty bonus is:-\",bonus)\n",
    "    #print(\"Total salary after bonus is:-\",total_salary)\n",
    "    print(\"Tax Deducation amt is:-\",tax_deducation)\n",
    "    print(\"Net Salary is:-\",Net_salary)\n",
    "else:\n",
    "    print(\"Your net salary is:-\",salary_after_tax)\n",
    "    "
   ]
  },
  {
   "cell_type": "markdown",
   "id": "22c457b1-cb9a-48bd-afda-b160a5c2277b",
   "metadata": {},
   "source": [
    "## if elif else"
   ]
  },
  {
   "cell_type": "markdown",
   "id": "7881d2b7-15e9-4012-a6be-a18d139f1186",
   "metadata": {},
   "source": [
    "write a python program that promts the user to input\n",
    "a city a and display the famous monument of that city.\n",
    "\n",
    "mumbai: Gateway of India\n",
    "kolkata: Victoria memorial\n",
    "Chennai: Marina garden\n",
    "Pune: Shaniwar Wade\n",
    "\n",
    "write a python script to implement this functionality"
   ]
  },
  {
   "cell_type": "code",
   "execution_count": 10,
   "id": "eeab48b2-1305-48a7-ad95-ad9c3ccc0696",
   "metadata": {},
   "outputs": [
    {
     "name": "stdin",
     "output_type": "stream",
     "text": [
      "Enter City:- delhi\n"
     ]
    },
    {
     "name": "stdout",
     "output_type": "stream",
     "text": [
      "Recoard Not Found\n"
     ]
    }
   ],
   "source": [
    "#solve:-\n",
    "user=input(\"Enter City:-\")\n",
    "if(user==\"mumbai\"):\n",
    "    print(\"Gateway of India\")\n",
    "elif(\"kolkata\"==user):\n",
    "    print(\"Victoria memorial\")\n",
    "elif(\"chennai\"==user):\n",
    "    print(\"Marina Garden\")\n",
    "elif(\"puna\"==user):\n",
    "    print(\"Shaniwar Wade\")\n",
    "\n",
    "else:\n",
    "    print(\"Recoard Not Found\")\n",
    "    \n",
    "    "
   ]
  },
  {
   "cell_type": "code",
   "execution_count": null,
   "id": "a833ae67-300f-4461-b48a-d618076cc78c",
   "metadata": {},
   "outputs": [],
   "source": []
  }
 ],
 "metadata": {
  "kernelspec": {
   "display_name": "Python 3 (ipykernel)",
   "language": "python",
   "name": "python3"
  },
  "language_info": {
   "codemirror_mode": {
    "name": "ipython",
    "version": 3
   },
   "file_extension": ".py",
   "mimetype": "text/x-python",
   "name": "python",
   "nbconvert_exporter": "python",
   "pygments_lexer": "ipython3",
   "version": "3.12.4"
  }
 },
 "nbformat": 4,
 "nbformat_minor": 5
}

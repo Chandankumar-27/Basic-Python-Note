{
 "cells": [
  {
   "cell_type": "markdown",
   "id": "5b283168-e7e4-4ef0-ad74-efaa76272316",
   "metadata": {},
   "source": [
    "# OPPS Part 1"
   ]
  },
  {
   "cell_type": "markdown",
   "id": "9b32618c-26bb-493d-a45f-cb34557d9792",
   "metadata": {},
   "source": [
    "### Procedural Programming"
   ]
  },
  {
   "cell_type": "code",
   "execution_count": 2,
   "id": "045729ab-bb88-4713-8b53-b6ddec05bbd4",
   "metadata": {},
   "outputs": [
    {
     "name": "stdout",
     "output_type": "stream",
     "text": [
      "30\n",
      "10\n"
     ]
    }
   ],
   "source": [
    "num=10\n",
    "num2=20\n",
    "sum=num+num2\n",
    "print(sum)\n",
    "diff=num2-num\n",
    "print(diff)"
   ]
  },
  {
   "cell_type": "markdown",
   "id": "47705c36-e4dd-4b12-a39f-3a65041422a7",
   "metadata": {},
   "source": [
    "### Functional Programming"
   ]
  },
  {
   "cell_type": "code",
   "execution_count": 6,
   "id": "08d2300c-817a-4a3b-bcdd-059fc4794a06",
   "metadata": {},
   "outputs": [
    {
     "name": "stdout",
     "output_type": "stream",
     "text": [
      "50\n",
      "10\n"
     ]
    }
   ],
   "source": [
    "def sum(x,y):\n",
    "    print(x+y)\n",
    "\n",
    "def subtrack(x,y):\n",
    "    print(y-x)\n",
    "\n",
    "x=20\n",
    "y=30\n",
    "sum(x,y)\n",
    "subtrack(x,y)"
   ]
  },
  {
   "cell_type": "markdown",
   "id": "4d290d52-3ac5-48ee-b783-65119c2b8692",
   "metadata": {},
   "source": [
    "## Object oriented Programming"
   ]
  },
  {
   "cell_type": "code",
   "execution_count": 12,
   "id": "c6269e80-4a8e-465d-aa16-822bed44eef7",
   "metadata": {},
   "outputs": [
    {
     "name": "stdout",
     "output_type": "stream",
     "text": [
      "35\n",
      "150\n"
     ]
    }
   ],
   "source": [
    "class calculater:\n",
    "    def sum(self,a,b):\n",
    "        print(a+b)\n",
    "    def substrack(self,a,b):\n",
    "        print(b-a)\n",
    "    def multi(self,a,b):\n",
    "        print(a*b)\n",
    "    def dived(self,a,b):\n",
    "        print(b/a)\n",
    "\n",
    "calcu=calculater()\n",
    "calcu.sum(10,25)\n",
    "calcu.multi(15,10)"
   ]
  },
  {
   "cell_type": "markdown",
   "id": "ff2e262d-7527-4687-8664-4f3deb420553",
   "metadata": {},
   "source": [
    "### Class-Object Example"
   ]
  },
  {
   "cell_type": "code",
   "execution_count": 18,
   "id": "e9e9743c-981f-4607-af22-60140d85d102",
   "metadata": {},
   "outputs": [
    {
     "name": "stdout",
     "output_type": "stream",
     "text": [
      "The Bule Totoya car is starting\n",
      "The Black honda car is starting\n"
     ]
    }
   ],
   "source": [
    " class car:\n",
    "\n",
    "     def start(self):\n",
    "         print(f\"The {self.color} {self.model} car is starting\")\n",
    "         \n",
    "# object creations and attibutes creation\n",
    "car1=car()\n",
    "car1.color=\"Bule\"\n",
    "car1.model=\"Totoya\"\n",
    "\n",
    "car2=car()\n",
    "car2.color=\"Black\"\n",
    "car2.model=\"honda\"\n",
    " \n",
    "# Method call \n",
    "car1.start()\n",
    "car2.start()"
   ]
  },
  {
   "cell_type": "markdown",
   "id": "725948a5-f49a-41d6-82d1-33b437731873",
   "metadata": {},
   "source": [
    "## init Function"
   ]
  },
  {
   "cell_type": "markdown",
   "id": "d345a7ac-9f8c-4fa2-9943-d355c3132525",
   "metadata": {},
   "source": [
    "inti__ Function kya hota hai??\n",
    "\n",
    "init function ek specle method hota hai jo class ke object create hone par automatic call hone lagta hai is function ka kaam hai obj ke intial properties ko set karna is function ko constructor bhii kehte hain"
   ]
  },
  {
   "cell_type": "raw",
   "id": "1db5a4db-a53e-4ead-821b-14785c627fc2",
   "metadata": {},
   "source": [
    "__init__ Function qu banate hai?\n",
    "\n",
    "Initialization: object ke properties ko initial value dena ke liye\n",
    "Automatic call: jab bhi object banate hain,__init__ function automatic call hota hai.\n",
    "consistency: Sab object ko consistent initial state dene ke liye."
   ]
  },
  {
   "cell_type": "code",
   "execution_count": null,
   "id": "2211d14d-bbb7-4efe-8bf1-4b863d94ec53",
   "metadata": {},
   "outputs": [],
   "source": []
  },
  {
   "cell_type": "code",
   "execution_count": 4,
   "id": "ca0c7664-9833-4149-a98b-5141beabcbb5",
   "metadata": {},
   "outputs": [
    {
     "name": "stdout",
     "output_type": "stream",
     "text": [
      "The black Toyta car is starting\n"
     ]
    }
   ],
   "source": [
    " class car:\n",
    "     def __init__(self,color,model):\n",
    "         self.color=color\n",
    "         self.model=model\n",
    "\n",
    "     def start(self):\n",
    "         print(f\"The {self.color} {self.model} car is starting\")\n",
    " \n",
    "# Method call \n",
    "car1=car(\"black\",\"Toyta\")\n",
    "car1.start()"
   ]
  },
  {
   "cell_type": "markdown",
   "id": "a92441f2-e2a7-4ff9-8a7c-cb07fbf1f4b8",
   "metadata": {},
   "source": [
    "### Polymorphism with function"
   ]
  },
  {
   "cell_type": "code",
   "execution_count": 2,
   "id": "7cce8d14-b9c8-4ddf-911b-e53353fa9bdd",
   "metadata": {},
   "outputs": [
    {
     "name": "stdout",
     "output_type": "stream",
     "text": [
      "Birds is flying\n",
      "Airoplain is flying\n"
     ]
    }
   ],
   "source": [
    "class birds:\n",
    "    def fly(self):\n",
    "        print(\"Birds is flying\")\n",
    "\n",
    "class Airoplain:\n",
    "    def fly(self):\n",
    "        print(\"Airoplain is flying\")\n",
    "\n",
    "bird=birds()\n",
    "airoplain=Airoplain()\n",
    "\n",
    "bird.fly()\n",
    "airoplain.fly()"
   ]
  },
  {
   "cell_type": "markdown",
   "id": "3a0b64f5-db8d-45a3-955d-e1ff63bc05ca",
   "metadata": {},
   "source": [
    "### Run time polymorphism - method over riding"
   ]
  },
  {
   "cell_type": "raw",
   "id": "ad707f86-60c7-4523-a4cd-d9377967c878",
   "metadata": {},
   "source": [
    "Method overring tab hota hai jab child class\n",
    "apne parent class ke method ko redefine krti hai.\n",
    "yeh ensure karta hai ki child class\n",
    "ka method call ho jab object child class ka ho."
   ]
  },
  {
   "cell_type": "code",
   "execution_count": 12,
   "id": "a8049b5a-ce78-469f-9096-c4a84ab0f9f9",
   "metadata": {},
   "outputs": [
    {
     "name": "stdout",
     "output_type": "stream",
     "text": [
      "Animal make a sound\n",
      "Dog Barks\n",
      "Cat Muewau\n"
     ]
    }
   ],
   "source": [
    "#Parent class\n",
    "class animal:\n",
    "    def make_sound(self):\n",
    "        print(\"Animal make a sound\")\n",
    "        \n",
    "#Child Class\n",
    "class dog(animal):\n",
    "    def make_sound(self):\n",
    "        print(\"Dog Barks\")\n",
    "\n",
    "#Child Class\n",
    "class cat(animal):\n",
    "    def make_sound(self):\n",
    "        print(\"Cat Muewau\")\n",
    "\n",
    "#object create\n",
    "Animal=animal()\n",
    "Dog=dog()\n",
    "Cat=cat()\n",
    "\n",
    "# function call by object\n",
    "Animal.make_sound()\n",
    "Dog.make_sound()\n",
    "Cat.make_sound()"
   ]
  },
  {
   "cell_type": "markdown",
   "id": "58d2a24b-1dbe-4458-a81f-29be37d93071",
   "metadata": {},
   "source": [
    "### Compile Time polymorphism -method overloading"
   ]
  },
  {
   "cell_type": "raw",
   "id": "d3166a54-8e87-4d3e-a286-3091ec92b993",
   "metadata": {},
   "source": [
    "python me method overloading directly support nahi karta,\n",
    "lekin hum default argument ka use kar ke \n",
    "ik method ko multiple tarike se use kar sakte hai."
   ]
  },
  {
   "cell_type": "code",
   "execution_count": 16,
   "id": "bf5783b2-03f0-4724-ad85-d7b42a45ac37",
   "metadata": {},
   "outputs": [
    {
     "name": "stdout",
     "output_type": "stream",
     "text": [
      "8\n",
      "19\n"
     ]
    }
   ],
   "source": [
    "class Calculater:\n",
    "    def add(self,a,b,c=0):\n",
    "        print(a+b+c)\n",
    "        \n",
    "#Object create\n",
    "calc=Calculater()\n",
    "calc.add(5,3) # simple compile time polymorphism\n",
    "calc.add(5,6,8) # this is the real time overloading methodd"
   ]
  },
  {
   "cell_type": "markdown",
   "id": "f4a56914-56ea-48fc-9242-877f6fcbd381",
   "metadata": {},
   "source": [
    "### Polymorphisam in real time scenario"
   ]
  },
  {
   "cell_type": "raw",
   "id": "02bf4b9a-25ba-47af-a531-1441ce381037",
   "metadata": {},
   "source": [
    "Imagian karo ek softwere application \n",
    "jo different type of media file ko \n",
    "play karta hai jaise audio file ar video files.\n",
    "hum ik mediaPlyar class create kar sakte hai \n",
    "jo play method ko define kare ga ar phir AudioPlyar\n",
    "aur VideoPlyar classes inherit karega MediaPlyer\n",
    "class ko aur play method ko override\n",
    "karega apne specific behavior ke liye."
   ]
  },
  {
   "cell_type": "code",
   "execution_count": 19,
   "id": "6c1febb6-c398-407c-ae16-d99e218b6997",
   "metadata": {},
   "outputs": [
    {
     "name": "stdout",
     "output_type": "stream",
     "text": [
      "Playing Media\n",
      "Play Audio File\n",
      "Play Video File\n"
     ]
    }
   ],
   "source": [
    "class MediaPlyar:\n",
    "    def play(self):\n",
    "        print(\"Playing Media\")\n",
    "        \n",
    "class audioplayer(MediaPlyar):\n",
    "    def play(self):\n",
    "        print(\"Play Audio File\")\n",
    "\n",
    "class videoPlyar(MediaPlyar):\n",
    "    def play(self):\n",
    "        print(\"Play Video File\")\n",
    "\n",
    "#create Object\n",
    "mediaplayer=MediaPlyar()\n",
    "Audioplayer=audioplayer()\n",
    "Videoplayer=videoPlyar()\n",
    "\n",
    "# function call\n",
    "mediaplayer.play() #That is over ridding method in polymorphism \n",
    "Audioplayer.play()\n",
    "Videoplayer.play()\n"
   ]
  },
  {
   "cell_type": "code",
   "execution_count": null,
   "id": "434ab00c-efcb-4fea-9400-e444fda53377",
   "metadata": {},
   "outputs": [],
   "source": []
  }
 ],
 "metadata": {
  "kernelspec": {
   "display_name": "Python 3 (ipykernel)",
   "language": "python",
   "name": "python3"
  },
  "language_info": {
   "codemirror_mode": {
    "name": "ipython",
    "version": 3
   },
   "file_extension": ".py",
   "mimetype": "text/x-python",
   "name": "python",
   "nbconvert_exporter": "python",
   "pygments_lexer": "ipython3",
   "version": "3.12.4"
  }
 },
 "nbformat": 4,
 "nbformat_minor": 5
}

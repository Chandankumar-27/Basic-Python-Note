{
 "cells": [
  {
   "cell_type": "markdown",
   "id": "c4042c64-4399-4929-88a5-26bac5a92372",
   "metadata": {},
   "source": [
    "# Bulit in Function"
   ]
  },
  {
   "cell_type": "markdown",
   "id": "a42fd11d-0d0b-4b9b-9dc8-381606f35cb0",
   "metadata": {},
   "source": [
    "### Float Function"
   ]
  },
  {
   "cell_type": "code",
   "execution_count": 6,
   "id": "85a66f94-9a67-4a41-9b03-32c9272190a0",
   "metadata": {},
   "outputs": [
    {
     "name": "stdout",
     "output_type": "stream",
     "text": [
      "10\n",
      "<class 'int'>\n",
      "10.0\n",
      "<class 'float'>\n"
     ]
    }
   ],
   "source": [
    "#integer to float num using float Function \n",
    "num=10\n",
    "print(num)\n",
    "print(type(num))\n",
    "a=float(num)#Float function \n",
    "print(a)\n",
    "print(type(a))"
   ]
  },
  {
   "cell_type": "code",
   "execution_count": 9,
   "id": "315d64b5-dca2-4e53-af81-236a14e3c34a",
   "metadata": {},
   "outputs": [
    {
     "name": "stdout",
     "output_type": "stream",
     "text": [
      "<class 'str'>\n",
      "3.14\n",
      "<class 'float'>\n"
     ]
    }
   ],
   "source": [
    "#string to float\n",
    "a=\"3.14\"\n",
    "print(type(a))\n",
    "b=float(a)#using Function\n",
    "print(b)\n",
    "print(type(b))#check data type"
   ]
  },
  {
   "cell_type": "markdown",
   "id": "3fc125c7-ef36-4cbb-9af7-27114097d508",
   "metadata": {},
   "source": [
    "### Int Function"
   ]
  },
  {
   "cell_type": "code",
   "execution_count": 11,
   "id": "95f98faa-a83f-46c4-9515-cfdc225e45d8",
   "metadata": {},
   "outputs": [
    {
     "name": "stdout",
     "output_type": "stream",
     "text": [
      "<class 'float'>\n",
      "5\n",
      "<class 'int'>\n"
     ]
    }
   ],
   "source": [
    "#float to integer\n",
    "a=5.32\n",
    "print(type(a))\n",
    "b=int(a)\n",
    "print(b)\n",
    "print(type(b))"
   ]
  },
  {
   "cell_type": "code",
   "execution_count": 12,
   "id": "583ab7da-03b9-4279-a000-d935aed6921e",
   "metadata": {},
   "outputs": [
    {
     "name": "stdout",
     "output_type": "stream",
     "text": [
      "<class 'str'>\n",
      "22\n",
      "<class 'int'>\n"
     ]
    }
   ],
   "source": [
    "#string to int\n",
    "a=\"22\"\n",
    "print(type(a))\n",
    "b=int(a)#using Function\n",
    "print(b)\n",
    "print(type(b))#check data type"
   ]
  },
  {
   "cell_type": "markdown",
   "id": "77f257dc-5903-4abe-8238-c3118307621a",
   "metadata": {},
   "source": [
    "### String Function"
   ]
  },
  {
   "cell_type": "code",
   "execution_count": 16,
   "id": "96938612-d65e-4ee8-bb66-73651050c76d",
   "metadata": {},
   "outputs": [
    {
     "name": "stdout",
     "output_type": "stream",
     "text": [
      "<class 'int'>\n",
      "56\n",
      "<class 'str'>\n",
      "562\n"
     ]
    }
   ],
   "source": [
    "a=56\n",
    "print(type(a))\n",
    "b=str(a)\n",
    "print(b)\n",
    "print(type(b))\n",
    "c=\"2\"\n",
    "print(b+c)"
   ]
  },
  {
   "cell_type": "markdown",
   "id": "15319e1b-f64b-4da9-969b-3f28d4279122",
   "metadata": {},
   "source": [
    "### Abs Function"
   ]
  },
  {
   "cell_type": "code",
   "execution_count": 2,
   "id": "7a52557b-11d1-423f-bf54-274c75abb2cf",
   "metadata": {},
   "outputs": [
    {
     "name": "stdout",
     "output_type": "stream",
     "text": [
      "23\n"
     ]
    }
   ],
   "source": [
    "x=-23\n",
    "print(abs(x))#Absulate value"
   ]
  },
  {
   "cell_type": "code",
   "execution_count": 3,
   "id": "6afd98ed-bdd4-458c-a467-706799e9fd26",
   "metadata": {},
   "outputs": [
    {
     "name": "stdout",
     "output_type": "stream",
     "text": [
      "2.3\n"
     ]
    }
   ],
   "source": [
    "x=-2.3\n",
    "print(abs(x))"
   ]
  },
  {
   "cell_type": "code",
   "execution_count": 5,
   "id": "dc7a6d68-7c7d-4355-9aaf-6c27547608c9",
   "metadata": {},
   "outputs": [
    {
     "name": "stdout",
     "output_type": "stream",
     "text": [
      "5.0\n"
     ]
    }
   ],
   "source": [
    "x=-3+4j\n",
    "print(abs(x))# both are square and in under root and add"
   ]
  },
  {
   "cell_type": "markdown",
   "id": "bddfa1ef-9161-4b30-aabb-f22066b61ee9",
   "metadata": {},
   "source": [
    "### len Function"
   ]
  },
  {
   "cell_type": "code",
   "execution_count": 11,
   "id": "fcf8de6a-a09f-4b3d-a4ee-939e56e52570",
   "metadata": {},
   "outputs": [
    {
     "name": "stdout",
     "output_type": "stream",
     "text": [
      "30\n"
     ]
    }
   ],
   "source": [
    "#String len\n",
    "x=\"hello i am your educator swati\"\n",
    "print(len(x))"
   ]
  },
  {
   "cell_type": "code",
   "execution_count": 8,
   "id": "96b3ec1f-5a7a-496a-9ddf-7a723b965b9f",
   "metadata": {},
   "outputs": [
    {
     "name": "stdout",
     "output_type": "stream",
     "text": [
      "20\n"
     ]
    }
   ],
   "source": [
    "y=\"hey i am chandan rai\"\n",
    "print(len(y))"
   ]
  },
  {
   "cell_type": "code",
   "execution_count": 9,
   "id": "bd6dd860-97cf-42ea-97d9-867ad2a6c2de",
   "metadata": {},
   "outputs": [
    {
     "name": "stdout",
     "output_type": "stream",
     "text": [
      "6\n"
     ]
    }
   ],
   "source": [
    "#int len\n",
    "a=[2,5,5,77,35,45]\n",
    "print(len(a))"
   ]
  },
  {
   "cell_type": "markdown",
   "id": "51f98fcc-0ce4-45db-a436-72c2edd04a7e",
   "metadata": {},
   "source": [
    "### Practics Question"
   ]
  },
  {
   "cell_type": "markdown",
   "id": "474ffe0c-335a-4000-818e-ae5fa0e7f54d",
   "metadata": {},
   "source": [
    "##### Question 1"
   ]
  },
  {
   "cell_type": "markdown",
   "id": "f52f5134-b410-46e7-a08b-52175acba2c2",
   "metadata": {},
   "source": [
    "in a game application, the player's score is stored \n",
    "as a floating-point number However, for leaderbord display,\n",
    "you need to convert the score to an integer.\n",
    "how would you use the int() function to convert the\n",
    "player's score from floting- point to integer format?\n",
    "pls solve this with code, play score=1234.56"
   ]
  },
  {
   "cell_type": "code",
   "execution_count": 10,
   "id": "80444eb2-16ec-4355-9d7c-f1676a8f21a9",
   "metadata": {},
   "outputs": [
    {
     "name": "stdout",
     "output_type": "stream",
     "text": [
      "1234\n",
      "<class 'int'>\n"
     ]
    }
   ],
   "source": [
    "#solve:-\n",
    "player_score=1234.56\n",
    "#convert in to integer value\n",
    "x=int(player_score)\n",
    "print(x)\n",
    "print(type(x))"
   ]
  },
  {
   "cell_type": "markdown",
   "id": "35ec55f2-aef1-4871-a50a-72f449a39dde",
   "metadata": {},
   "source": [
    "##### Question 2"
   ]
  },
  {
   "cell_type": "raw",
   "id": "d5e4e47c-558f-4b88-9ded-666033688946",
   "metadata": {},
   "source": [
    "in a customer relationship management(CRM) system \n",
    "for a retail company, you hava a data base contaning\n",
    "customer records. how would you use the len() function to find the total number of customer in the database, \n",
    "allowing the company to track its custmer base?\n",
    "\n",
    "customer_database= [\n",
    "    (1. 'jhon Doe', 'jhon@example.com'),\n",
    "     (2. 'jane smith', 'jane@example.com),\n",
    "     (3. 'alice jhonson', 'alice@example.com),\n",
    "]"
   ]
  },
  {
   "cell_type": "code",
   "execution_count": 16,
   "id": "ed2d8634-0c05-411d-a794-0c6438b9025e",
   "metadata": {},
   "outputs": [
    {
     "name": "stdout",
     "output_type": "stream",
     "text": [
      "The total number of customer in the database is:- 3\n"
     ]
    }
   ],
   "source": [
    "#solve:-\n",
    "customer_database= [\n",
    "    (1, 'jhon Doe', 'jhon@example.com'),\n",
    "     (2, 'jane smith', 'jane@example.com'),\n",
    "     (3, 'alice jhonson', 'alice@example.com'),\n",
    "]\n",
    "print(\"The total number of customer in the database is:-\",len(customer_database))"
   ]
  },
  {
   "cell_type": "markdown",
   "id": "e17d265d-5839-4971-ab50-f724a8225675",
   "metadata": {},
   "source": [
    "#### Question 3"
   ]
  },
  {
   "cell_type": "markdown",
   "id": "01ca7e58-9188-4750-9627-5f9e578d9ce5",
   "metadata": {},
   "source": [
    "you're devloping a finance application that calculate simple intrest.\n",
    "The principal amount is 250000 Rs, the interst rate is 9.34567%,\n",
    "and the time period is 3 years . calculate the simple intrest,\n",
    "and the final values should be a integer."
   ]
  },
  {
   "cell_type": "code",
   "execution_count": 20,
   "id": "bfbf00a6-7797-4aa4-bf25-92d55619c812",
   "metadata": {},
   "outputs": [
    {
     "name": "stdout",
     "output_type": "stream",
     "text": [
      "The simple intrest is:- 70092\n"
     ]
    }
   ],
   "source": [
    "#solve:-\n",
    "principal_amt=250000\n",
    "time_period=3\n",
    "rate_intrest=9.34567\n",
    "#calculate simple Intrest\n",
    "simple_intrest=(principal_amt*time_period*rate_intrest)/100\n",
    "print(\"The simple intrest is:-\",(int(simple_intrest)))"
   ]
  },
  {
   "cell_type": "markdown",
   "id": "41a867d1-986b-4613-a9e9-d0e5121d5364",
   "metadata": {},
   "source": [
    "#### Home Work"
   ]
  },
  {
   "cell_type": "markdown",
   "id": "831cbf72-a2f1-4052-a4fd-e2a283d383e9",
   "metadata": {},
   "source": [
    "You're working at a travel company, responsible for managing passenger informaction.\n",
    "due to a technical glitch in the system, some passenger's\n",
    "age were  mistakenly recoded as negative value. However,age can not be negative,\n",
    "before further analysis or reporting.\n",
    "\n",
    "which function you will use to correct the age of all passenger \n",
    "in the database where negative ages were recoderd due to a tachnical glitch?"
   ]
  },
  {
   "cell_type": "code",
   "execution_count": 29,
   "id": "a5cc330c-2f0d-4643-83c0-e0a698e48480",
   "metadata": {},
   "outputs": [
    {
     "name": "stdout",
     "output_type": "stream",
     "text": [
      "[25, 36, 45, 55, 18]\n"
     ]
    }
   ],
   "source": [
    "#solve:-\n",
    "passenger_age = [25, -36, -45, -55, 18]\n",
    "\n",
    "# Apply the abs function to each age in the list\n",
    "absolute_ages = [abs(age) for age in passenger_age]\n",
    "\n",
    "print(absolute_ages)"
   ]
  }
 ],
 "metadata": {
  "kernelspec": {
   "display_name": "Python 3 (ipykernel)",
   "language": "python",
   "name": "python3"
  },
  "language_info": {
   "codemirror_mode": {
    "name": "ipython",
    "version": 3
   },
   "file_extension": ".py",
   "mimetype": "text/x-python",
   "name": "python",
   "nbconvert_exporter": "python",
   "pygments_lexer": "ipython3",
   "version": "3.12.4"
  }
 },
 "nbformat": 4,
 "nbformat_minor": 5
}

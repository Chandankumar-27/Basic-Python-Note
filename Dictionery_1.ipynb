{
 "cells": [
  {
   "cell_type": "markdown",
   "id": "666270e8-4017-412e-85d7-a83874929bdc",
   "metadata": {},
   "source": [
    "# Dictionary part 1"
   ]
  },
  {
   "cell_type": "markdown",
   "id": "e512cb7f-3bca-4629-8a4d-536c6fac979a",
   "metadata": {},
   "source": [
    "### Creating simple dictionary"
   ]
  },
  {
   "cell_type": "code",
   "execution_count": 1,
   "id": "be40fc44-a9df-48fc-8c24-5ed7cdef92bf",
   "metadata": {},
   "outputs": [
    {
     "name": "stdout",
     "output_type": "stream",
     "text": [
      "{'name': 'chandan', 'age': 30, 'city': 'Delhi'}\n",
      "<class 'dict'>\n"
     ]
    }
   ],
   "source": [
    "persion={\n",
    "    'name':\"chandan\",\n",
    "    'age': 30,\n",
    "    'city':\"Delhi\"\n",
    "}\n",
    "print(persion)\n",
    "print(type(persion))"
   ]
  },
  {
   "cell_type": "markdown",
   "id": "fb894ecc-f30e-47bd-9038-146aec106b65",
   "metadata": {},
   "source": [
    "### Dictionary with different data types"
   ]
  },
  {
   "cell_type": "code",
   "execution_count": 2,
   "id": "9847c14e-d301-41a9-a664-6e9df0c858f1",
   "metadata": {},
   "outputs": [
    {
     "name": "stdout",
     "output_type": "stream",
     "text": [
      "{'name': 'chandan', 'age': 30, 'is_student': True, 'course': ['math', 'science', 'english'], 'address': {'street': '123 main st', 'city': 'Delhi', 'zipcode': 121003}}\n",
      "<class 'dict'>\n"
     ]
    }
   ],
   "source": [
    "mixed_dic={\n",
    "    'name':\"chandan\",\n",
    "    'age':30,\n",
    "    'is_student': True,\n",
    "    'course':['math','science','english'],\n",
    "    'address':{\n",
    "        'street':\"123 main st\",\n",
    "        'city':'Delhi',\n",
    "        'zipcode':121003\n",
    "    }\n",
    "}\n",
    "print(mixed_dic)\n",
    "print(type(mixed_dic))"
   ]
  },
  {
   "cell_type": "markdown",
   "id": "80306059-f93a-41dc-bf2e-cadf75d8e28e",
   "metadata": {},
   "source": [
    "### Empty dictionary "
   ]
  },
  {
   "cell_type": "code",
   "execution_count": 5,
   "id": "502710e7-5873-4d15-9f5e-907343310469",
   "metadata": {},
   "outputs": [
    {
     "name": "stdout",
     "output_type": "stream",
     "text": [
      "<class 'dict'>\n"
     ]
    }
   ],
   "source": [
    "empty={}\n",
    "print(type(empty))"
   ]
  },
  {
   "cell_type": "markdown",
   "id": "1d114580-e75b-45f5-8998-85c4adda1cca",
   "metadata": {},
   "source": [
    "### Dict constructor with creat empty dictionary"
   ]
  },
  {
   "cell_type": "code",
   "execution_count": 8,
   "id": "348a664d-0fae-4ad6-928f-0ea553361ccf",
   "metadata": {},
   "outputs": [
    {
     "name": "stdout",
     "output_type": "stream",
     "text": [
      "{'name': 'chandan', 'age': 25, 'city': 'mumbai'}\n",
      "<class 'dict'>\n"
     ]
    }
   ],
   "source": [
    "persion=dict(name= 'chandan',age=25,city=\"mumbai\")\n",
    "print(persion)\n",
    "print(type(persion))"
   ]
  },
  {
   "cell_type": "markdown",
   "id": "1f5a59bd-6b11-433e-a444-e75c67c5d1a8",
   "metadata": {},
   "source": [
    "## Dictionery comprehension\n",
    "#### square of natural number is one line code "
   ]
  },
  {
   "cell_type": "code",
   "execution_count": 11,
   "id": "73ece1af-619e-4ffc-9612-359fa96aa209",
   "metadata": {},
   "outputs": [
    {
     "name": "stdout",
     "output_type": "stream",
     "text": [
      "{0: 0, 1: 1, 2: 4, 3: 9, 4: 16, 5: 25}\n",
      "<class 'dict'>\n"
     ]
    }
   ],
   "source": [
    "square={x:x*x for x in range(6)}\n",
    "print(square)\n",
    "print(type(square))"
   ]
  },
  {
   "cell_type": "markdown",
   "id": "0b85bdcc-bf90-48bb-a486-69127ff80ba9",
   "metadata": {},
   "source": [
    "## Practice Question"
   ]
  },
  {
   "cell_type": "raw",
   "id": "60ef6d72-2258-4399-9ef8-88e1195313af",
   "metadata": {},
   "source": [
    "Imagine you are managing an inventory of products in a store\n",
    "Creat a python program that initializes a dictionary\n",
    "to store the folling informaction about products:\n",
    "\n",
    "Product ID as the key (an integer).\n",
    "Product name as the value (a srtig)\n",
    "Your program should:\n",
    "\n",
    "Creat an empty dictnoary.\n",
    "prompt the user to enter details for at least 3 products.\n",
    "Populate the dictionary with the entered product IDs and name.\n",
    "Display the final dictionary containing all product IDs and names.\n"
   ]
  },
  {
   "cell_type": "code",
   "execution_count": 5,
   "id": "9ec26f14-8b2b-4a26-93c4-f93e90391cba",
   "metadata": {},
   "outputs": [
    {
     "name": "stdin",
     "output_type": "stream",
     "text": [
      "Enter the product of number:- 2\n",
      "enter product IDs 1:- 778\n",
      "enter product name 778:- chai\n",
      "enter product IDs 2:- 889\n",
      "enter product name 889:- chini\n"
     ]
    },
    {
     "name": "stdout",
     "output_type": "stream",
     "text": [
      "{778: 'chai', 889: 'chini'}\n"
     ]
    }
   ],
   "source": [
    "#creating empty dictnoary\n",
    "dict={}\n",
    "number=int(input(\"Enter the product of number:-\"))\n",
    "for i in range(1,number+1):\n",
    "    product_num=int(input(f\"enter product IDs {i}:-\"))\n",
    "    product_details=input(f\"enter product name {product_num}:-\")\n",
    "    dict[product_num]=product_details\n",
    "\n",
    "print(dict)\n"
   ]
  },
  {
   "cell_type": "markdown",
   "id": "f673030a-6e83-454f-935e-2ff407b414e7",
   "metadata": {},
   "source": [
    "## Characterstics of the dictionary"
   ]
  },
  {
   "cell_type": "markdown",
   "id": "d7ed8e1e-e554-47ae-8f48-4bf1448ab944",
   "metadata": {},
   "source": [
    "### Asessing Values Using keys"
   ]
  },
  {
   "cell_type": "code",
   "execution_count": 9,
   "id": "736feb22-1eba-46b7-ad4a-c855c637d2d3",
   "metadata": {},
   "outputs": [
    {
     "name": "stdout",
     "output_type": "stream",
     "text": [
      "swati\n",
      "30\n",
      "Delhi\n"
     ]
    }
   ],
   "source": [
    "person={\n",
    "    'name': \"swati\",\n",
    "    'age':30,\n",
    "    'city':\"Delhi\"\n",
    "}\n",
    "print(person['name'])\n",
    "print(person['age'])\n",
    "print(person['city'])"
   ]
  },
  {
   "cell_type": "markdown",
   "id": "9752e115-70be-4a03-8656-72597370be1c",
   "metadata": {},
   "source": [
    "### Flexible key types\n",
    "##### while keys in dictionary must be unique , they can be of various data types ,including string, integer float and tuple."
   ]
  },
  {
   "cell_type": "code",
   "execution_count": 2,
   "id": "92e79b2e-4f6d-44f3-b522-710b30573bc0",
   "metadata": {},
   "outputs": [
    {
     "name": "stdout",
     "output_type": "stream",
     "text": [
      "{'name': 'chandan', 123: 'integer key', (1, 2): 'tuple', 3.5: 'float key'}\n"
     ]
    }
   ],
   "source": [
    "person={\n",
    "    'name': \"chandan\",\n",
    "    123:\"integer key\",\n",
    "    (1,2):\"tuple\",\n",
    "    3.5:\"float key\"\n",
    "}\n",
    "print(person)"
   ]
  },
  {
   "cell_type": "markdown",
   "id": "e037a69c-daed-44db-b72b-a8ed4e996ada",
   "metadata": {},
   "source": [
    "### Duplicate not allowed"
   ]
  },
  {
   "cell_type": "code",
   "execution_count": 5,
   "id": "8745d2d1-e742-4bcd-968d-469b766594d2",
   "metadata": {},
   "outputs": [
    {
     "name": "stdout",
     "output_type": "stream",
     "text": [
      "{'ID': '1234Q', 'Color': 'red', 'Year': 2000}\n"
     ]
    }
   ],
   "source": [
    "dict={\n",
    "    ''\n",
    "    'ID':'1234Q',\n",
    "    'Color':'red',\n",
    "    'Year':1964,\n",
    "    'Year':2000\n",
    "}\n",
    "print(dict)"
   ]
  },
  {
   "cell_type": "code",
   "execution_count": null,
   "id": "c4b1d76d-c239-4c62-8a7e-4067c4ea7fd2",
   "metadata": {},
   "outputs": [],
   "source": []
  }
 ],
 "metadata": {
  "kernelspec": {
   "display_name": "Python 3 (ipykernel)",
   "language": "python",
   "name": "python3"
  },
  "language_info": {
   "codemirror_mode": {
    "name": "ipython",
    "version": 3
   },
   "file_extension": ".py",
   "mimetype": "text/x-python",
   "name": "python",
   "nbconvert_exporter": "python",
   "pygments_lexer": "ipython3",
   "version": "3.12.4"
  }
 },
 "nbformat": 4,
 "nbformat_minor": 5
}

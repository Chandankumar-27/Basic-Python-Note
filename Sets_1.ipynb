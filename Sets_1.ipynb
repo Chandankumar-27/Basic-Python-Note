{
 "cells": [
  {
   "cell_type": "markdown",
   "id": "dc0f89e0-7369-4541-be47-203f1bfcdf92",
   "metadata": {},
   "source": [
    "# Sets Part 1"
   ]
  },
  {
   "cell_type": "markdown",
   "id": "4c39f0f6-db19-4d6f-9fe4-e9e893d6b243",
   "metadata": {},
   "source": [
    "### Creating sets {}"
   ]
  },
  {
   "cell_type": "code",
   "execution_count": 2,
   "id": "bc356a3e-531a-4482-8367-581f7bb7b1c0",
   "metadata": {},
   "outputs": [
    {
     "name": "stdout",
     "output_type": "stream",
     "text": [
      "{1, 2, 3, 4}\n",
      "<class 'set'>\n"
     ]
    }
   ],
   "source": [
    "my_var={1,2,3,4}\n",
    "print((my_var))\n",
    "print(type(my_var))"
   ]
  },
  {
   "cell_type": "markdown",
   "id": "c1a7de88-52e8-4cf2-bf33-c424cf227153",
   "metadata": {},
   "source": [
    "### set()method 2nd way using function"
   ]
  },
  {
   "cell_type": "code",
   "execution_count": 9,
   "id": "d2b62c73-2c6a-4094-b5ec-701b5765eb4d",
   "metadata": {},
   "outputs": [
    {
     "name": "stdout",
     "output_type": "stream",
     "text": [
      "{40, 10, 20, 30}\n",
      "<class 'set'>\n"
     ]
    }
   ],
   "source": [
    "another_set= set((10,20,30,40))\n",
    "print(another_set)\n",
    "print(type(another_set))"
   ]
  },
  {
   "cell_type": "markdown",
   "id": "06b4f1f3-5974-4480-b473-fc3a4ef58d04",
   "metadata": {},
   "source": [
    "###  Creating Empty set"
   ]
  },
  {
   "cell_type": "code",
   "execution_count": 14,
   "id": "cf7e0048-035f-479c-aa5e-2939e4de4269",
   "metadata": {},
   "outputs": [
    {
     "name": "stdout",
     "output_type": "stream",
     "text": [
      "set()\n",
      "<class 'set'>\n"
     ]
    }
   ],
   "source": [
    "x=set() # using function\n",
    "print(x)\n",
    "print(type(x))"
   ]
  },
  {
   "cell_type": "markdown",
   "id": "f0195c63-428c-4f4f-b3d2-b7124c28aba9",
   "metadata": {},
   "source": [
    "### Properties of set"
   ]
  },
  {
   "cell_type": "markdown",
   "id": "f82ff765-f7a8-4316-a382-0a3de5a010b9",
   "metadata": {},
   "source": [
    "#### 1. Unordered"
   ]
  },
  {
   "cell_type": "code",
   "execution_count": 13,
   "id": "8fb4e99c-d2e5-4432-8867-9e5be899ed49",
   "metadata": {},
   "outputs": [
    {
     "name": "stdout",
     "output_type": "stream",
     "text": [
      "{1, 2, 3, 4, 58, 78}\n"
     ]
    }
   ],
   "source": [
    "my_set={3,4,58,78,1,2}\n",
    "print(my_set)"
   ]
  },
  {
   "cell_type": "markdown",
   "id": "c3d2af28-debc-448c-9f2b-02e969e7bc50",
   "metadata": {},
   "source": [
    "#### 2. No indexing/slicing"
   ]
  },
  {
   "cell_type": "code",
   "execution_count": 3,
   "id": "34407f3b-99ad-4a4e-8ecf-fa91d84caa08",
   "metadata": {},
   "outputs": [
    {
     "ename": "TypeError",
     "evalue": "'set' object is not subscriptable",
     "output_type": "error",
     "traceback": [
      "\u001b[1;31m---------------------------------------------------------------------------\u001b[0m",
      "\u001b[1;31mTypeError\u001b[0m                                 Traceback (most recent call last)",
      "Cell \u001b[1;32mIn[3], line 2\u001b[0m\n\u001b[0;32m      1\u001b[0m my_set\u001b[38;5;241m=\u001b[39m{\u001b[38;5;241m3\u001b[39m,\u001b[38;5;241m4\u001b[39m,\u001b[38;5;241m58\u001b[39m,\u001b[38;5;241m78\u001b[39m,\u001b[38;5;241m1\u001b[39m,\u001b[38;5;241m2\u001b[39m}\n\u001b[1;32m----> 2\u001b[0m \u001b[38;5;28mprint\u001b[39m(my_set[\u001b[38;5;241m0\u001b[39m])\n\u001b[0;32m      3\u001b[0m \u001b[38;5;28mprint\u001b[39m(my_set[\u001b[38;5;241m0\u001b[39m:\u001b[38;5;241m3\u001b[39m])\n",
      "\u001b[1;31mTypeError\u001b[0m: 'set' object is not subscriptable"
     ]
    }
   ],
   "source": [
    "my_set={3,4,58,78,1,2}\n",
    "print(my_set[0])\n",
    "print(my_set[0:3])"
   ]
  },
  {
   "cell_type": "markdown",
   "id": "06718fa8-5d2a-4467-982f-b879dc4b283b",
   "metadata": {},
   "source": [
    "#### 3. Unique Eliment\n",
    "##### repeated value ignore"
   ]
  },
  {
   "cell_type": "code",
   "execution_count": 4,
   "id": "8cb22678-874d-4080-b7b5-ffcc50439374",
   "metadata": {},
   "outputs": [
    {
     "name": "stdout",
     "output_type": "stream",
     "text": [
      "{1, 2, 3, 4, 66, 78, 112, 85, 58}\n"
     ]
    }
   ],
   "source": [
    "my_set={3,4,58,78,1,2,85,66,78,112,3,3,3,78,78}\n",
    "print(my_set)"
   ]
  },
  {
   "cell_type": "markdown",
   "id": "6f019e98-3934-44e0-a810-4bab692169ad",
   "metadata": {},
   "source": [
    "#### 4. Itrable"
   ]
  },
  {
   "cell_type": "code",
   "execution_count": 5,
   "id": "ec88434b-3b95-4a25-b824-3153d0e110db",
   "metadata": {},
   "outputs": [
    {
     "name": "stdout",
     "output_type": "stream",
     "text": [
      "1\n",
      "2\n",
      "3\n",
      "4\n",
      "66\n",
      "78\n",
      "112\n",
      "85\n",
      "58\n"
     ]
    }
   ],
   "source": [
    "my_set={3,4,58,78,1,2,85,66,78,112,3,3,3,78,78}\n",
    "for i in my_set:\n",
    "    print(i)"
   ]
  },
  {
   "cell_type": "markdown",
   "id": "70dc4de0-58e3-469c-9157-cc2c646b146b",
   "metadata": {},
   "source": [
    "#### 5. Hashable Element\n",
    "###### only hashable object can be add to a set this means that sets cannot contain mutable types like lists or dictions"
   ]
  },
  {
   "cell_type": "code",
   "execution_count": 7,
   "id": "79545841-3b17-42e6-993d-eaa1ce337d81",
   "metadata": {},
   "outputs": [
    {
     "name": "stdout",
     "output_type": "stream",
     "text": [
      "{65, 1, 3, 5, 'chandan', 45, (10, 20)}\n"
     ]
    }
   ],
   "source": [
    "my_set={1,3,5,45,65,(10,20),\"chandan\"}\n",
    "print(my_set)"
   ]
  },
  {
   "cell_type": "code",
   "execution_count": 9,
   "id": "8142a6f8-77dd-4366-88ce-e0f14c4ae43c",
   "metadata": {},
   "outputs": [
    {
     "ename": "TypeError",
     "evalue": "unhashable type: 'list'",
     "output_type": "error",
     "traceback": [
      "\u001b[1;31m---------------------------------------------------------------------------\u001b[0m",
      "\u001b[1;31mTypeError\u001b[0m                                 Traceback (most recent call last)",
      "Cell \u001b[1;32mIn[9], line 1\u001b[0m\n\u001b[1;32m----> 1\u001b[0m my_set1\u001b[38;5;241m=\u001b[39m{\u001b[38;5;241m1\u001b[39m,\u001b[38;5;241m3\u001b[39m,\u001b[38;5;241m5\u001b[39m,\u001b[38;5;241m45\u001b[39m,\u001b[38;5;241m65\u001b[39m,[\u001b[38;5;241m10\u001b[39m,\u001b[38;5;241m20\u001b[39m],\u001b[38;5;124m\"\u001b[39m\u001b[38;5;124mchandan\u001b[39m\u001b[38;5;124m\"\u001b[39m}\n\u001b[0;32m      2\u001b[0m \u001b[38;5;28mprint\u001b[39m(my_set1)\n",
      "\u001b[1;31mTypeError\u001b[0m: unhashable type: 'list'"
     ]
    }
   ],
   "source": [
    "my_set1={1,3,5,45,65,[10,20],\"chandan\"}\n",
    "print(my_set1) #get earror bcz list is not hasable"
   ]
  },
  {
   "cell_type": "code",
   "execution_count": 12,
   "id": "a608ad23-f390-423b-96dd-043df5c65ce5",
   "metadata": {},
   "outputs": [
    {
     "ename": "TypeError",
     "evalue": "unhashable type: 'dict'",
     "output_type": "error",
     "traceback": [
      "\u001b[1;31m---------------------------------------------------------------------------\u001b[0m",
      "\u001b[1;31mTypeError\u001b[0m                                 Traceback (most recent call last)",
      "Cell \u001b[1;32mIn[12], line 1\u001b[0m\n\u001b[1;32m----> 1\u001b[0m x\u001b[38;5;241m=\u001b[39m{{\u001b[38;5;124m'\u001b[39m\u001b[38;5;124ma\u001b[39m\u001b[38;5;124m'\u001b[39m:\u001b[38;5;241m1\u001b[39m, \u001b[38;5;124m'\u001b[39m\u001b[38;5;124mb\u001b[39m\u001b[38;5;124m'\u001b[39m:\u001b[38;5;241m2\u001b[39m},}\n\u001b[0;32m      2\u001b[0m \u001b[38;5;28mprint\u001b[39m(x)\n",
      "\u001b[1;31mTypeError\u001b[0m: unhashable type: 'dict'"
     ]
    }
   ],
   "source": [
    "x={{'a':1, 'b':2},}\n",
    "print(x) #get earror bcz dictionaries is not hasable"
   ]
  },
  {
   "cell_type": "code",
   "execution_count": null,
   "id": "17607d66-06f2-46d1-b60f-6bdd46952fd3",
   "metadata": {},
   "outputs": [],
   "source": []
  }
 ],
 "metadata": {
  "kernelspec": {
   "display_name": "Python 3 (ipykernel)",
   "language": "python",
   "name": "python3"
  },
  "language_info": {
   "codemirror_mode": {
    "name": "ipython",
    "version": 3
   },
   "file_extension": ".py",
   "mimetype": "text/x-python",
   "name": "python",
   "nbconvert_exporter": "python",
   "pygments_lexer": "ipython3",
   "version": "3.12.4"
  }
 },
 "nbformat": 4,
 "nbformat_minor": 5
}
